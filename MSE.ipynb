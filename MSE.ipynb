{
  "cells": [
    {
      "cell_type": "markdown",
      "metadata": {
        "id": "view-in-github",
        "colab_type": "text"
      },
      "source": [
        "<a href=\"https://colab.research.google.com/github/anandhc6/Assignment1/blob/main/MSE.ipynb\" target=\"_parent\"><img src=\"https://colab.research.google.com/assets/colab-badge.svg\" alt=\"Open In Colab\"/></a>"
      ]
    },
    {
      "cell_type": "code",
      "execution_count": 3,
      "metadata": {
        "colab": {
          "base_uri": "https://localhost:8080/"
        },
        "id": "P_iRYe-nB_As",
        "outputId": "638e5c23-2052-4654-82c8-38cc9824e7b8"
      },
      "outputs": [
        {
          "output_type": "stream",
          "name": "stdout",
          "text": [
            "Collecting wandb\n",
            "  Downloading wandb-0.12.10-py2.py3-none-any.whl (1.7 MB)\n",
            "\u001b[K     |████████████████████████████████| 1.7 MB 5.1 MB/s \n",
            "\u001b[?25hCollecting shortuuid>=0.5.0\n",
            "  Downloading shortuuid-1.0.8-py3-none-any.whl (9.5 kB)\n",
            "Requirement already satisfied: psutil>=5.0.0 in /usr/local/lib/python3.7/dist-packages (from wandb) (5.4.8)\n",
            "Requirement already satisfied: protobuf>=3.12.0 in /usr/local/lib/python3.7/dist-packages (from wandb) (3.17.3)\n",
            "Requirement already satisfied: Click!=8.0.0,>=7.0 in /usr/local/lib/python3.7/dist-packages (from wandb) (7.1.2)\n",
            "Requirement already satisfied: requests<3,>=2.0.0 in /usr/local/lib/python3.7/dist-packages (from wandb) (2.23.0)\n",
            "Requirement already satisfied: promise<3,>=2.0 in /usr/local/lib/python3.7/dist-packages (from wandb) (2.3)\n",
            "Collecting sentry-sdk>=1.0.0\n",
            "  Downloading sentry_sdk-1.5.6-py2.py3-none-any.whl (144 kB)\n",
            "\u001b[K     |████████████████████████████████| 144 kB 49.0 MB/s \n",
            "\u001b[?25hCollecting yaspin>=1.0.0\n",
            "  Downloading yaspin-2.1.0-py3-none-any.whl (18 kB)\n",
            "Requirement already satisfied: six>=1.13.0 in /usr/local/lib/python3.7/dist-packages (from wandb) (1.15.0)\n",
            "Collecting pathtools\n",
            "  Downloading pathtools-0.1.2.tar.gz (11 kB)\n",
            "Collecting docker-pycreds>=0.4.0\n",
            "  Downloading docker_pycreds-0.4.0-py2.py3-none-any.whl (9.0 kB)\n",
            "Collecting GitPython>=1.0.0\n",
            "  Downloading GitPython-3.1.27-py3-none-any.whl (181 kB)\n",
            "\u001b[K     |████████████████████████████████| 181 kB 51.5 MB/s \n",
            "\u001b[?25hRequirement already satisfied: PyYAML in /usr/local/lib/python3.7/dist-packages (from wandb) (3.13)\n",
            "Requirement already satisfied: python-dateutil>=2.6.1 in /usr/local/lib/python3.7/dist-packages (from wandb) (2.8.2)\n",
            "Collecting gitdb<5,>=4.0.1\n",
            "  Downloading gitdb-4.0.9-py3-none-any.whl (63 kB)\n",
            "\u001b[K     |████████████████████████████████| 63 kB 1.2 MB/s \n",
            "\u001b[?25hRequirement already satisfied: typing-extensions>=3.7.4.3 in /usr/local/lib/python3.7/dist-packages (from GitPython>=1.0.0->wandb) (3.10.0.2)\n",
            "Collecting smmap<6,>=3.0.1\n",
            "  Downloading smmap-5.0.0-py3-none-any.whl (24 kB)\n",
            "Requirement already satisfied: idna<3,>=2.5 in /usr/local/lib/python3.7/dist-packages (from requests<3,>=2.0.0->wandb) (2.10)\n",
            "Requirement already satisfied: chardet<4,>=3.0.2 in /usr/local/lib/python3.7/dist-packages (from requests<3,>=2.0.0->wandb) (3.0.4)\n",
            "Requirement already satisfied: urllib3!=1.25.0,!=1.25.1,<1.26,>=1.21.1 in /usr/local/lib/python3.7/dist-packages (from requests<3,>=2.0.0->wandb) (1.24.3)\n",
            "Requirement already satisfied: certifi>=2017.4.17 in /usr/local/lib/python3.7/dist-packages (from requests<3,>=2.0.0->wandb) (2021.10.8)\n",
            "Requirement already satisfied: termcolor<2.0.0,>=1.1.0 in /usr/local/lib/python3.7/dist-packages (from yaspin>=1.0.0->wandb) (1.1.0)\n",
            "Building wheels for collected packages: pathtools\n",
            "  Building wheel for pathtools (setup.py) ... \u001b[?25l\u001b[?25hdone\n",
            "  Created wheel for pathtools: filename=pathtools-0.1.2-py3-none-any.whl size=8806 sha256=8951ae15e632e0c99c361f046f93bd108de980feb281751c29b148d541b158ef\n",
            "  Stored in directory: /root/.cache/pip/wheels/3e/31/09/fa59cef12cdcfecc627b3d24273699f390e71828921b2cbba2\n",
            "Successfully built pathtools\n",
            "Installing collected packages: smmap, gitdb, yaspin, shortuuid, sentry-sdk, pathtools, GitPython, docker-pycreds, wandb\n",
            "Successfully installed GitPython-3.1.27 docker-pycreds-0.4.0 gitdb-4.0.9 pathtools-0.1.2 sentry-sdk-1.5.6 shortuuid-1.0.8 smmap-5.0.0 wandb-0.12.10 yaspin-2.1.0\n"
          ]
        }
      ],
      "source": [
        "!pip install wandb"
      ]
    },
    {
      "cell_type": "code",
      "execution_count": 4,
      "metadata": {
        "colab": {
          "base_uri": "https://localhost:8080/",
          "height": 106
        },
        "id": "CknAiLRpXVFM",
        "outputId": "a2b4517c-3842-4dd2-f0a3-7a55e8e692af"
      },
      "outputs": [
        {
          "output_type": "display_data",
          "data": {
            "application/javascript": [
              "\n",
              "        window._wandbApiKey = new Promise((resolve, reject) => {\n",
              "            function loadScript(url) {\n",
              "            return new Promise(function(resolve, reject) {\n",
              "                let newScript = document.createElement(\"script\");\n",
              "                newScript.onerror = reject;\n",
              "                newScript.onload = resolve;\n",
              "                document.body.appendChild(newScript);\n",
              "                newScript.src = url;\n",
              "            });\n",
              "            }\n",
              "            loadScript(\"https://cdn.jsdelivr.net/npm/postmate/build/postmate.min.js\").then(() => {\n",
              "            const iframe = document.createElement('iframe')\n",
              "            iframe.style.cssText = \"width:0;height:0;border:none\"\n",
              "            document.body.appendChild(iframe)\n",
              "            const handshake = new Postmate({\n",
              "                container: iframe,\n",
              "                url: 'https://wandb.ai/authorize'\n",
              "            });\n",
              "            const timeout = setTimeout(() => reject(\"Couldn't auto authenticate\"), 5000)\n",
              "            handshake.then(function(child) {\n",
              "                child.on('authorize', data => {\n",
              "                    clearTimeout(timeout)\n",
              "                    resolve(data)\n",
              "                });\n",
              "            });\n",
              "            })\n",
              "        });\n",
              "    "
            ],
            "text/plain": [
              "<IPython.core.display.Javascript object>"
            ]
          },
          "metadata": {}
        },
        {
          "output_type": "stream",
          "name": "stderr",
          "text": [
            "\u001b[34m\u001b[1mwandb\u001b[0m: Appending key for api.wandb.ai to your netrc file: /root/.netrc\n",
            "\u001b[34m\u001b[1mwandb\u001b[0m: Currently logged in as: \u001b[33manandh\u001b[0m (use `wandb login --relogin` to force relogin)\n"
          ]
        },
        {
          "output_type": "display_data",
          "data": {
            "text/html": [
              "\n",
              "                    Syncing run <strong><a href=\"https://wandb.ai/anandh/CS6910_Assignment1_MSE/runs/2ke6tgsa\" target=\"_blank\">mse</a></strong> to <a href=\"https://wandb.ai/anandh/CS6910_Assignment1_MSE\" target=\"_blank\">Weights & Biases</a> (<a href=\"https://docs.wandb.com/integrations/jupyter.html\" target=\"_blank\">docs</a>).<br/>\n",
              "\n",
              "                "
            ],
            "text/plain": [
              "<IPython.core.display.HTML object>"
            ]
          },
          "metadata": {}
        },
        {
          "output_type": "execute_result",
          "data": {
            "text/plain": [
              "<wandb.sdk.wandb_run.Run at 0x7f55c362f550>"
            ],
            "text/html": [
              "<button onClick=\"this.nextSibling.style.display='block';this.style.display='none';\">Display W&B run</button><iframe src=\"https://wandb.ai/anandh/CS6910_Assignment1_MSE/runs/2ke6tgsa?jupyter=true\" style=\"border:none;width:100%;height:420px;display:none;\"></iframe>"
            ]
          },
          "metadata": {},
          "execution_count": 4
        }
      ],
      "source": [
        "import wandb\n",
        "wandb.login()\n",
        "#!wandb login --relogin\n",
        "wandb.init(project='CS6910_Assignment1_MSE',entity=\"anandh\", name = 'mse')"
      ]
    },
    {
      "cell_type": "code",
      "execution_count": 5,
      "metadata": {
        "id": "ydEbntHG1h5d",
        "colab": {
          "base_uri": "https://localhost:8080/"
        },
        "outputId": "260e4be4-9135-4b41-fc59-81b659372b74"
      },
      "outputs": [
        {
          "output_type": "stream",
          "name": "stdout",
          "text": [
            "Downloading data from https://storage.googleapis.com/tensorflow/tf-keras-datasets/train-labels-idx1-ubyte.gz\n",
            "32768/29515 [=================================] - 0s 0us/step\n",
            "40960/29515 [=========================================] - 0s 0us/step\n",
            "Downloading data from https://storage.googleapis.com/tensorflow/tf-keras-datasets/train-images-idx3-ubyte.gz\n",
            "26427392/26421880 [==============================] - 0s 0us/step\n",
            "26435584/26421880 [==============================] - 0s 0us/step\n",
            "Downloading data from https://storage.googleapis.com/tensorflow/tf-keras-datasets/t10k-labels-idx1-ubyte.gz\n",
            "16384/5148 [===============================================================================================] - 0s 0us/step\n",
            "Downloading data from https://storage.googleapis.com/tensorflow/tf-keras-datasets/t10k-images-idx3-ubyte.gz\n",
            "4423680/4422102 [==============================] - 0s 0us/step\n",
            "4431872/4422102 [==============================] - 0s 0us/step\n"
          ]
        }
      ],
      "source": [
        "import numpy as np\n",
        "from numpy import random\n",
        "from keras.datasets import fashion_mnist\n",
        "#import the required libraries\n",
        "from matplotlib import pyplot\n",
        "import math as math\n",
        "from sklearn.metrics import accuracy_score\n",
        "from sklearn.model_selection import train_test_split\n",
        "\n",
        "\n",
        "(X, y), (X_test, y_test) = fashion_mnist.load_data()\n",
        "\n",
        "# Reshaping the data \n",
        "X = X.reshape(X.shape[0], 784)\n",
        "X_test = X_test.reshape(X_test.shape[0], 784)\n",
        "\n",
        "# Normalizing\n",
        "X = X/255.0\n",
        "X_test = X_test/255.0\n",
        "\n",
        "# Split the data X into a training set and validation set\n",
        "X_train, X_val, y_train, y_val = train_test_split(X, y, test_size=0.1, random_state=42)\n",
        "\n",
        "#Layer dimensions\n",
        "#la =[784,128,128,10]\n",
        "#la=[784, 256, 256, 256, 10]\n",
        "#la =[]\n",
        "#L= len(la)-1  \n",
        "#L=[]\n",
        "\n",
        "#weights and bias empty initializing\n",
        "np.random.seed(42)\n",
        "params={}"
      ]
    },
    {
      "cell_type": "code",
      "execution_count": 6,
      "metadata": {
        "id": "WDodQndr2D4e"
      },
      "outputs": [],
      "source": [
        "def weight_initialize(weight_para,la):\n",
        "    global params\n",
        "    params ={}\n",
        "    if weight_para == 'Xavier':\n",
        "        for i in range(0,len(la)-1):\n",
        "            params[\"W\"+str(i)]=np.random.randn(la[i+1],la[i])*np.sqrt(2/la[i+1])\n",
        "            params[\"b\"+str(i)] = np.zeros((la[i+1], 1))\n",
        "    if weight_para == 'random':\n",
        "        for i in range(0,len(la)-1):\n",
        "            params[\"W\"+str(i)] = np.random.randn(la[i+1], la[i]) * 0.01\n",
        "            params[\"b\"+str(i)] = np.zeros((la[i+1], 1))"
      ]
    },
    {
      "cell_type": "code",
      "execution_count": 7,
      "metadata": {
        "id": "rmUh2zQw2WV3"
      },
      "outputs": [],
      "source": [
        "#Activation function     \n",
        "def sigmoid(x):\n",
        "     return 1. /(1. + np.exp(-x))\n",
        "\n",
        "def activation_function(x,activation):\n",
        "    if activation=='sigmoid':\n",
        "        return (1.0 / (1.0 + np.exp(-x)))\n",
        "    elif activation=='sigmoid_derivative':\n",
        "        return (activation_function(x,'sigmoid') * (1 - activation_function(x,'sigmoid')))\n",
        "    elif activation=='relu':\n",
        "        return x * (x > 0)\n",
        "    elif activation=='relu_derivative':\n",
        "        x[x <= 0.0] = 0.0\n",
        "        x[x > 0.0] = 1.0\n",
        "        return x\n",
        "    elif activation=='tanh':\n",
        "        return np.tanh(x)\n",
        "    elif activation=='tanh_derivative':\n",
        "        return 1 - (activation_function(x,'tanh') ** 2)\n",
        "    else:\n",
        "        raise Exception(\"Invalid activation function\",activation)\n",
        "def softmax(x):\n",
        "    soft = np.zeros(x.shape)\n",
        "    for i in range(0, x.shape[1]):\n",
        "        numr = np.exp(x[:, i])\n",
        "        soft[:, i] = numr/np.sum(numr)\n",
        "    return soft\n"
      ]
    },
    {
      "cell_type": "code",
      "execution_count": 8,
      "metadata": {
        "id": "6HqvllD72iO5"
      },
      "outputs": [],
      "source": [
        "def feedforward(X, params,activation_para):\n",
        "\n",
        "    L = len(params)//2  \n",
        "    A = [None]*L # activations\n",
        "    H = [None]*L # pre-activations\n",
        "     \n",
        "    k=0\n",
        "    A[0]=np.dot(params[\"W\"+str(k)],X)+params[\"b\"+str(k)]\n",
        "    H[0]=activation_function(A[k],activation_para)\n",
        "   \n",
        "    for k in range(1,L-1):\n",
        "            A[k]=np.dot(params[\"W\"+str(k)],H[k-1])+params[\"b\"+str(k)]\n",
        "            H[k]=activation_function(A[k],activation_para)\n",
        "   \n",
        "    k=L-1\n",
        "    A[k]=np.dot(params[\"W\"+str(k)],H[k-1])+params[\"b\"+str(k)]\n",
        "    H[k]=softmax(A[k])\n",
        "   \n",
        "    y=H[-1]\n",
        "    return A,H,y\n",
        "\n"
      ]
    },
    {
      "cell_type": "code",
      "execution_count": 9,
      "metadata": {
        "id": "bhShj3k52vvX"
      },
      "outputs": [],
      "source": [
        "\n",
        "def back_propagation(X_train,y_train,params,A ,H,activation_para,loss):\n",
        "    #Initialzing gradients\n",
        "    L = len(params)//2\n",
        "    #A = [None]*L # activations\n",
        "    #H = [None]*L\n",
        "    g_weights = [0]*L\n",
        "    g_biases  = [0]*L\n",
        "    g_a       = [0]*(L+1)\n",
        "    g_h       = [0]*(L+1)\n",
        "    n_samples = X_train.shape[0]  # Change depending on the dimensions of data\n",
        "   \n",
        "    # print(str(activation_para)+'_derivative')\n",
        "\n",
        "    for k in range(L-1,-1,-1): #2,1,0\n",
        "       \n",
        "        if k == L-1:\n",
        "            if loss == 'cross_entropy':\n",
        "                g_a[k] = H[k]  - y_train  # keep or remove T depending on the dimensions of data\n",
        "            elif loss == 'square_loss':\n",
        "                g_a[k] = (H[k] - y_train) * H[k] * (1 - H[k])\n",
        "           \n",
        "       \n",
        "        else:\n",
        "            g_h[k] = (1/n_samples)*np.dot(params[\"W\"+str(k+1)].T,g_a[k+1])\n",
        "            if activation_para == 'sigmoid':\n",
        "                g_a[k] = (1/n_samples)*np.multiply(g_h[k],activation_function(A[k], str(activation_para)+'_derivative'))\n",
        "            elif activation_para == 'tanh':\n",
        "                g_a[k] = (1/n_samples)*np.multiply(g_h[k],activation_function(A[k], str(activation_para)+'_derivative'))\n",
        "            elif  activation_para == 'relu':\n",
        "                g_a[k] = (1/n_samples)*np.multiply(g_h[k],activation_function(A[k], str(activation_para)+'_derivative'))\n",
        "\n",
        "\n",
        "        if k == 0:\n",
        "            g_weights[k] = (1/n_samples)*np.dot(g_a[k],X_train.T)\n",
        "        else:\n",
        "            g_weights[k] = (1/n_samples)*np.dot(g_a[k],H[k-1].T)\n",
        "\n",
        "        g_biases[k]  = (1/n_samples)*np.sum(g_a[k], axis=1, keepdims = True)\n",
        "    return g_weights,g_biases"
      ]
    },
    {
      "cell_type": "code",
      "execution_count": 10,
      "metadata": {
        "id": "gYk3ztdRZ6S4"
      },
      "outputs": [],
      "source": [
        "def accuracy(x, y,params,activation_para):\n",
        "    _,_,yhate=feedforward(x, params,activation_para)\n",
        "    yh=np.argmax(yhate,axis=0)\n",
        "    accuracy = accuracy_score(y, yh)*100\n",
        "    return accuracy\n",
        "    #print(accuracy)"
      ]
    },
    {
      "cell_type": "code",
      "execution_count": 11,
      "metadata": {
        "id": "TC402vuG3OMF"
      },
      "outputs": [],
      "source": [
        "def loss_accuracy(x,params,y,t,loss,activation_para, n_class=10):\n",
        "    _,_,yhate=feedforward(x, params,activation_para)\n",
        "    #print(x.shape)\n",
        "    #print(y.shape)\n",
        "    # ls=[]\n",
        "    # accuracy=[]\n",
        "    if loss == 'cross_entropy':\n",
        "        one_hot = np.zeros((n_class, x.shape[1]))\n",
        "        one_hot[y, np.array(list(range(x.shape[1])))] = 1\n",
        "        ls= -np.sum(one_hot *np.log(yhate))/x.shape[1]\n",
        "                  \n",
        "    if loss == 'square_loss':\n",
        "        eIndicator = np.zeros((n_class, x.shape[1]))\n",
        "        eIndicator[y, np.arange(x.shape[1])] = 1\n",
        "        ls =np.sum((yhate - eIndicator)**2) / x.shape[1]\n",
        "    \n",
        "    yh=np.argmax(yhate,axis=0)\n",
        "    accuracy = accuracy_score(y, yh)*100 \n",
        "     \n",
        "    # for p in range(len(ls)):\n",
        "    #print(\"Accuracy of  = \" + str(accuracy) +\"  loss of \" +str(t) +\" = \" + str(ls) )\n",
        "    #print(\"Accuracy of \" +str(t) +\" = \" + str(accuracy) )\n",
        "    return accuracy,ls"
      ]
    },
    {
      "cell_type": "code",
      "execution_count": 12,
      "metadata": {
        "id": "Ug828GJw3Z7U"
      },
      "outputs": [],
      "source": [
        "def vanillagd(x_train,y_train,x_val,y_val,eta,epochs,minibatch,batch,loss,weight_decay,activation_para,la,L):\n",
        "    t=0\n",
        "    A=[]\n",
        "    H=[]\n",
        "    train_acc=[]\n",
        "    train_loss=[]\n",
        "    val_acc=[]\n",
        "    val_loss=[]\n",
        "    while t<epochs:\n",
        "        for i in range(0,minibatch,1):\n",
        "                    X_mini=x_train[(i*batch):((i+1)*batch)]\n",
        "                    y_mini=y_train[(i*batch):((i+1)*batch)]\n",
        "                    batch1 = X_mini.shape[0]\n",
        "       \n",
        "                    y_mini_one_hot = np.zeros((10, batch1))\n",
        "                    y_mini_one_hot[y_mini, np.array(list(range(batch1)))] = 1\n",
        "                    A,H,y_hat= feedforward(X_mini.T,params,activation_para)\n",
        "                    g_weights,g_biases = back_propagation(X_mini.T,y_mini_one_hot,params,A ,H,activation_para,loss)\n",
        "                    for j in range(0,L):\n",
        "                      g_weights[j]=g_weights[j]+weight_decay*params['W'+str(j)]\n",
        "                      params['W'+str(j)]-=eta*g_weights[j]\n",
        "                      params['b'+str(j)]-=eta*g_biases[j]\n",
        "                   \n",
        "        t+=1\n",
        "        train_a,train_l = loss_accuracy(x_train.T, params, y_train, t, loss,activation_para)\n",
        "        train_acc.append(train_a)\n",
        "        train_loss.append(train_l)\n",
        "        val_a,val_l = loss_accuracy(x_val.T, params, y_val, t, loss,activation_para)  \n",
        "        val_acc.append(val_a)\n",
        "        val_loss.append(val_l)\n",
        "     \n",
        "    return train_acc,train_loss,val_acc,val_loss\n",
        "       "
      ]
    },
    {
      "cell_type": "code",
      "execution_count": 13,
      "metadata": {
        "id": "CTdAMmye3fzt"
      },
      "outputs": [],
      "source": [
        "# MOMENTUM_GD optimizer \n",
        "        \n",
        "def momentumGD(x_train,y_train,x_val,y_val,eta,epochs,minibatch,batch,loss,weight_decay,activation_para,la,L):\n",
        "    preW = {}\n",
        "    preb = {}\n",
        "    gamma = 0.9\n",
        "    train_acc=[]\n",
        "    train_loss=[]\n",
        "    val_acc=[]\n",
        "    val_loss=[]\n",
        "    for k in range(0,L):\n",
        "        preW['W'+str(k)]=np.zeros((la[k+1],la[k]))\n",
        "        preb['b'+str(k)]=np.zeros((la[k+1],1))\n",
        "    t=0\n",
        "    while t<epochs:\n",
        "        for i in range(0,minibatch,1):\n",
        "            X_mini=x_train[(i*batch):((i+1)*batch)]\n",
        "            y_mini=y_train[(i*batch):((i+1)*batch)]\n",
        "            batch1 = X_mini.shape[0]\n",
        "            y_mini_one_hot = np.zeros((10, batch1))\n",
        "            y_mini_one_hot[y_mini, np.array(list(range(batch1)))] = 1\n",
        "            A,H,y_hat=feedforward(X_mini.T,params,activation_para)\n",
        "            g_weights,g_biases = back_propagation(X_mini.T,y_mini_one_hot,params,A ,H,activation_para,loss)\n",
        "            for j in range(0,L):\n",
        "                #g_weights[j]=g_weights[j]+weight_decay*params['W'+str(j)]\n",
        "                w=(gamma*preW['W'+str(j)])+eta*g_weights[j]\n",
        "                b=(gamma*preb['b'+str(j)])+eta*g_biases[j]\n",
        "                params['W'+str(j)]-=w-np.multiply(eta*weight_decay,params['W'+str(j)])\n",
        "                params['b'+str(j)]-=b-np.multiply(eta*weight_decay,params['b'+str(j)])\n",
        "                preW['W'+str(j)]=w\n",
        "                preb['b'+str(j)]=b\n",
        "        t+=1\n",
        "        \n",
        "        #Loss & accuracy\n",
        "        train_a,train_l = loss_accuracy(x_train.T, params, y_train, t, loss,activation_para)\n",
        "        train_acc.append(train_a)\n",
        "        train_loss.append(train_l)\n",
        "        val_a,val_l = loss_accuracy(x_val.T, params, y_val, t, loss,activation_para)  \n",
        "        val_acc.append(val_a)\n",
        "        val_loss.append(val_l)\n",
        "    return train_acc,train_loss,val_acc,val_loss\n"
      ]
    },
    {
      "cell_type": "code",
      "execution_count": 14,
      "metadata": {
        "id": "Z6JO96vW3mMl"
      },
      "outputs": [],
      "source": [
        "#NAG optimizer  \n",
        "       \n",
        "def nag(x_train,y_train,x_val,y_val,eta,epochs,minibatch,batch,loss,weight_decay,activation_para,la,L):\n",
        "    t=0\n",
        "    # batch=600\n",
        "    gamma = 0.9\n",
        "    preW={}\n",
        "    preb={}\n",
        "    train_acc=[]\n",
        "    train_loss=[]\n",
        "    val_acc=[]\n",
        "    val_loss=[]\n",
        "    for k in range(0,L):\n",
        "        preW['W'+str(k)]=np.zeros((la[k+1],la[k]))\n",
        "        preb['b'+str(k)]=np.zeros((la[k+1],1))\n",
        "        # print(preW['W'+str(k)].shape)\n",
        "    while t<epochs:\n",
        "        for i in range(0,minibatch,1):\n",
        "            X_mini=x_train[(i*batch):((i+1)*batch)]\n",
        "            y_mini=y_train[(i*batch):((i+1)*batch)]\n",
        "            batch1 = X_mini.shape[0]\n",
        "            y_mini_one_hot = np.zeros((10, batch1))\n",
        "            y_mini_one_hot[y_mini, np.array(list(range(batch1)))] = 1\n",
        "            A,H,y_hat=feedforward(X_mini.T,params,activation_para)\n",
        "            g_weights,g_biases = back_propagation(X_mini.T,y_mini_one_hot,params,A ,H,activation_para,loss)\n",
        "            l_params={}\n",
        "            for j in range(0,L):\n",
        "                l_params['W'+str(j)]=params['W'+str(j)]-(gamma*preW['W'+str(j)])\n",
        "                l_params['b'+str(j)]=params['b'+str(j)]-(gamma*preb['b'+str(j)])\n",
        "            for j in range(0,L):\n",
        "                g_weights,g_biases = back_propagation(X_mini.T,y_mini_one_hot,l_params,A ,H,activation_para,loss)\n",
        "                #g_weights[j]=g_weights[j]+weight_decay*params['W'+str(j)]\n",
        "                w=(gamma*preW['W'+str(j)])+eta*g_weights[j]\n",
        "                b=(gamma*preb['b'+str(j)])+eta*g_biases[j]\n",
        "                params['W'+str(j)]-=w-np.multiply(eta*weight_decay,params['W'+str(j)])\n",
        "                params['b'+str(j)]-=b-np.multiply(eta*weight_decay,params['b'+str(j)])\n",
        "                preW['W'+str(j)]=w\n",
        "                preb['b'+str(j)]=b\n",
        "        t+=1\n",
        "       \n",
        "        #Loss & accuracy            \n",
        "        train_a,train_l = loss_accuracy(x_train.T, params, y_train, t, loss,activation_para)\n",
        "        train_acc.append(train_a)\n",
        "        train_loss.append(train_l)\n",
        "        val_a,val_l = loss_accuracy(x_val.T, params, y_val, t, loss,activation_para)  \n",
        "        val_acc.append(val_a)\n",
        "        val_loss.append(val_l)\n",
        "     \n",
        "    return train_acc,train_loss,val_acc,val_loss\n",
        "       "
      ]
    },
    {
      "cell_type": "code",
      "execution_count": 15,
      "metadata": {
        "id": "LseaKDP_3t2F"
      },
      "outputs": [],
      "source": [
        "#RMSprop optimizer\n",
        "        \n",
        "def rms(x_train,y_train,x_val,y_val,eta,epochs,minibatch,batch,loss,weight_decay,activation_para,la,L):\n",
        "    t=0\n",
        "    gamma = 0.9\n",
        "    eps = 1e-8\n",
        "    beta = 0.9\n",
        "    preW={}\n",
        "    preb={}\n",
        "    train_acc=[]\n",
        "    train_loss=[]\n",
        "    val_acc=[]\n",
        "    val_loss=[]\n",
        "    for k in range(0,L):\n",
        "        preW['W'+str(k)]=np.zeros((la[k+1],la[k]))\n",
        "        preb['b'+str(k)]=np.zeros((la[k+1],1))\n",
        "    while t<epochs:\n",
        "        for i in range(0,minibatch,1):\n",
        "            X_mini=X_train[(i*batch):((i+1)*batch)]\n",
        "            y_mini=y_train[(i*batch):((i+1)*batch)]\n",
        "            batch1 = X_mini.shape[0]\n",
        "            y_mini_one_hot = np.zeros((10, batch1))\n",
        "            y_mini_one_hot[y_mini, np.array(list(range(batch1)))] = 1\n",
        "            A,H,y_hat=feedforward(X_mini.T,params,activation_para)\n",
        "            g_weights,g_biases=back_propagation(X_mini.T,y_mini_one_hot,params,A ,H,activation_para,loss)  \n",
        "            for j in range(0,L):\n",
        "                #g_weights[j]=g_weights[j]+weight_decay*params['W'+str(j)]\n",
        "                w=(beta*preW['W'+str(j)])+(1.0-beta)*(g_weights[j])**2\n",
        "                b=(beta*preb['b'+str(j)])+(1.0-beta)*(g_biases[j])**2\n",
        "                params['W'+str(j)]-=((eta/(np.sqrt(w+eps)))*g_weights[j])-np.multiply(eta*weight_decay,params['W'+str(j)])\n",
        "                params['b'+str(j)]-=((eta/(np.sqrt(b+eps)))*g_biases[j])-np.multiply(eta*weight_decay,params['b'+str(j)])\n",
        "                preW['W'+str(j)]=w\n",
        "                preb['b'+str(j)]=b\n",
        "        t+=1\n",
        "        \n",
        "        #Loss & accuracy\n",
        "        train_a,train_l = loss_accuracy(x_train.T, params, y_train, t, loss,activation_para)\n",
        "        train_acc.append(train_a)\n",
        "        train_loss.append(train_l)\n",
        "        val_a,val_l = loss_accuracy(x_val.T, params, y_val, t, loss,activation_para)  \n",
        "        val_acc.append(val_a)\n",
        "        val_loss.append(val_l)\n",
        "    \n",
        "    return train_acc,train_loss,val_acc,val_loss\n"
      ]
    },
    {
      "cell_type": "code",
      "execution_count": 16,
      "metadata": {
        "id": "JFp8tPoM32BJ"
      },
      "outputs": [],
      "source": [
        "#STOCHASTIC optimizer\n",
        "       \n",
        "def sgd(x_train,y_train,x_val,y_val,eta,epochs,minibatch,batch,loss,weight_decay,activation_para,la,L):\n",
        "    t=0\n",
        "    train_acc=[]\n",
        "    train_loss=[]\n",
        "    val_acc=[]\n",
        "    val_loss=[]\n",
        "    while t<epochs:\n",
        "        indexes=np.random.permutation(len(x_train))\n",
        "        X_ran=x_train[indexes]\n",
        "        Y_ran=y_train[indexes]\n",
        "        for x,y in zip(X_ran,Y_ran):\n",
        "            X_mini=np.array([x])\n",
        "            y_mini=np.array([y])\n",
        "            batch1 = X_mini.shape[0]\n",
        "            y_mini_one_hot = np.zeros((10, batch1))\n",
        "            y_mini_one_hot[y_mini, np.array(list(range(batch1)))] = 1\n",
        "            A,H,y_hat=feedforward(X_mini.T,params,activation_para)\n",
        "            g_weights,g_biases=back_propagation(X_mini.T,y_mini_one_hot,params,A ,H,activation_para,loss)\n",
        "            for j in range(0,L):\n",
        "                #g_weights[j]=g_weights[j]+weight_decay*params['W'+str(j)]\n",
        "                params['W'+str(j)]-=eta*g_weights[j]#-np.multiply(eta*weight_decay,params['W'+str(j)])\n",
        "                params['b'+str(j)]-=eta*g_biases[j]#-np.multiply(eta*weight_decay,params['b'+str(j)])\n",
        "        t+=1\n",
        "       \n",
        "        #Loss & accuracy\n",
        "        train_a,train_l = loss_accuracy(x_train.T, params, y_train, t, loss,activation_para)\n",
        "        train_acc.append(train_a)\n",
        "        train_loss.append(train_l)\n",
        "        val_a,val_l = loss_accuracy(x_val.T, params, y_val, t, loss,activation_para)  \n",
        "        val_acc.append(val_a)\n",
        "        val_loss.append(val_l) \n",
        "    return train_acc,train_loss,val_acc,val_loss\n",
        "     "
      ]
    },
    {
      "cell_type": "code",
      "execution_count": 17,
      "metadata": {
        "id": "s-XjjRyV38h1"
      },
      "outputs": [],
      "source": [
        "#ADAM optimizer\n",
        "        \n",
        "def adam(x_train,y_train,x_val,y_val,eta,epochs,minibatch,batch,loss,weight_decay,activation_para,la,L):\n",
        "    eps = 1e-8\n",
        "    beta1 = 0.9\n",
        "    beta2 = 0.999\n",
        "    t=0\n",
        "    preW={}\n",
        "    preb={}\n",
        "    mt={}\n",
        "    vt={}\n",
        "    it=0\n",
        "    train_acc=[]\n",
        "    train_loss=[]\n",
        "    val_acc=[]\n",
        "    val_loss=[]\n",
        "    for k in range(0,L):\n",
        "        preW['W'+str(k)]=np.zeros((la[k+1],la[k]))\n",
        "        preb['b'+str(k)]=np.zeros((la[k+1],1))\n",
        "    for k in range(0,L):\n",
        "        mt['W'+str(k)]=np.zeros((la[k+1],la[k]))\n",
        "        vt['b'+str(k)]=np.zeros((la[k+1],1))\n",
        "    while t<epochs:\n",
        "        for i in range(0,minibatch,1):\n",
        "            X_mini=x_train[(i*batch):((i+1)*batch)]\n",
        "            y_mini=y_train[(i*batch):((i+1)*batch)]\n",
        "            batch1 = X_mini.shape[0]\n",
        "            y_mini_one_hot = np.zeros((10, batch1))\n",
        "            y_mini_one_hot[y_mini, np.array(list(range(batch1)))] = 1\n",
        "            A,H,y_hat=feedforward(X_mini.T,params,activation_para)\n",
        "            g_weights,g_biases=back_propagation(X_mini.T,y_mini_one_hot,params,A ,H,activation_para,loss)\n",
        "            it+=1\n",
        "            for j in range(0,L):\n",
        "                #g_weights[j]=g_weights[j]+weight_decay*params['W'+str(j)]\n",
        "                mt['W'+str(j)]=beta1*mt['W'+str(j)]+(1-beta1)*g_weights[j]\n",
        "                vt['b'+str(j)]=beta1*vt['b'+str(j)]+(1-beta1)*g_biases[j]\n",
        "                preW['W'+str(j)]=beta2*preW['W'+str(j)]+(1-beta2)*(g_weights[j]**2)\n",
        "                preb['b'+str(j)]=beta2*preb['b'+str(j)]+(1-beta2)*(g_biases[j]**2)\n",
        "                mhatw=mt['W'+str(j)]/(1-(beta1)**it)\n",
        "                mhatb=vt['b'+str(j)]/(1-(beta1)**it)\n",
        "                vhatw=preW['W'+str(j)]/(1-(beta2)**it)\n",
        "                vhatb=preb['b'+str(j)]/(1-(beta2)**it)\n",
        "                params['W'+str(j)]-=((eta/(np.sqrt(vhatw+eps)))*mhatw)-np.multiply(eta*weight_decay,params['W'+str(j)])\n",
        "                params['b'+str(j)]-=((eta/(np.sqrt(vhatb+eps)))*mhatb)-np.multiply(eta*weight_decay,params['b'+str(j)])\n",
        "        t+=1\n",
        "        \n",
        "        #Loss & accuracy\n",
        "        train_a,train_l = loss_accuracy(x_train.T, params, y_train, t, loss,activation_para)\n",
        "        train_acc.append(train_a)\n",
        "        train_loss.append(train_l)\n",
        "        val_a,val_l = loss_accuracy(x_val.T, params, y_val, t, loss,activation_para)  \n",
        "        val_acc.append(val_a)\n",
        "        val_loss.append(val_l)\n",
        "     \n",
        "    return train_acc,train_loss,val_acc,val_loss\n"
      ]
    },
    {
      "cell_type": "code",
      "execution_count": 18,
      "metadata": {
        "id": "3_PfaI654EIg"
      },
      "outputs": [],
      "source": [
        "#NADAM optimizer\n",
        "       \n",
        "def nadam(x_train,y_train,x_val,y_val,eta,epochs,minibatch,batch,loss,weight_decay,activation_para,la,L):\n",
        "\n",
        "    #print('inside optimizer nadam')\n",
        "    #print(la)\n",
        "    eps = 1e-8\n",
        "    beta1 = 0.9\n",
        "    beta2 = 0.999\n",
        "    t=0\n",
        "    minibatch=math.ceil(x_train.shape[0]/batch)\n",
        "    preW={}\n",
        "    preb={}\n",
        "    mt={}\n",
        "    vt={}\n",
        "    it=0\n",
        "    train_acc=[]\n",
        "    train_loss=[]\n",
        "    val_acc=[]\n",
        "    val_loss=[]\n",
        "    for k in range(0,L):\n",
        "        preW['W'+str(k)]=np.zeros((la[k+1],la[k]))\n",
        "        preb['b'+str(k)]=np.zeros((la[k+1],1))\n",
        "    for k in range(0,L):\n",
        "        mt['W'+str(k)]=np.zeros((la[k+1],la[k]))\n",
        "        vt['b'+str(k)]=np.zeros((la[k+1],1))\n",
        "    while t<epochs:\n",
        "        for i in range(0,minibatch,1):\n",
        "            X_mini=x_train[(i*batch):((i+1)*batch)]\n",
        "            y_mini=y_train[(i*batch):((i+1)*batch)]\n",
        "            batch1 = X_mini.shape[0]\n",
        "            y_mini_one_hot = np.zeros((10, batch1))\n",
        "            y_mini_one_hot[y_mini, np.array(list(range(batch1)))] = 1\n",
        "            A,H,y_hat=feedforward(X_mini.T,params,activation_para)\n",
        "            g_weights,g_biases=back_propagation(X_mini.T,y_mini_one_hot,params,A ,H,activation_para,loss)\n",
        "            it+=1\n",
        "            for j in range(0,L):\n",
        "                #g_weights[j]=g_weights[j]+weight_decay*params['W'+str(j)]\n",
        "                mt['W'+str(j)]=beta1*mt['W'+str(j)]+(1-beta1)*g_weights[j]\n",
        "                vt['b'+str(j)]=beta1*vt['b'+str(j)]+(1-beta1)*g_biases[j]\n",
        "                preW['W'+str(j)]=beta2*preW['W'+str(j)]+(1-beta2)*(g_weights[j]**2)\n",
        "                preb['b'+str(j)]=beta2*preb['b'+str(j)]+(1-beta2)*(g_biases[j]**2)\n",
        "                mhatw=mt['W'+str(j)]/(1-(beta1)**it)\n",
        "                mhatb=vt['b'+str(j)]/(1-(beta1)**it)\n",
        "                vhatw=preW['W'+str(j)]/(1-(beta2)**it)\n",
        "                vhatb=preb['b'+str(j)]/(1-(beta2)**it)\n",
        "                mbarw=beta1*mhatw+(1.0-beta1)*g_weights[j]\n",
        "                mbarb=beta1*mhatb+(1.0-beta1)*g_biases[j]\n",
        "                params['W'+str(j)]-=((eta/(np.sqrt(vhatw+eps)))*mbarw)-np.multiply(eta*weight_decay,params['W'+str(j)])\n",
        "                params['b'+str(j)]-=((eta/(np.sqrt(vhatb+eps)))*mbarb)-np.multiply(eta*weight_decay,params['b'+str(j)])\n",
        "        t+=1\n",
        "       \n",
        "        #Loss & accuracy\n",
        "    \n",
        "        train_a,train_l = loss_accuracy(x_train.T, params, y_train, t, loss,activation_para)\n",
        "        train_acc.append(train_a)\n",
        "        train_loss.append(train_l)\n",
        "        val_a,val_l = loss_accuracy(x_val.T, params, y_val, t, loss,activation_para)  \n",
        "        val_acc.append(val_a)\n",
        "        val_loss.append(val_l)\n",
        "    return train_acc,train_loss,val_acc,val_loss\n",
        "       "
      ]
    },
    {
      "cell_type": "code",
      "execution_count": 19,
      "metadata": {
        "id": "4MRkq77z4Lxl"
      },
      "outputs": [],
      "source": [
        "#FIT models        \n",
        "def fit(X,y,batch,epochs,eta,weight_para,optimiser,loss,weight_decay,activation_para,la,L):      \n",
        "    weight_para = 'Xavier'\n",
        "    weight_initialize(weight_para,la)\n",
        "    \n",
        "    X_train, X_val, Y_train, Y_val = train_test_split(X, y, test_size=0.1, random_state=42)\n",
        "    \n",
        "    #batch=100\n",
        "    \n",
        "    minibatch=math.ceil(X_train.shape[0]/batch)\n",
        "    \n",
        "    if optimiser=='momentumGD':\n",
        "        print('calling optimizer momentum ')\n",
        "        train_acc,train_loss,val_acc,val_loss=momentumGD(X_train,y_train,X_val,Y_val,eta,epochs,minibatch,batch,loss,weight_decay,activation_para,la,L)\n",
        "    elif optimiser=='nadam':\n",
        "        print('calling optimizer nadam ')\n",
        "        train_acc,train_loss,val_acc,val_loss=nadam(X_train,Y_train,X_val,Y_val,eta,epochs,minibatch,batch,loss,weight_decay,activation_para,la,L)\n",
        "    elif optimiser=='rms':\n",
        "        print('calling optimizer rms ')\n",
        "        train_acc,train_loss,val_acc,val_loss=rms(X_train,Y_train,X_val,Y_val,eta,epochs,minibatch,batch,loss,weight_decay,activation_para,la,L)\n",
        "    elif optimiser=='sgd':\n",
        "        print('calling optimizer sgd ')\n",
        "        train_acc,train_loss,val_acc,val_loss=sgd(X_train,Y_train,X_val,Y_val,eta,epochs,minibatch,batch,loss,weight_decay,activation_para,la,L)\n",
        "    elif optimiser=='adam':\n",
        "        print('calling optimizer adam ')\n",
        "        train_acc,train_loss,val_acc,val_loss=adam(X_train,Y_train,X_val,Y_val,eta,epochs,minibatch,batch,loss,weight_decay,activation_para,la,L)\n",
        "    elif optimiser=='nag':\n",
        "        print('calling optimizer nag ')\n",
        "        train_acc,train_loss,val_acc,val_loss=nag(X_train,Y_train,X_val,Y_val,eta,epochs,minibatch,batch,loss,weight_decay,activation_para,la,L)\n",
        "    elif optimiser=='vanillagd':\n",
        "        train_acc,train_loss,val_acc,val_loss=vanillagd(X_train,Y_train,X_val,Y_val,eta,epochs,minibatch,batch,loss,weight_decay,activation_para,la,L)   \n",
        "    \n",
        "    return train_acc,train_loss,val_acc,val_loss\n",
        "\n",
        "#la=[784,256,256,10]\n",
        "#L=len(la)-1         \n",
        "#train_acc,train_loss,val_acc,val_loss= fit(X,y,100,5,0.01,'Xavier','nadam','cross_entropy',0,'tanh',la,L)\n",
        "\n",
        "#print(train_acc,train_loss,val_acc,val_loss)"
      ]
    },
    {
      "cell_type": "code",
      "execution_count": null,
      "metadata": {
        "colab": {
          "base_uri": "https://localhost:8080/",
          "height": 1000,
          "referenced_widgets": [
            "365d4f582ab045ba9c65362031a5b4e6",
            "b12701b89c9b4ab782b53ddd404c3c50",
            "778d0c146347400c9777bdf6100d88ed",
            "fbc69b9c2c4a45e5930e2ea40d9d9fec",
            "d0a0e1cbbf634193a4b4c66c7cc55222",
            "5fe53ee7b76e4a3c93aa849ba88a8ae5",
            "e710a5abc03c4db1915e93883c34e390",
            "9e851b556301456885627b1348da3b55",
            "afbfca55fc104d288df249abfb165161",
            "24d02c20cda441ee9489c818245e8dfd",
            "7ea4fdf9538349d0ab2ce0a706cb7b22",
            "97935846748144d8a58aa34c55de212a",
            "4e13c7918e814561a0b41bf1cd005e0a",
            "d730eb6f3ebf43f3b013d42bff2d9d7a",
            "60d3c47ea8f94f32b97897fb22c460bb",
            "94308ddb2f4840eabeb3c429d0e6f42a",
            "528c8d2a4c704706b3c16fd7fcb3fc06",
            "4d12ac8c08964d2dbc69d3373c6aeccb",
            "6f1aa4d6f191429fb006a38a69de8d03",
            "f7f6a317172d4b9d82857ed352f235a6",
            "a813491e12e2441f9a53ad96a3970a21",
            "100a740d970d4c3fbc07c83e3823a5c5",
            "11977098484f441eb8f288455d72a885",
            "e9d65e3f42f7492598a0caa13867e580",
            "773f89c065d24de49ef353a541b0d15a",
            "80c08231373d4a71b0a3e41c89b7f247",
            "77b333a9ecc64afcb52b855f4d6648b6",
            "6bddc7b9d0f24b149fd1fb03fc216a7b",
            "ce8c4be6638049c18d01b97c4192f016",
            "934426f6e96b42a9905a7f8b07bd6d4f",
            "e6fe511f8fdd4e969136e849e72f4e8d",
            "d78c57c5683e4f78ab6a5f0058d9743a",
            "a5e6c48f5f0943719516a24703eb132b",
            "da0e028863ba4f53a1e2534db090f024",
            "0467590d1cac4823a31bc91eac2b14a1",
            "3152c53c6a80406e852da4a120190ff6",
            "ce441010e269441eb2b703e084946d90",
            "ee7ffcdd15d94c08b8e531dc3682d97c",
            "baa15944538242fbbff00aa98d169ef5",
            "97fbdc56ae0d4e2d95561af48ab14e6b",
            "7b6bab1df38b4506a2bfaccd81538b69",
            "2f5065a2b9d64028838794030fecce86",
            "314371dd6c51478b91da6330bc142607",
            "d16951f33aba455fb246e8dfebbc5baf",
            "84dd997b744146f385b5ef12dd28602d",
            "9501d71e9b3a4b579b9816c55d815d73",
            "aaa9d8ac3dbc417ba107935a0ce8ed2a",
            "7c7be21d673447bc93035466bab7d2b4",
            "2c6dd2873ca249f8af9b97372aab45b4",
            "4386bb9b2d0648c3bc337417852000df",
            "8777595e88be4bf38e694614e73b48a1",
            "bedeb21a32e84ecfbf495a8dc658d46b",
            "15fdc067ddac4089b831c2c045669c1e",
            "3585affa83ce4dde8b5c27bf320d78fd",
            "64479a00b0ae46deb207efdad417bc1a",
            "93448887402743adb880d43744898abc",
            "1757920575db48e9870991e2d37915e2",
            "c6c27b75939b42f7af31f290443fdc5c",
            "43d4fc5f57a14252a0c5c83ced43315a",
            "ba70ab17c53f487984f5deca5532d547",
            "ad5cd8ab671243e0a5be69ee77d60ca7",
            "f3b0f48d8116459eb2c2191841f2db24",
            "e1094336b3a5498b8ac520d82b98e3d3",
            "1d6d45bfbb254ae1a6476c2af724c617",
            "45de3f7528e048749a79444baf050937",
            "244135b2c96a4f81915cc2ad41f407fb",
            "fffbb3d8347a42299990fdbbc595bbf0",
            "163e8182b9eb4a0393773fc16af0c6de",
            "ebdfc0a31c5047339ec6efb60c7cf7e8",
            "123563c3481b44e08b1448a654f07203",
            "3fad7c7de2b741e2aa9de32c3d2a563b",
            "54e29ffc371a4d4483462b9d7e9daa27"
          ]
        },
        "id": "rxJwQw4_4hUl",
        "outputId": "5b2a525b-ce61-42a7-a214-f0928ca2c365"
      },
      "outputs": [
        {
          "output_type": "stream",
          "name": "stderr",
          "text": [
            "\u001b[34m\u001b[1mwandb\u001b[0m: \u001b[33mWARNING\u001b[0m Calling wandb.login() after wandb.init() has no effect.\n"
          ]
        },
        {
          "output_type": "stream",
          "name": "stdout",
          "text": [
            "Create sweep with ID: 2003cnhm\n",
            "Sweep URL: https://wandb.ai/anandh/CS6910_Assignment1_MSE/sweeps/2003cnhm\n"
          ]
        },
        {
          "output_type": "stream",
          "name": "stderr",
          "text": [
            "\u001b[34m\u001b[1mwandb\u001b[0m: Agent Starting Run: da7ax9sm with config:\n",
            "\u001b[34m\u001b[1mwandb\u001b[0m: \tactivation_para: tanh\n",
            "\u001b[34m\u001b[1mwandb\u001b[0m: \tbatch: 16\n",
            "\u001b[34m\u001b[1mwandb\u001b[0m: \tepochs: 5\n",
            "\u001b[34m\u001b[1mwandb\u001b[0m: \teta: 0.001\n",
            "\u001b[34m\u001b[1mwandb\u001b[0m: \tno_of_hidden: 2\n",
            "\u001b[34m\u001b[1mwandb\u001b[0m: \tno_of_neurons: 256\n",
            "\u001b[34m\u001b[1mwandb\u001b[0m: \toptimiser: sgd\n",
            "\u001b[34m\u001b[1mwandb\u001b[0m: \tweight_decay: 0\n",
            "\u001b[34m\u001b[1mwandb\u001b[0m: \tweight_para: random\n"
          ]
        },
        {
          "output_type": "display_data",
          "data": {
            "text/html": [
              "\n",
              "                    Syncing run <strong><a href=\"https://wandb.ai/anandh/CS6910_Assignment1_MSE/runs/da7ax9sm\" target=\"_blank\">fine-sweep-1</a></strong> to <a href=\"https://wandb.ai/anandh/CS6910_Assignment1_MSE\" target=\"_blank\">Weights & Biases</a> (<a href=\"https://docs.wandb.com/integrations/jupyter.html\" target=\"_blank\">docs</a>).<br/>\n",
              "Sweep page: <a href=\"https://wandb.ai/anandh/CS6910_Assignment1_MSE/sweeps/2003cnhm\" target=\"_blank\">https://wandb.ai/anandh/CS6910_Assignment1_MSE/sweeps/2003cnhm</a><br/>\n",
              "\n",
              "                "
            ],
            "text/plain": [
              "<IPython.core.display.HTML object>"
            ]
          },
          "metadata": {}
        },
        {
          "output_type": "stream",
          "name": "stdout",
          "text": [
            "[784, 256, 256, 10]\n",
            "calling optimizer sgd \n",
            "Accuracy of  train= 9.309259259259258   Loss of train = 1.3211844468473883   Accuracy of val= 9.3  Accuracy of val= 1.3216996260139893\n",
            "Accuracy of  train= 9.385185185185186   Loss of train = 1.3170564203239359   Accuracy of val= 9.333333333333334  Accuracy of val= 1.3172340751750413\n",
            "Accuracy of  train= 9.453703703703702   Loss of train = 1.3132301332439544   Accuracy of val= 9.533333333333333  Accuracy of val= 1.3130849043140547\n",
            "Accuracy of  train= 9.538888888888888   Loss of train = 1.3096740322166118   Accuracy of val= 9.583333333333334  Accuracy of val= 1.309220070301487\n",
            "Accuracy of  train= 9.62037037037037   Loss of train = 1.3063568481258667   Accuracy of val= 9.716666666666667  Accuracy of val= 1.3056075651728258\n"
          ]
        },
        {
          "output_type": "stream",
          "name": "stderr",
          "text": [
            "\u001b[34m\u001b[1mwandb\u001b[0m: \u001b[33mWARNING\u001b[0m Calling wandb.run.save without any arguments is deprecated.Changes to attributes are automatically persisted.\n"
          ]
        },
        {
          "output_type": "stream",
          "name": "stdout",
          "text": [
            "Accuracy of  test_data= 9.69\n"
          ]
        },
        {
          "output_type": "display_data",
          "data": {
            "text/html": [
              "<br/>Waiting for W&B process to finish, PID 260... <strong style=\"color:green\">(success).</strong>"
            ],
            "text/plain": [
              "<IPython.core.display.HTML object>"
            ]
          },
          "metadata": {}
        },
        {
          "output_type": "display_data",
          "data": {
            "application/vnd.jupyter.widget-view+json": {
              "model_id": "365d4f582ab045ba9c65362031a5b4e6",
              "version_minor": 0,
              "version_major": 2
            },
            "text/plain": [
              "VBox(children=(Label(value=' 0.00MB of 0.00MB uploaded (0.00MB deduped)\\r'), FloatProgress(value=1.0, max=1.0)…"
            ]
          },
          "metadata": {}
        },
        {
          "output_type": "display_data",
          "data": {
            "text/html": [
              "<style>\n",
              "    table.wandb td:nth-child(1) { padding: 0 10px; text-align: right }\n",
              "    .wandb-row { display: flex; flex-direction: row; flex-wrap: wrap; width: 100% }\n",
              "    .wandb-col { display: flex; flex-direction: column; flex-basis: 100%; flex: 1; padding: 10px; }\n",
              "    </style>\n",
              "<div class=\"wandb-row\"><div class=\"wandb-col\">\n",
              "<h3>Run history:</h3><br/><table class=\"wandb\"><tr><td>epochs</td><td>▁▃▅▆█</td></tr><tr><td>test_acc</td><td>▁</td></tr><tr><td>train_acc</td><td>▁▃▄▆█</td></tr><tr><td>train_loss</td><td>█▆▄▃▁</td></tr><tr><td>val_acc</td><td>▁▂▅▆█</td></tr><tr><td>val_loss</td><td>█▆▄▃▁</td></tr></table><br/></div><div class=\"wandb-col\">\n",
              "<h3>Run summary:</h3><br/><table class=\"wandb\"><tr><td>epochs</td><td>5</td></tr><tr><td>test_acc</td><td>9.69</td></tr><tr><td>train_acc</td><td>9.62037</td></tr><tr><td>train_loss</td><td>1.30636</td></tr><tr><td>val_acc</td><td>9.71667</td></tr><tr><td>val_loss</td><td>1.30561</td></tr></table>\n",
              "</div></div>\n",
              "Synced 5 W&B file(s), 0 media file(s), 0 artifact file(s) and 0 other file(s)\n",
              "<br/>Synced <strong style=\"color:#cdcd00\">fine-sweep-1</strong>: <a href=\"https://wandb.ai/anandh/CS6910_Assignment1_MSE/runs/da7ax9sm\" target=\"_blank\">https://wandb.ai/anandh/CS6910_Assignment1_MSE/runs/da7ax9sm</a><br/>\n",
              "Find logs at: <code>./wandb/run-20220225_164404-da7ax9sm/logs</code><br/>\n"
            ],
            "text/plain": [
              "<IPython.core.display.HTML object>"
            ]
          },
          "metadata": {}
        },
        {
          "output_type": "stream",
          "name": "stderr",
          "text": [
            "\u001b[34m\u001b[1mwandb\u001b[0m: Agent Starting Run: 18mm1j6g with config:\n",
            "\u001b[34m\u001b[1mwandb\u001b[0m: \tactivation_para: relu\n",
            "\u001b[34m\u001b[1mwandb\u001b[0m: \tbatch: 32\n",
            "\u001b[34m\u001b[1mwandb\u001b[0m: \tepochs: 5\n",
            "\u001b[34m\u001b[1mwandb\u001b[0m: \teta: 0.01\n",
            "\u001b[34m\u001b[1mwandb\u001b[0m: \tno_of_hidden: 2\n",
            "\u001b[34m\u001b[1mwandb\u001b[0m: \tno_of_neurons: 256\n",
            "\u001b[34m\u001b[1mwandb\u001b[0m: \toptimiser: adam\n",
            "\u001b[34m\u001b[1mwandb\u001b[0m: \tweight_decay: 0\n",
            "\u001b[34m\u001b[1mwandb\u001b[0m: \tweight_para: Xavier\n"
          ]
        },
        {
          "output_type": "display_data",
          "data": {
            "text/html": [
              "\n",
              "                    Syncing run <strong><a href=\"https://wandb.ai/anandh/CS6910_Assignment1_MSE/runs/18mm1j6g\" target=\"_blank\">laced-sweep-2</a></strong> to <a href=\"https://wandb.ai/anandh/CS6910_Assignment1_MSE\" target=\"_blank\">Weights & Biases</a> (<a href=\"https://docs.wandb.com/integrations/jupyter.html\" target=\"_blank\">docs</a>).<br/>\n",
              "Sweep page: <a href=\"https://wandb.ai/anandh/CS6910_Assignment1_MSE/sweeps/2003cnhm\" target=\"_blank\">https://wandb.ai/anandh/CS6910_Assignment1_MSE/sweeps/2003cnhm</a><br/>\n",
              "\n",
              "                "
            ],
            "text/plain": [
              "<IPython.core.display.HTML object>"
            ]
          },
          "metadata": {}
        },
        {
          "output_type": "stream",
          "name": "stdout",
          "text": [
            "[784, 256, 256, 10]\n",
            "calling optimizer adam \n"
          ]
        },
        {
          "output_type": "stream",
          "name": "stderr",
          "text": [
            "/usr/local/lib/python3.7/dist-packages/ipykernel_launcher.py:26: RuntimeWarning: invalid value encountered in true_divide\n"
          ]
        },
        {
          "output_type": "stream",
          "name": "stdout",
          "text": [
            "Accuracy of  train= 79.33888888888889   Loss of train = 0.30676006294526054   Accuracy of val= 79.03333333333333  Accuracy of val= 0.3133838480837661\n",
            "Accuracy of  train= 10.005555555555555   Loss of train = nan   Accuracy of val= 9.950000000000001  Accuracy of val= nan\n",
            "Accuracy of  train= 10.005555555555555   Loss of train = nan   Accuracy of val= 9.950000000000001  Accuracy of val= nan\n",
            "Accuracy of  train= 10.005555555555555   Loss of train = nan   Accuracy of val= 9.950000000000001  Accuracy of val= nan\n",
            "Accuracy of  train= 10.005555555555555   Loss of train = nan   Accuracy of val= 9.950000000000001  Accuracy of val= nan\n",
            "Accuracy of  test_data= 10.0\n"
          ]
        },
        {
          "output_type": "display_data",
          "data": {
            "text/html": [
              "<br/>Waiting for W&B process to finish, PID 304... <strong style=\"color:green\">(success).</strong>"
            ],
            "text/plain": [
              "<IPython.core.display.HTML object>"
            ]
          },
          "metadata": {}
        },
        {
          "output_type": "display_data",
          "data": {
            "application/vnd.jupyter.widget-view+json": {
              "model_id": "afbfca55fc104d288df249abfb165161",
              "version_minor": 0,
              "version_major": 2
            },
            "text/plain": [
              "VBox(children=(Label(value=' 0.00MB of 0.00MB uploaded (0.00MB deduped)\\r'), FloatProgress(value=1.0, max=1.0)…"
            ]
          },
          "metadata": {}
        },
        {
          "output_type": "display_data",
          "data": {
            "text/html": [
              "<style>\n",
              "    table.wandb td:nth-child(1) { padding: 0 10px; text-align: right }\n",
              "    .wandb-row { display: flex; flex-direction: row; flex-wrap: wrap; width: 100% }\n",
              "    .wandb-col { display: flex; flex-direction: column; flex-basis: 100%; flex: 1; padding: 10px; }\n",
              "    </style>\n",
              "<div class=\"wandb-row\"><div class=\"wandb-col\">\n",
              "<h3>Run history:</h3><br/><table class=\"wandb\"><tr><td>epochs</td><td>▁▃▅▆█</td></tr><tr><td>test_acc</td><td>▁</td></tr><tr><td>train_acc</td><td>█▁▁▁▁</td></tr><tr><td>train_loss</td><td>▁    </td></tr><tr><td>val_acc</td><td>█▁▁▁▁</td></tr><tr><td>val_loss</td><td>▁    </td></tr></table><br/></div><div class=\"wandb-col\">\n",
              "<h3>Run summary:</h3><br/><table class=\"wandb\"><tr><td>epochs</td><td>5</td></tr><tr><td>test_acc</td><td>10.0</td></tr><tr><td>train_acc</td><td>10.00556</td></tr><tr><td>train_loss</td><td>nan</td></tr><tr><td>val_acc</td><td>9.95</td></tr><tr><td>val_loss</td><td>nan</td></tr></table>\n",
              "</div></div>\n",
              "Synced 5 W&B file(s), 0 media file(s), 0 artifact file(s) and 0 other file(s)\n",
              "<br/>Synced <strong style=\"color:#cdcd00\">laced-sweep-2</strong>: <a href=\"https://wandb.ai/anandh/CS6910_Assignment1_MSE/runs/18mm1j6g\" target=\"_blank\">https://wandb.ai/anandh/CS6910_Assignment1_MSE/runs/18mm1j6g</a><br/>\n",
              "Find logs at: <code>./wandb/run-20220225_165529-18mm1j6g/logs</code><br/>\n"
            ],
            "text/plain": [
              "<IPython.core.display.HTML object>"
            ]
          },
          "metadata": {}
        },
        {
          "output_type": "stream",
          "name": "stderr",
          "text": [
            "\u001b[34m\u001b[1mwandb\u001b[0m: Agent Starting Run: kp2d6or9 with config:\n",
            "\u001b[34m\u001b[1mwandb\u001b[0m: \tactivation_para: tanh\n",
            "\u001b[34m\u001b[1mwandb\u001b[0m: \tbatch: 100\n",
            "\u001b[34m\u001b[1mwandb\u001b[0m: \tepochs: 10\n",
            "\u001b[34m\u001b[1mwandb\u001b[0m: \teta: 0.01\n",
            "\u001b[34m\u001b[1mwandb\u001b[0m: \tno_of_hidden: 2\n",
            "\u001b[34m\u001b[1mwandb\u001b[0m: \tno_of_neurons: 128\n",
            "\u001b[34m\u001b[1mwandb\u001b[0m: \toptimiser: rms\n",
            "\u001b[34m\u001b[1mwandb\u001b[0m: \tweight_decay: 0\n",
            "\u001b[34m\u001b[1mwandb\u001b[0m: \tweight_para: random\n"
          ]
        },
        {
          "output_type": "display_data",
          "data": {
            "text/html": [
              "\n",
              "                    Syncing run <strong><a href=\"https://wandb.ai/anandh/CS6910_Assignment1_MSE/runs/kp2d6or9\" target=\"_blank\">glowing-sweep-3</a></strong> to <a href=\"https://wandb.ai/anandh/CS6910_Assignment1_MSE\" target=\"_blank\">Weights & Biases</a> (<a href=\"https://docs.wandb.com/integrations/jupyter.html\" target=\"_blank\">docs</a>).<br/>\n",
              "Sweep page: <a href=\"https://wandb.ai/anandh/CS6910_Assignment1_MSE/sweeps/2003cnhm\" target=\"_blank\">https://wandb.ai/anandh/CS6910_Assignment1_MSE/sweeps/2003cnhm</a><br/>\n",
              "\n",
              "                "
            ],
            "text/plain": [
              "<IPython.core.display.HTML object>"
            ]
          },
          "metadata": {}
        },
        {
          "output_type": "stream",
          "name": "stdout",
          "text": [
            "[784, 128, 128, 10]\n",
            "calling optimizer rms \n",
            "Accuracy of  train= 79.05185185185185   Loss of train = 0.29584521032890543   Accuracy of val= 78.56666666666666  Accuracy of val= 0.30627799350022844\n",
            "Accuracy of  train= 80.22962962962963   Loss of train = 0.2784979293929467   Accuracy of val= 79.61666666666667  Accuracy of val= 0.288867381366252\n",
            "Accuracy of  train= 80.82407407407408   Loss of train = 0.2706283637977019   Accuracy of val= 80.48333333333333  Accuracy of val= 0.2811152395373773\n",
            "Accuracy of  train= 81.18518518518518   Loss of train = 0.2658420906467871   Accuracy of val= 80.83333333333333  Accuracy of val= 0.27649960912709715\n",
            "Accuracy of  train= 81.35555555555555   Loss of train = 0.26258204735929297   Accuracy of val= 81.0  Accuracy of val= 0.2734495800968378\n",
            "Accuracy of  train= 81.53518518518518   Loss of train = 0.2602405212288848   Accuracy of val= 81.13333333333334  Accuracy of val= 0.2713291314221405\n",
            "Accuracy of  train= 81.64814814814815   Loss of train = 0.2584946468389367   Accuracy of val= 81.18333333333332  Accuracy of val= 0.26979845614332165\n",
            "Accuracy of  train= 81.7462962962963   Loss of train = 0.2571584238417712   Accuracy of val= 81.26666666666667  Accuracy of val= 0.2686676314943682\n",
            "Accuracy of  train= 81.80555555555556   Loss of train = 0.25612145173728673   Accuracy of val= 81.35  Accuracy of val= 0.2678267238478787\n",
            "Accuracy of  train= 81.88888888888889   Loss of train = 0.2553119336528537   Accuracy of val= 81.35  Accuracy of val= 0.2672065168591789\n",
            "Accuracy of  test_data= 80.83\n"
          ]
        },
        {
          "output_type": "display_data",
          "data": {
            "text/html": [
              "<br/>Waiting for W&B process to finish, PID 348... <strong style=\"color:green\">(success).</strong>"
            ],
            "text/plain": [
              "<IPython.core.display.HTML object>"
            ]
          },
          "metadata": {}
        },
        {
          "output_type": "display_data",
          "data": {
            "application/vnd.jupyter.widget-view+json": {
              "model_id": "528c8d2a4c704706b3c16fd7fcb3fc06",
              "version_minor": 0,
              "version_major": 2
            },
            "text/plain": [
              "VBox(children=(Label(value=' 0.00MB of 0.00MB uploaded (0.00MB deduped)\\r'), FloatProgress(value=1.0, max=1.0)…"
            ]
          },
          "metadata": {}
        },
        {
          "output_type": "display_data",
          "data": {
            "text/html": [
              "<style>\n",
              "    table.wandb td:nth-child(1) { padding: 0 10px; text-align: right }\n",
              "    .wandb-row { display: flex; flex-direction: row; flex-wrap: wrap; width: 100% }\n",
              "    .wandb-col { display: flex; flex-direction: column; flex-basis: 100%; flex: 1; padding: 10px; }\n",
              "    </style>\n",
              "<div class=\"wandb-row\"><div class=\"wandb-col\">\n",
              "<h3>Run history:</h3><br/><table class=\"wandb\"><tr><td>epochs</td><td>▁▂▃▃▄▅▆▆▇█</td></tr><tr><td>test_acc</td><td>▁</td></tr><tr><td>train_acc</td><td>▁▄▅▆▇▇▇███</td></tr><tr><td>train_loss</td><td>█▅▄▃▂▂▂▁▁▁</td></tr><tr><td>val_acc</td><td>▁▄▆▇▇▇████</td></tr><tr><td>val_loss</td><td>█▅▃▃▂▂▁▁▁▁</td></tr></table><br/></div><div class=\"wandb-col\">\n",
              "<h3>Run summary:</h3><br/><table class=\"wandb\"><tr><td>epochs</td><td>10</td></tr><tr><td>test_acc</td><td>80.83</td></tr><tr><td>train_acc</td><td>81.88889</td></tr><tr><td>train_loss</td><td>0.25531</td></tr><tr><td>val_acc</td><td>81.35</td></tr><tr><td>val_loss</td><td>0.26721</td></tr></table>\n",
              "</div></div>\n",
              "Synced 5 W&B file(s), 0 media file(s), 0 artifact file(s) and 0 other file(s)\n",
              "<br/>Synced <strong style=\"color:#cdcd00\">glowing-sweep-3</strong>: <a href=\"https://wandb.ai/anandh/CS6910_Assignment1_MSE/runs/kp2d6or9\" target=\"_blank\">https://wandb.ai/anandh/CS6910_Assignment1_MSE/runs/kp2d6or9</a><br/>\n",
              "Find logs at: <code>./wandb/run-20220225_165746-kp2d6or9/logs</code><br/>\n"
            ],
            "text/plain": [
              "<IPython.core.display.HTML object>"
            ]
          },
          "metadata": {}
        },
        {
          "output_type": "stream",
          "name": "stderr",
          "text": [
            "\u001b[34m\u001b[1mwandb\u001b[0m: Sweep Agent: Waiting for job.\n",
            "\u001b[34m\u001b[1mwandb\u001b[0m: Job received.\n",
            "\u001b[34m\u001b[1mwandb\u001b[0m: Agent Starting Run: 7igcpd68 with config:\n",
            "\u001b[34m\u001b[1mwandb\u001b[0m: \tactivation_para: tanh\n",
            "\u001b[34m\u001b[1mwandb\u001b[0m: \tbatch: 100\n",
            "\u001b[34m\u001b[1mwandb\u001b[0m: \tepochs: 10\n",
            "\u001b[34m\u001b[1mwandb\u001b[0m: \teta: 0.001\n",
            "\u001b[34m\u001b[1mwandb\u001b[0m: \tno_of_hidden: 3\n",
            "\u001b[34m\u001b[1mwandb\u001b[0m: \tno_of_neurons: 128\n",
            "\u001b[34m\u001b[1mwandb\u001b[0m: \toptimiser: sgd\n",
            "\u001b[34m\u001b[1mwandb\u001b[0m: \tweight_decay: 0\n",
            "\u001b[34m\u001b[1mwandb\u001b[0m: \tweight_para: random\n"
          ]
        },
        {
          "output_type": "display_data",
          "data": {
            "text/html": [
              "\n",
              "                    Syncing run <strong><a href=\"https://wandb.ai/anandh/CS6910_Assignment1_MSE/runs/7igcpd68\" target=\"_blank\">effortless-sweep-4</a></strong> to <a href=\"https://wandb.ai/anandh/CS6910_Assignment1_MSE\" target=\"_blank\">Weights & Biases</a> (<a href=\"https://docs.wandb.com/integrations/jupyter.html\" target=\"_blank\">docs</a>).<br/>\n",
              "Sweep page: <a href=\"https://wandb.ai/anandh/CS6910_Assignment1_MSE/sweeps/2003cnhm\" target=\"_blank\">https://wandb.ai/anandh/CS6910_Assignment1_MSE/sweeps/2003cnhm</a><br/>\n",
              "\n",
              "                "
            ],
            "text/plain": [
              "<IPython.core.display.HTML object>"
            ]
          },
          "metadata": {}
        },
        {
          "output_type": "stream",
          "name": "stdout",
          "text": [
            "[784, 128, 128, 128, 10]\n",
            "calling optimizer sgd \n",
            "Accuracy of  train= 7.446296296296297   Loss of train = 1.4921046702256728   Accuracy of val= 7.616666666666666  Accuracy of val= 1.490530294118109\n",
            "Accuracy of  train= 7.485185185185185   Loss of train = 1.4840540237693856   Accuracy of val= 7.683333333333334  Accuracy of val= 1.4825792310529595\n",
            "Accuracy of  train= 7.525925925925926   Loss of train = 1.4758902573997792   Accuracy of val= 7.783333333333334  Accuracy of val= 1.4745259364571879\n",
            "Accuracy of  train= 7.581481481481482   Loss of train = 1.467627632562842   Accuracy of val= 7.883333333333334  Accuracy of val= 1.4663850030160563\n",
            "Accuracy of  train= 7.624074074074073   Loss of train = 1.4592810587369687   Accuracy of val= 7.966666666666667  Accuracy of val= 1.4581714324714727\n",
            "Accuracy of  train= 7.696296296296297   Loss of train = 1.4508668878993576   Accuracy of val= 8.033333333333333  Accuracy of val= 1.449901436551751\n",
            "Accuracy of  train= 7.768518518518519   Loss of train = 1.442403902523529   Accuracy of val= 8.133333333333333  Accuracy of val= 1.441593353321324\n",
            "Accuracy of  train= 7.846296296296296   Loss of train = 1.433908634743302   Accuracy of val= 8.116666666666667  Accuracy of val= 1.4332630753552034\n",
            "Accuracy of  train= 7.8962962962962955   Loss of train = 1.4254027541456475   Accuracy of val= 8.216666666666667  Accuracy of val= 1.424931295201111\n",
            "Accuracy of  train= 7.972222222222222   Loss of train = 1.4169043377083606   Accuracy of val= 8.316666666666666  Accuracy of val= 1.416614949231791\n",
            "Accuracy of  test_data= 8.03\n"
          ]
        },
        {
          "output_type": "display_data",
          "data": {
            "text/html": [
              "<br/>Waiting for W&B process to finish, PID 387... <strong style=\"color:green\">(success).</strong>"
            ],
            "text/plain": [
              "<IPython.core.display.HTML object>"
            ]
          },
          "metadata": {}
        },
        {
          "output_type": "display_data",
          "data": {
            "application/vnd.jupyter.widget-view+json": {
              "model_id": "773f89c065d24de49ef353a541b0d15a",
              "version_minor": 0,
              "version_major": 2
            },
            "text/plain": [
              "VBox(children=(Label(value=' 0.00MB of 0.00MB uploaded (0.00MB deduped)\\r'), FloatProgress(value=1.0, max=1.0)…"
            ]
          },
          "metadata": {}
        },
        {
          "output_type": "display_data",
          "data": {
            "text/html": [
              "<style>\n",
              "    table.wandb td:nth-child(1) { padding: 0 10px; text-align: right }\n",
              "    .wandb-row { display: flex; flex-direction: row; flex-wrap: wrap; width: 100% }\n",
              "    .wandb-col { display: flex; flex-direction: column; flex-basis: 100%; flex: 1; padding: 10px; }\n",
              "    </style>\n",
              "<div class=\"wandb-row\"><div class=\"wandb-col\">\n",
              "<h3>Run history:</h3><br/><table class=\"wandb\"><tr><td>epochs</td><td>▁▂▃▃▄▅▆▆▇█</td></tr><tr><td>test_acc</td><td>▁</td></tr><tr><td>train_acc</td><td>▁▂▂▃▃▄▅▆▇█</td></tr><tr><td>train_loss</td><td>█▇▆▆▅▄▃▃▂▁</td></tr><tr><td>val_acc</td><td>▁▂▃▄▄▅▆▆▇█</td></tr><tr><td>val_loss</td><td>█▇▆▆▅▄▃▃▂▁</td></tr></table><br/></div><div class=\"wandb-col\">\n",
              "<h3>Run summary:</h3><br/><table class=\"wandb\"><tr><td>epochs</td><td>10</td></tr><tr><td>test_acc</td><td>8.03</td></tr><tr><td>train_acc</td><td>7.97222</td></tr><tr><td>train_loss</td><td>1.4169</td></tr><tr><td>val_acc</td><td>8.31667</td></tr><tr><td>val_loss</td><td>1.41661</td></tr></table>\n",
              "</div></div>\n",
              "Synced 5 W&B file(s), 0 media file(s), 0 artifact file(s) and 0 other file(s)\n",
              "<br/>Synced <strong style=\"color:#cdcd00\">effortless-sweep-4</strong>: <a href=\"https://wandb.ai/anandh/CS6910_Assignment1_MSE/runs/7igcpd68\" target=\"_blank\">https://wandb.ai/anandh/CS6910_Assignment1_MSE/runs/7igcpd68</a><br/>\n",
              "Find logs at: <code>./wandb/run-20220225_165924-7igcpd68/logs</code><br/>\n"
            ],
            "text/plain": [
              "<IPython.core.display.HTML object>"
            ]
          },
          "metadata": {}
        },
        {
          "output_type": "stream",
          "name": "stderr",
          "text": [
            "\u001b[34m\u001b[1mwandb\u001b[0m: Agent Starting Run: 34zhkglt with config:\n",
            "\u001b[34m\u001b[1mwandb\u001b[0m: \tactivation_para: relu\n",
            "\u001b[34m\u001b[1mwandb\u001b[0m: \tbatch: 64\n",
            "\u001b[34m\u001b[1mwandb\u001b[0m: \tepochs: 5\n",
            "\u001b[34m\u001b[1mwandb\u001b[0m: \teta: 0.01\n",
            "\u001b[34m\u001b[1mwandb\u001b[0m: \tno_of_hidden: 2\n",
            "\u001b[34m\u001b[1mwandb\u001b[0m: \tno_of_neurons: 256\n",
            "\u001b[34m\u001b[1mwandb\u001b[0m: \toptimiser: sgd\n",
            "\u001b[34m\u001b[1mwandb\u001b[0m: \tweight_decay: 0.0005\n",
            "\u001b[34m\u001b[1mwandb\u001b[0m: \tweight_para: Xavier\n"
          ]
        },
        {
          "output_type": "display_data",
          "data": {
            "text/html": [
              "\n",
              "                    Syncing run <strong><a href=\"https://wandb.ai/anandh/CS6910_Assignment1_MSE/runs/34zhkglt\" target=\"_blank\">worldly-sweep-5</a></strong> to <a href=\"https://wandb.ai/anandh/CS6910_Assignment1_MSE\" target=\"_blank\">Weights & Biases</a> (<a href=\"https://docs.wandb.com/integrations/jupyter.html\" target=\"_blank\">docs</a>).<br/>\n",
              "Sweep page: <a href=\"https://wandb.ai/anandh/CS6910_Assignment1_MSE/sweeps/2003cnhm\" target=\"_blank\">https://wandb.ai/anandh/CS6910_Assignment1_MSE/sweeps/2003cnhm</a><br/>\n",
              "\n",
              "                "
            ],
            "text/plain": [
              "<IPython.core.display.HTML object>"
            ]
          },
          "metadata": {}
        },
        {
          "output_type": "stream",
          "name": "stdout",
          "text": [
            "[784, 256, 256, 10]\n",
            "calling optimizer sgd \n",
            "Accuracy of  train= 9.54814814814815   Loss of train = 1.3412026911428798   Accuracy of val= 9.583333333333334  Accuracy of val= 1.3445364687675636\n",
            "Accuracy of  train= 10.733333333333334   Loss of train = 1.2834206086058348   Accuracy of val= 10.633333333333333  Accuracy of val= 1.2876130702600124\n",
            "Accuracy of  train= 11.425925925925926   Loss of train = 1.2488960619612837   Accuracy of val= 11.266666666666666  Accuracy of val= 1.2532171049754361\n",
            "Accuracy of  train= 11.964814814814813   Loss of train = 1.2262527903835931   Accuracy of val= 11.700000000000001  Accuracy of val= 1.2307240878130237\n",
            "Accuracy of  train= 12.28888888888889   Loss of train = 1.2096567732613555   Accuracy of val= 12.083333333333334  Accuracy of val= 1.213983568029557\n",
            "Accuracy of  test_data= 12.26\n"
          ]
        },
        {
          "output_type": "display_data",
          "data": {
            "text/html": [
              "<br/>Waiting for W&B process to finish, PID 432... <strong style=\"color:green\">(success).</strong>"
            ],
            "text/plain": [
              "<IPython.core.display.HTML object>"
            ]
          },
          "metadata": {}
        },
        {
          "output_type": "display_data",
          "data": {
            "application/vnd.jupyter.widget-view+json": {
              "model_id": "a5e6c48f5f0943719516a24703eb132b",
              "version_minor": 0,
              "version_major": 2
            },
            "text/plain": [
              "VBox(children=(Label(value=' 0.00MB of 0.00MB uploaded (0.00MB deduped)\\r'), FloatProgress(value=1.0, max=1.0)…"
            ]
          },
          "metadata": {}
        },
        {
          "output_type": "display_data",
          "data": {
            "text/html": [
              "<style>\n",
              "    table.wandb td:nth-child(1) { padding: 0 10px; text-align: right }\n",
              "    .wandb-row { display: flex; flex-direction: row; flex-wrap: wrap; width: 100% }\n",
              "    .wandb-col { display: flex; flex-direction: column; flex-basis: 100%; flex: 1; padding: 10px; }\n",
              "    </style>\n",
              "<div class=\"wandb-row\"><div class=\"wandb-col\">\n",
              "<h3>Run history:</h3><br/><table class=\"wandb\"><tr><td>epochs</td><td>▁▃▅▆█</td></tr><tr><td>test_acc</td><td>▁</td></tr><tr><td>train_acc</td><td>▁▄▆▇█</td></tr><tr><td>train_loss</td><td>█▅▃▂▁</td></tr><tr><td>val_acc</td><td>▁▄▆▇█</td></tr><tr><td>val_loss</td><td>█▅▃▂▁</td></tr></table><br/></div><div class=\"wandb-col\">\n",
              "<h3>Run summary:</h3><br/><table class=\"wandb\"><tr><td>epochs</td><td>5</td></tr><tr><td>test_acc</td><td>12.26</td></tr><tr><td>train_acc</td><td>12.28889</td></tr><tr><td>train_loss</td><td>1.20966</td></tr><tr><td>val_acc</td><td>12.08333</td></tr><tr><td>val_loss</td><td>1.21398</td></tr></table>\n",
              "</div></div>\n",
              "Synced 5 W&B file(s), 0 media file(s), 0 artifact file(s) and 0 other file(s)\n",
              "<br/>Synced <strong style=\"color:#cdcd00\">worldly-sweep-5</strong>: <a href=\"https://wandb.ai/anandh/CS6910_Assignment1_MSE/runs/34zhkglt\" target=\"_blank\">https://wandb.ai/anandh/CS6910_Assignment1_MSE/runs/34zhkglt</a><br/>\n",
              "Find logs at: <code>./wandb/run-20220225_171114-34zhkglt/logs</code><br/>\n"
            ],
            "text/plain": [
              "<IPython.core.display.HTML object>"
            ]
          },
          "metadata": {}
        },
        {
          "output_type": "stream",
          "name": "stderr",
          "text": [
            "\u001b[34m\u001b[1mwandb\u001b[0m: Sweep Agent: Waiting for job.\n",
            "\u001b[34m\u001b[1mwandb\u001b[0m: Job received.\n",
            "\u001b[34m\u001b[1mwandb\u001b[0m: Agent Starting Run: qrtdz76t with config:\n",
            "\u001b[34m\u001b[1mwandb\u001b[0m: \tactivation_para: relu\n",
            "\u001b[34m\u001b[1mwandb\u001b[0m: \tbatch: 32\n",
            "\u001b[34m\u001b[1mwandb\u001b[0m: \tepochs: 5\n",
            "\u001b[34m\u001b[1mwandb\u001b[0m: \teta: 0.01\n",
            "\u001b[34m\u001b[1mwandb\u001b[0m: \tno_of_hidden: 2\n",
            "\u001b[34m\u001b[1mwandb\u001b[0m: \tno_of_neurons: 128\n",
            "\u001b[34m\u001b[1mwandb\u001b[0m: \toptimiser: sgd\n",
            "\u001b[34m\u001b[1mwandb\u001b[0m: \tweight_decay: 0.0005\n",
            "\u001b[34m\u001b[1mwandb\u001b[0m: \tweight_para: random\n"
          ]
        },
        {
          "output_type": "display_data",
          "data": {
            "text/html": [
              "\n",
              "                    Syncing run <strong><a href=\"https://wandb.ai/anandh/CS6910_Assignment1_MSE/runs/qrtdz76t\" target=\"_blank\">fearless-sweep-6</a></strong> to <a href=\"https://wandb.ai/anandh/CS6910_Assignment1_MSE\" target=\"_blank\">Weights & Biases</a> (<a href=\"https://docs.wandb.com/integrations/jupyter.html\" target=\"_blank\">docs</a>).<br/>\n",
              "Sweep page: <a href=\"https://wandb.ai/anandh/CS6910_Assignment1_MSE/sweeps/2003cnhm\" target=\"_blank\">https://wandb.ai/anandh/CS6910_Assignment1_MSE/sweeps/2003cnhm</a><br/>\n",
              "\n",
              "                "
            ],
            "text/plain": [
              "<IPython.core.display.HTML object>"
            ]
          },
          "metadata": {}
        },
        {
          "output_type": "stream",
          "name": "stdout",
          "text": [
            "[784, 128, 128, 10]\n",
            "calling optimizer sgd \n",
            "Accuracy of  train= 7.094444444444445   Loss of train = 1.6918221806879616   Accuracy of val= 7.366666666666667  Accuracy of val= 1.686130477239001\n",
            "Accuracy of  train= 7.438888888888889   Loss of train = 1.6305993933753216   Accuracy of val= 7.7  Accuracy of val= 1.6224031002257946\n",
            "Accuracy of  train= 8.468518518518518   Loss of train = 1.536759406109836   Accuracy of val= 8.983333333333334  Accuracy of val= 1.5273251605751388\n",
            "Accuracy of  train= 10.761111111111111   Loss of train = 1.401219040011139   Accuracy of val= 11.016666666666666  Accuracy of val= 1.3970990027482812\n",
            "Accuracy of  train= 12.961111111111112   Loss of train = 1.265743974360685   Accuracy of val= 13.166666666666666  Accuracy of val= 1.2658714880718076\n",
            "Accuracy of  test_data= 12.509999999999998\n"
          ]
        },
        {
          "output_type": "display_data",
          "data": {
            "text/html": [
              "<br/>Waiting for W&B process to finish, PID 471... <strong style=\"color:green\">(success).</strong>"
            ],
            "text/plain": [
              "<IPython.core.display.HTML object>"
            ]
          },
          "metadata": {}
        },
        {
          "output_type": "display_data",
          "data": {
            "application/vnd.jupyter.widget-view+json": {
              "model_id": "7b6bab1df38b4506a2bfaccd81538b69",
              "version_minor": 0,
              "version_major": 2
            },
            "text/plain": [
              "VBox(children=(Label(value=' 0.00MB of 0.00MB uploaded (0.00MB deduped)\\r'), FloatProgress(value=1.0, max=1.0)…"
            ]
          },
          "metadata": {}
        },
        {
          "output_type": "display_data",
          "data": {
            "text/html": [
              "<style>\n",
              "    table.wandb td:nth-child(1) { padding: 0 10px; text-align: right }\n",
              "    .wandb-row { display: flex; flex-direction: row; flex-wrap: wrap; width: 100% }\n",
              "    .wandb-col { display: flex; flex-direction: column; flex-basis: 100%; flex: 1; padding: 10px; }\n",
              "    </style>\n",
              "<div class=\"wandb-row\"><div class=\"wandb-col\">\n",
              "<h3>Run history:</h3><br/><table class=\"wandb\"><tr><td>epochs</td><td>▁▃▅▆█</td></tr><tr><td>test_acc</td><td>▁</td></tr><tr><td>train_acc</td><td>▁▁▃▅█</td></tr><tr><td>train_loss</td><td>█▇▅▃▁</td></tr><tr><td>val_acc</td><td>▁▁▃▅█</td></tr><tr><td>val_loss</td><td>█▇▅▃▁</td></tr></table><br/></div><div class=\"wandb-col\">\n",
              "<h3>Run summary:</h3><br/><table class=\"wandb\"><tr><td>epochs</td><td>5</td></tr><tr><td>test_acc</td><td>12.51</td></tr><tr><td>train_acc</td><td>12.96111</td></tr><tr><td>train_loss</td><td>1.26574</td></tr><tr><td>val_acc</td><td>13.16667</td></tr><tr><td>val_loss</td><td>1.26587</td></tr></table>\n",
              "</div></div>\n",
              "Synced 5 W&B file(s), 0 media file(s), 0 artifact file(s) and 0 other file(s)\n",
              "<br/>Synced <strong style=\"color:#cdcd00\">fearless-sweep-6</strong>: <a href=\"https://wandb.ai/anandh/CS6910_Assignment1_MSE/runs/qrtdz76t\" target=\"_blank\">https://wandb.ai/anandh/CS6910_Assignment1_MSE/runs/qrtdz76t</a><br/>\n",
              "Find logs at: <code>./wandb/run-20220225_172202-qrtdz76t/logs</code><br/>\n"
            ],
            "text/plain": [
              "<IPython.core.display.HTML object>"
            ]
          },
          "metadata": {}
        },
        {
          "output_type": "stream",
          "name": "stderr",
          "text": [
            "\u001b[34m\u001b[1mwandb\u001b[0m: Agent Starting Run: k5m9x5hj with config:\n",
            "\u001b[34m\u001b[1mwandb\u001b[0m: \tactivation_para: sigmoid\n",
            "\u001b[34m\u001b[1mwandb\u001b[0m: \tbatch: 32\n",
            "\u001b[34m\u001b[1mwandb\u001b[0m: \tepochs: 10\n",
            "\u001b[34m\u001b[1mwandb\u001b[0m: \teta: 0.01\n",
            "\u001b[34m\u001b[1mwandb\u001b[0m: \tno_of_hidden: 4\n",
            "\u001b[34m\u001b[1mwandb\u001b[0m: \tno_of_neurons: 256\n",
            "\u001b[34m\u001b[1mwandb\u001b[0m: \toptimiser: nadam\n",
            "\u001b[34m\u001b[1mwandb\u001b[0m: \tweight_decay: 0.0005\n",
            "\u001b[34m\u001b[1mwandb\u001b[0m: \tweight_para: random\n"
          ]
        },
        {
          "output_type": "display_data",
          "data": {
            "text/html": [
              "\n",
              "                    Syncing run <strong><a href=\"https://wandb.ai/anandh/CS6910_Assignment1_MSE/runs/k5m9x5hj\" target=\"_blank\">unique-sweep-7</a></strong> to <a href=\"https://wandb.ai/anandh/CS6910_Assignment1_MSE\" target=\"_blank\">Weights & Biases</a> (<a href=\"https://docs.wandb.com/integrations/jupyter.html\" target=\"_blank\">docs</a>).<br/>\n",
              "Sweep page: <a href=\"https://wandb.ai/anandh/CS6910_Assignment1_MSE/sweeps/2003cnhm\" target=\"_blank\">https://wandb.ai/anandh/CS6910_Assignment1_MSE/sweeps/2003cnhm</a><br/>\n",
              "\n",
              "                "
            ],
            "text/plain": [
              "<IPython.core.display.HTML object>"
            ]
          },
          "metadata": {}
        },
        {
          "output_type": "stream",
          "name": "stdout",
          "text": [
            "[784, 256, 256, 256, 256, 10]\n",
            "calling optimizer nadam \n"
          ]
        },
        {
          "output_type": "stream",
          "name": "stderr",
          "text": [
            "/usr/local/lib/python3.7/dist-packages/numpy/core/fromnumeric.py:86: RuntimeWarning: overflow encountered in reduce\n",
            "  return ufunc.reduce(obj, axis, dtype, out, **passkwargs)\n",
            "/usr/local/lib/python3.7/dist-packages/ipykernel_launcher.py:25: RuntimeWarning: overflow encountered in exp\n",
            "/usr/local/lib/python3.7/dist-packages/ipykernel_launcher.py:26: RuntimeWarning: invalid value encountered in true_divide\n"
          ]
        },
        {
          "output_type": "stream",
          "name": "stdout",
          "text": [
            "Accuracy of  train= 15.855555555555556   Loss of train = 0.8939377950496842   Accuracy of val= 16.166666666666664  Accuracy of val= 0.8944070089253986\n",
            "Accuracy of  train= 17.30185185185185   Loss of train = 0.8741672587720606   Accuracy of val= 17.566666666666666  Accuracy of val= 0.8747748725194948\n",
            "Accuracy of  train= 32.43703703703704   Loss of train = 0.8525878702017196   Accuracy of val= 32.05  Accuracy of val= 0.85343211099967\n",
            "Accuracy of  train= 29.43148148148148   Loss of train = 0.8358450186101858   Accuracy of val= 28.249999999999996  Accuracy of val= 0.8395899749559446\n",
            "Accuracy of  train= 33.28333333333333   Loss of train = 0.8125442436230847   Accuracy of val= 32.45  Accuracy of val= 0.8168444697955259\n",
            "Accuracy of  train= 35.02407407407407   Loss of train = 0.7917186366149984   Accuracy of val= 34.36666666666667  Accuracy of val= 0.7967335228627165\n",
            "Accuracy of  train= 10.005555555555555   Loss of train = nan   Accuracy of val= 9.950000000000001  Accuracy of val= nan\n",
            "Accuracy of  train= 10.005555555555555   Loss of train = nan   Accuracy of val= 9.950000000000001  Accuracy of val= nan\n",
            "Accuracy of  train= 10.005555555555555   Loss of train = nan   Accuracy of val= 9.950000000000001  Accuracy of val= nan\n",
            "Accuracy of  train= 10.005555555555555   Loss of train = nan   Accuracy of val= 9.950000000000001  Accuracy of val= nan\n",
            "Accuracy of  test_data= 10.0\n"
          ]
        },
        {
          "output_type": "display_data",
          "data": {
            "text/html": [
              "<br/>Waiting for W&B process to finish, PID 510... <strong style=\"color:green\">(success).</strong>"
            ],
            "text/plain": [
              "<IPython.core.display.HTML object>"
            ]
          },
          "metadata": {}
        },
        {
          "output_type": "display_data",
          "data": {
            "application/vnd.jupyter.widget-view+json": {
              "model_id": "2c6dd2873ca249f8af9b97372aab45b4",
              "version_minor": 0,
              "version_major": 2
            },
            "text/plain": [
              "VBox(children=(Label(value=' 0.00MB of 0.00MB uploaded (0.00MB deduped)\\r'), FloatProgress(value=1.0, max=1.0)…"
            ]
          },
          "metadata": {}
        },
        {
          "output_type": "display_data",
          "data": {
            "text/html": [
              "<style>\n",
              "    table.wandb td:nth-child(1) { padding: 0 10px; text-align: right }\n",
              "    .wandb-row { display: flex; flex-direction: row; flex-wrap: wrap; width: 100% }\n",
              "    .wandb-col { display: flex; flex-direction: column; flex-basis: 100%; flex: 1; padding: 10px; }\n",
              "    </style>\n",
              "<div class=\"wandb-row\"><div class=\"wandb-col\">\n",
              "<h3>Run history:</h3><br/><table class=\"wandb\"><tr><td>epochs</td><td>▁▂▃▃▄▅▆▆▇█</td></tr><tr><td>test_acc</td><td>▁</td></tr><tr><td>train_acc</td><td>▃▃▇▆██▁▁▁▁</td></tr><tr><td>train_loss</td><td>█▇▅▄▂▁    </td></tr><tr><td>val_acc</td><td>▃▃▇▆▇█▁▁▁▁</td></tr><tr><td>val_loss</td><td>█▇▅▄▂▁    </td></tr></table><br/></div><div class=\"wandb-col\">\n",
              "<h3>Run summary:</h3><br/><table class=\"wandb\"><tr><td>epochs</td><td>10</td></tr><tr><td>test_acc</td><td>10.0</td></tr><tr><td>train_acc</td><td>10.00556</td></tr><tr><td>train_loss</td><td>nan</td></tr><tr><td>val_acc</td><td>9.95</td></tr><tr><td>val_loss</td><td>nan</td></tr></table>\n",
              "</div></div>\n",
              "Synced 5 W&B file(s), 0 media file(s), 0 artifact file(s) and 0 other file(s)\n",
              "<br/>Synced <strong style=\"color:#cdcd00\">unique-sweep-7</strong>: <a href=\"https://wandb.ai/anandh/CS6910_Assignment1_MSE/runs/k5m9x5hj\" target=\"_blank\">https://wandb.ai/anandh/CS6910_Assignment1_MSE/runs/k5m9x5hj</a><br/>\n",
              "Find logs at: <code>./wandb/run-20220225_172725-k5m9x5hj/logs</code><br/>\n"
            ],
            "text/plain": [
              "<IPython.core.display.HTML object>"
            ]
          },
          "metadata": {}
        },
        {
          "output_type": "stream",
          "name": "stderr",
          "text": [
            "\u001b[34m\u001b[1mwandb\u001b[0m: Agent Starting Run: ob6bvlkg with config:\n",
            "\u001b[34m\u001b[1mwandb\u001b[0m: \tactivation_para: sigmoid\n",
            "\u001b[34m\u001b[1mwandb\u001b[0m: \tbatch: 32\n",
            "\u001b[34m\u001b[1mwandb\u001b[0m: \tepochs: 10\n",
            "\u001b[34m\u001b[1mwandb\u001b[0m: \teta: 0.01\n",
            "\u001b[34m\u001b[1mwandb\u001b[0m: \tno_of_hidden: 2\n",
            "\u001b[34m\u001b[1mwandb\u001b[0m: \tno_of_neurons: 128\n",
            "\u001b[34m\u001b[1mwandb\u001b[0m: \toptimiser: momentumGD\n",
            "\u001b[34m\u001b[1mwandb\u001b[0m: \tweight_decay: 0.0005\n",
            "\u001b[34m\u001b[1mwandb\u001b[0m: \tweight_para: random\n"
          ]
        },
        {
          "output_type": "display_data",
          "data": {
            "text/html": [
              "\n",
              "                    Syncing run <strong><a href=\"https://wandb.ai/anandh/CS6910_Assignment1_MSE/runs/ob6bvlkg\" target=\"_blank\">splendid-sweep-8</a></strong> to <a href=\"https://wandb.ai/anandh/CS6910_Assignment1_MSE\" target=\"_blank\">Weights & Biases</a> (<a href=\"https://docs.wandb.com/integrations/jupyter.html\" target=\"_blank\">docs</a>).<br/>\n",
              "Sweep page: <a href=\"https://wandb.ai/anandh/CS6910_Assignment1_MSE/sweeps/2003cnhm\" target=\"_blank\">https://wandb.ai/anandh/CS6910_Assignment1_MSE/sweeps/2003cnhm</a><br/>\n",
              "\n",
              "                "
            ],
            "text/plain": [
              "<IPython.core.display.HTML object>"
            ]
          },
          "metadata": {}
        },
        {
          "output_type": "stream",
          "name": "stdout",
          "text": [
            "[784, 128, 128, 10]\n",
            "calling optimizer momentum \n",
            "Accuracy of  train= 17.029629629629632   Loss of train = 0.9089369771816246   Accuracy of val= 16.933333333333334  Accuracy of val= 0.9079081960412618\n",
            "Accuracy of  train= 18.474074074074075   Loss of train = 0.8966736270232923   Accuracy of val= 18.6  Accuracy of val= 0.896002151535403\n",
            "Accuracy of  train= 19.618518518518517   Loss of train = 0.8929434231691338   Accuracy of val= 19.7  Accuracy of val= 0.8923080000477859\n",
            "Accuracy of  train= 20.475925925925925   Loss of train = 0.890535619263744   Accuracy of val= 20.45  Accuracy of val= 0.8898590131857779\n",
            "Accuracy of  train= 21.37037037037037   Loss of train = 0.8882648602696698   Accuracy of val= 21.233333333333334  Accuracy of val= 0.8875816482293197\n",
            "Accuracy of  train= 22.246296296296297   Loss of train = 0.8858967346811125   Accuracy of val= 22.433333333333334  Accuracy of val= 0.8852254457513345\n",
            "Accuracy of  train= 23.246296296296297   Loss of train = 0.883407920700217   Accuracy of val= 23.316666666666666  Accuracy of val= 0.882755169172156\n",
            "Accuracy of  train= 24.229629629629628   Loss of train = 0.8807913268854303   Accuracy of val= 24.383333333333333  Accuracy of val= 0.8801601896633839\n",
            "Accuracy of  train= 25.17037037037037   Loss of train = 0.8780405088664491   Accuracy of val= 25.416666666666664  Accuracy of val= 0.8774331766711566\n",
            "Accuracy of  train= 26.022222222222226   Loss of train = 0.8751488207232502   Accuracy of val= 26.200000000000003  Accuracy of val= 0.8745672934222137\n",
            "Accuracy of  test_data= 25.95\n"
          ]
        },
        {
          "output_type": "display_data",
          "data": {
            "text/html": [
              "<br/>Waiting for W&B process to finish, PID 549... <strong style=\"color:green\">(success).</strong>"
            ],
            "text/plain": [
              "<IPython.core.display.HTML object>"
            ]
          },
          "metadata": {}
        },
        {
          "output_type": "display_data",
          "data": {
            "application/vnd.jupyter.widget-view+json": {
              "model_id": "1757920575db48e9870991e2d37915e2",
              "version_minor": 0,
              "version_major": 2
            },
            "text/plain": [
              "VBox(children=(Label(value=' 0.00MB of 0.00MB uploaded (0.00MB deduped)\\r'), FloatProgress(value=1.0, max=1.0)…"
            ]
          },
          "metadata": {}
        },
        {
          "output_type": "display_data",
          "data": {
            "text/html": [
              "<style>\n",
              "    table.wandb td:nth-child(1) { padding: 0 10px; text-align: right }\n",
              "    .wandb-row { display: flex; flex-direction: row; flex-wrap: wrap; width: 100% }\n",
              "    .wandb-col { display: flex; flex-direction: column; flex-basis: 100%; flex: 1; padding: 10px; }\n",
              "    </style>\n",
              "<div class=\"wandb-row\"><div class=\"wandb-col\">\n",
              "<h3>Run history:</h3><br/><table class=\"wandb\"><tr><td>epochs</td><td>▁▂▃▃▄▅▆▆▇█</td></tr><tr><td>test_acc</td><td>▁</td></tr><tr><td>train_acc</td><td>▁▂▃▄▄▅▆▇▇█</td></tr><tr><td>train_loss</td><td>█▅▅▄▄▃▃▂▂▁</td></tr><tr><td>val_acc</td><td>▁▂▃▄▄▅▆▇▇█</td></tr><tr><td>val_loss</td><td>█▆▅▄▄▃▃▂▂▁</td></tr></table><br/></div><div class=\"wandb-col\">\n",
              "<h3>Run summary:</h3><br/><table class=\"wandb\"><tr><td>epochs</td><td>10</td></tr><tr><td>test_acc</td><td>25.95</td></tr><tr><td>train_acc</td><td>26.02222</td></tr><tr><td>train_loss</td><td>0.87515</td></tr><tr><td>val_acc</td><td>26.2</td></tr><tr><td>val_loss</td><td>0.87457</td></tr></table>\n",
              "</div></div>\n",
              "Synced 5 W&B file(s), 0 media file(s), 0 artifact file(s) and 0 other file(s)\n",
              "<br/>Synced <strong style=\"color:#cdcd00\">splendid-sweep-8</strong>: <a href=\"https://wandb.ai/anandh/CS6910_Assignment1_MSE/runs/ob6bvlkg\" target=\"_blank\">https://wandb.ai/anandh/CS6910_Assignment1_MSE/runs/ob6bvlkg</a><br/>\n",
              "Find logs at: <code>./wandb/run-20220225_173547-ob6bvlkg/logs</code><br/>\n"
            ],
            "text/plain": [
              "<IPython.core.display.HTML object>"
            ]
          },
          "metadata": {}
        },
        {
          "output_type": "stream",
          "name": "stderr",
          "text": [
            "\u001b[34m\u001b[1mwandb\u001b[0m: Agent Starting Run: zs7j3maj with config:\n",
            "\u001b[34m\u001b[1mwandb\u001b[0m: \tactivation_para: sigmoid\n",
            "\u001b[34m\u001b[1mwandb\u001b[0m: \tbatch: 32\n",
            "\u001b[34m\u001b[1mwandb\u001b[0m: \tepochs: 10\n",
            "\u001b[34m\u001b[1mwandb\u001b[0m: \teta: 0.01\n",
            "\u001b[34m\u001b[1mwandb\u001b[0m: \tno_of_hidden: 2\n",
            "\u001b[34m\u001b[1mwandb\u001b[0m: \tno_of_neurons: 128\n",
            "\u001b[34m\u001b[1mwandb\u001b[0m: \toptimiser: momentumGD\n",
            "\u001b[34m\u001b[1mwandb\u001b[0m: \tweight_decay: 0.0005\n",
            "\u001b[34m\u001b[1mwandb\u001b[0m: \tweight_para: Xavier\n"
          ]
        },
        {
          "output_type": "display_data",
          "data": {
            "text/html": [
              "\n",
              "                    Syncing run <strong><a href=\"https://wandb.ai/anandh/CS6910_Assignment1_MSE/runs/zs7j3maj\" target=\"_blank\">dulcet-sweep-9</a></strong> to <a href=\"https://wandb.ai/anandh/CS6910_Assignment1_MSE\" target=\"_blank\">Weights & Biases</a> (<a href=\"https://docs.wandb.com/integrations/jupyter.html\" target=\"_blank\">docs</a>).<br/>\n",
              "Sweep page: <a href=\"https://wandb.ai/anandh/CS6910_Assignment1_MSE/sweeps/2003cnhm\" target=\"_blank\">https://wandb.ai/anandh/CS6910_Assignment1_MSE/sweeps/2003cnhm</a><br/>\n",
              "\n",
              "                "
            ],
            "text/plain": [
              "<IPython.core.display.HTML object>"
            ]
          },
          "metadata": {}
        },
        {
          "output_type": "stream",
          "name": "stdout",
          "text": [
            "[784, 128, 128, 10]\n",
            "calling optimizer momentum \n",
            "Accuracy of  train= 12.027777777777777   Loss of train = 0.9332282212932402   Accuracy of val= 11.216666666666667  Accuracy of val= 0.9341888333406094\n",
            "Accuracy of  train= 13.124074074074073   Loss of train = 0.9231496999113045   Accuracy of val= 12.366666666666665  Accuracy of val= 0.9240765749729971\n",
            "Accuracy of  train= 13.064814814814815   Loss of train = 0.9152596262486508   Accuracy of val= 12.266666666666666  Accuracy of val= 0.9160782367856288\n",
            "Accuracy of  train= 11.827777777777778   Loss of train = 0.9125516431753367   Accuracy of val= 11.416666666666666  Accuracy of val= 0.9133616234997256\n",
            "Accuracy of  train= 12.616666666666667   Loss of train = 0.9103660047581946   Accuracy of val= 12.1  Accuracy of val= 0.9112819882081018\n",
            "Accuracy of  train= 13.574074074074074   Loss of train = 0.9080272533949897   Accuracy of val= 13.016666666666667  Accuracy of val= 0.9090679262829866\n",
            "Accuracy of  train= 14.627777777777778   Loss of train = 0.9055114404897202   Accuracy of val= 14.000000000000002  Accuracy of val= 0.9066891169932167\n",
            "Accuracy of  train= 15.74074074074074   Loss of train = 0.902819463602509   Accuracy of val= 14.966666666666667  Accuracy of val= 0.9041487228036719\n",
            "Accuracy of  train= 16.757407407407406   Loss of train = 0.8999934305841599   Accuracy of val= 16.1  Accuracy of val= 0.9014914510302554\n",
            "Accuracy of  train= 17.762962962962963   Loss of train = 0.8971394290498198   Accuracy of val= 17.083333333333332  Accuracy of val= 0.8988227261246817\n",
            "Accuracy of  test_data= 17.580000000000002\n"
          ]
        },
        {
          "output_type": "display_data",
          "data": {
            "text/html": [
              "<br/>Waiting for W&B process to finish, PID 588... <strong style=\"color:green\">(success).</strong>"
            ],
            "text/plain": [
              "<IPython.core.display.HTML object>"
            ]
          },
          "metadata": {}
        },
        {
          "output_type": "display_data",
          "data": {
            "application/vnd.jupyter.widget-view+json": {
              "model_id": "45de3f7528e048749a79444baf050937",
              "version_minor": 0,
              "version_major": 2
            },
            "text/plain": [
              "VBox(children=(Label(value=' 0.00MB of 0.00MB uploaded (0.00MB deduped)\\r'), FloatProgress(value=1.0, max=1.0)…"
            ]
          },
          "metadata": {}
        },
        {
          "output_type": "display_data",
          "data": {
            "text/html": [
              "<style>\n",
              "    table.wandb td:nth-child(1) { padding: 0 10px; text-align: right }\n",
              "    .wandb-row { display: flex; flex-direction: row; flex-wrap: wrap; width: 100% }\n",
              "    .wandb-col { display: flex; flex-direction: column; flex-basis: 100%; flex: 1; padding: 10px; }\n",
              "    </style>\n",
              "<div class=\"wandb-row\"><div class=\"wandb-col\">\n",
              "<h3>Run history:</h3><br/><table class=\"wandb\"><tr><td>epochs</td><td>▁▂▃▃▄▅▆▆▇█</td></tr><tr><td>test_acc</td><td>▁</td></tr><tr><td>train_acc</td><td>▁▃▂▁▂▃▄▆▇█</td></tr><tr><td>train_loss</td><td>█▆▅▄▄▃▃▂▂▁</td></tr><tr><td>val_acc</td><td>▁▂▂▁▂▃▄▅▇█</td></tr><tr><td>val_loss</td><td>█▆▄▄▃▃▃▂▂▁</td></tr></table><br/></div><div class=\"wandb-col\">\n",
              "<h3>Run summary:</h3><br/><table class=\"wandb\"><tr><td>epochs</td><td>10</td></tr><tr><td>test_acc</td><td>17.58</td></tr><tr><td>train_acc</td><td>17.76296</td></tr><tr><td>train_loss</td><td>0.89714</td></tr><tr><td>val_acc</td><td>17.08333</td></tr><tr><td>val_loss</td><td>0.89882</td></tr></table>\n",
              "</div></div>\n",
              "Synced 5 W&B file(s), 0 media file(s), 0 artifact file(s) and 0 other file(s)\n",
              "<br/>Synced <strong style=\"color:#cdcd00\">dulcet-sweep-9</strong>: <a href=\"https://wandb.ai/anandh/CS6910_Assignment1_MSE/runs/zs7j3maj\" target=\"_blank\">https://wandb.ai/anandh/CS6910_Assignment1_MSE/runs/zs7j3maj</a><br/>\n",
              "Find logs at: <code>./wandb/run-20220225_173744-zs7j3maj/logs</code><br/>\n"
            ],
            "text/plain": [
              "<IPython.core.display.HTML object>"
            ]
          },
          "metadata": {}
        },
        {
          "output_type": "stream",
          "name": "stderr",
          "text": [
            "\u001b[34m\u001b[1mwandb\u001b[0m: Agent Starting Run: ojlshkai with config:\n",
            "\u001b[34m\u001b[1mwandb\u001b[0m: \tactivation_para: sigmoid\n",
            "\u001b[34m\u001b[1mwandb\u001b[0m: \tbatch: 100\n",
            "\u001b[34m\u001b[1mwandb\u001b[0m: \tepochs: 10\n",
            "\u001b[34m\u001b[1mwandb\u001b[0m: \teta: 0.001\n",
            "\u001b[34m\u001b[1mwandb\u001b[0m: \tno_of_hidden: 2\n",
            "\u001b[34m\u001b[1mwandb\u001b[0m: \tno_of_neurons: 256\n",
            "\u001b[34m\u001b[1mwandb\u001b[0m: \toptimiser: nadam\n",
            "\u001b[34m\u001b[1mwandb\u001b[0m: \tweight_decay: 0.0005\n",
            "\u001b[34m\u001b[1mwandb\u001b[0m: \tweight_para: Xavier\n"
          ]
        },
        {
          "output_type": "display_data",
          "data": {
            "text/html": [
              "\n",
              "                    Syncing run <strong><a href=\"https://wandb.ai/anandh/CS6910_Assignment1_MSE/runs/ojlshkai\" target=\"_blank\">different-sweep-10</a></strong> to <a href=\"https://wandb.ai/anandh/CS6910_Assignment1_MSE\" target=\"_blank\">Weights & Biases</a> (<a href=\"https://docs.wandb.com/integrations/jupyter.html\" target=\"_blank\">docs</a>).<br/>\n",
              "Sweep page: <a href=\"https://wandb.ai/anandh/CS6910_Assignment1_MSE/sweeps/2003cnhm\" target=\"_blank\">https://wandb.ai/anandh/CS6910_Assignment1_MSE/sweeps/2003cnhm</a><br/>\n",
              "\n",
              "                "
            ],
            "text/plain": [
              "<IPython.core.display.HTML object>"
            ]
          },
          "metadata": {}
        },
        {
          "output_type": "stream",
          "name": "stdout",
          "text": [
            "[784, 256, 256, 10]\n",
            "calling optimizer nadam \n"
          ]
        }
      ],
      "source": [
        "features=784\n",
        "n_class=10\n",
        "loss='square_loss'\n",
        "#la=[]\n",
        "#L=0\n",
        "#print(\"calling FF_fit\")\n",
        "def FF_fit():\n",
        "    \"\"\"\n",
        "    This function is used for the hyperparameter tuning using wandb sweeps\n",
        "    \"\"\"\n",
        "    # Default values for hyper-parameters\n",
        "    config_defaults = {\n",
        "        'epochs': 10,\n",
        "        'batch': 64,\n",
        "        'eta': 1e-3,\n",
        "        'activation_para': 'relu',\n",
        "        'optimiser': 'adam',\n",
        "        'weight_para': 'Xavier',\n",
        "        'weight_decay': 0,\n",
        "        'no_of_neurons': 64,\n",
        "        'no_of_hidden': 3\n",
        "    }\n",
        "    \n",
        "    la=[]\n",
        "    L=0\n",
        "    #wandb.init()\n",
        "    wandb.init(config=config_defaults)\n",
        "    config = wandb.config\n",
        "    \n",
        "    no_of_neurons = config.no_of_neurons\n",
        "    no_of_hidden = config.no_of_hidden\n",
        "    weight_para = config.weight_para\n",
        "    epochs = config.epochs\n",
        "    batch = config.batch\n",
        "    eta = config.eta\n",
        "    activation_para = config.activation_para\n",
        "    weight_decay = config.weight_decay\n",
        "    optimiser = config.optimiser\n",
        "    \n",
        "    \n",
        "    la =[features]+[no_of_neurons]*no_of_hidden+[n_class]\n",
        "    print(la)\n",
        "    L =len(la)-1\n",
        "    \n",
        "    name = \"lr_\"+str(config.eta)+\"_hl_\"+str(config.no_of_hidden)+\"_bs_\"+str(config.batch)+\"_ac_\"+str(config.activation_para)+\"_ep_\"+str(config.epochs)\n",
        "    wandb.run.name = name\n",
        "    # name = \"lr_{}_af_{}_in_{}_op_{}_b_{}_wd_{}_ep_{}_nn_{}_nh_{}\".format(eta, activation_para, weight_para, optimiser, batch, weight_decay, epochs, no_of_neurons, no_of_hidden)\n",
        "    # print(name)\n",
        "    # fit(X,y,100,5,0.01,'Xavier','nadam','cross_entropy',0.0005,'tanh')\n",
        "    train_acc,train_loss,val_acc,val_loss=fit(X,y,batch,epochs,eta,weight_para,optimiser,loss,weight_decay,activation_para,la,L)\n",
        "\n",
        "    #printing Accuracy and loss\n",
        "    for p in range(len(train_acc)):\n",
        "       print(\"Accuracy of  train= \" + str(train_acc[p]) +\"   Loss of train = \" + str(train_loss[p]) + \"   Accuracy of val= \" + str(val_acc[p]) + \"  Accuracy of val= \" + str(val_loss[p]))\n",
        "\n",
        "    test_acc=accuracy(X_test.T,y_test,params,activation_para)\n",
        "    print(\"Accuracy of  test_data= \" + str(test_acc))\n",
        "\n",
        "    for i in range(len(train_acc)):\n",
        "      wandb.log({'train_acc':train_acc[i], 'train_loss':train_loss[i], 'val_acc':val_acc[i] ,'val_loss':val_loss[i], 'epochs': i+1})\n",
        "    wandb.log({'test_acc' : test_acc})\n",
        "    wandb.run.save()\n",
        "    wandb.run.finish()\n",
        "    \n",
        "sweep_config = {\n",
        "    'method': 'bayes', #grid, random\n",
        "    'metric': {\n",
        "      'name': 'val_loss',\n",
        "      'goal': 'minimize'   \n",
        "    },\n",
        "    'parameters': {\n",
        "        'epochs': {\n",
        "            'values': [5,10]\n",
        "        },\n",
        "        'no_of_hidden': {\n",
        "            'values': [2,3,4]\n",
        "        },\n",
        "        'no_of_neurons': {\n",
        "            'values': [128,256]\n",
        "        },\n",
        "        'weight_decay': {\n",
        "            'values': [0,0.0005]\n",
        "        },\n",
        "        'eta': {\n",
        "            'values': [ 0.01,0.001]\n",
        "        },\n",
        "        'optimiser': {\n",
        "            'values': ['sgd', 'momentumGD', 'nag', 'rms', 'adam','nadam']\n",
        "        },\n",
        "        'batch':{\n",
        "            'values': [16,32,64,100]\n",
        "        },\n",
        "        'weight_para':{\n",
        "            'values': ['random','Xavier']\n",
        "        },\n",
        "        'activation_para': {\n",
        "            'values': ['tanh','sigmoid', 'relu']\n",
        "        }\n",
        "    }\n",
        "}\n",
        "    \n",
        "#wandb.init(project='cs6910-assignment1', name = 'class-samples-1')\n",
        "#wandb.init(entity=\"anandh\", project = \"CS6910_Assignment1_Sweep\")\n",
        "sweep_id=wandb.sweep(sweep_config,entity=\"anandh\", project = \"CS6910_Assignment1_MSE\")\n",
        "#sweep_id= \"meo8511v\"\n",
        "#%start wandb sweep\n",
        "wandb.agent(sweep_id, FF_fit, count = 10)\n",
        "#wandb.agent(sweep_id, FF_fit, entity=\"anandh\", project = \"CS6910_Assignment1_Sweep\", count = 20)\n"
      ]
    },
    {
      "cell_type": "code",
      "source": [
        ""
      ],
      "metadata": {
        "id": "VJEhLatX0BKX"
      },
      "execution_count": null,
      "outputs": []
    },
    {
      "cell_type": "code",
      "source": [
        "(X_mnist_full, y_mnist_full), (X_test_mnist_full, y_test_mnist_full) = mnist.load_data()\n",
        "\n",
        "# Reshaping the data \n",
        "X_mnist_full = X.reshape(X.shape[0], 784)\n",
        "X_test_mnist_full = X_test.reshape(X_test.shape[0], 784)\n",
        "\n",
        "# Normalizing\n",
        "X_mnist_full = X_mnist_full/255.0\n",
        "X_test_mnist_full = X_test_mnist_full/255.0\n",
        "\n",
        "#layer_dimensions\n",
        "la_mnist_full=[784, 256, 256, 256, 10]\n",
        "L_mnist_full= len(la)-1\n",
        "\n",
        "# Split the data X into a training set and validation set\n",
        "X_train_mnist_full, X_val_mnist_full, y_train_mnist_full, y_val_mnist_full = train_test_split(X_mnist_full, y_mnist_full, test_size=0.1, random_state=42)\n",
        "\n",
        "train_acc_mnist_full,train_loss_mnist_full,val_acc_mnist_full,val_loss_mnist_full= fit(X_mnist_full,y_mnist_full,100,5,0.01,'Xavier','nadam','cross_entropy',0.0005,'tanh',la_mnist_full,L_mnist_full)\n",
        "\n",
        "#train_acc,train_loss,val_acc,val_loss=fit(X,y,batch,epochs,eta,weight_para,optimiser,loss,weight_decay,activation_para)\n",
        "\n",
        "#printing Accuracy and loss\n",
        "for p in range(train_acc_mnist_full):\n",
        "  print(\"Accuracy of  train= \" + str(train_acc_mnist_full[p]) +\"Loss of train = \" + str(train_loss_mnist_full[p]) + \"Accuracy of val=\" + str(val_acc_mnist_full[p]) + \"Accuracy of val=\" + str(val_loss_mnist_full[p]))\n",
        "\n",
        "   "
      ],
      "metadata": {
        "id": "JDKQbRVPa735"
      },
      "execution_count": null,
      "outputs": []
    }
  ],
  "metadata": {
    "colab": {
      "collapsed_sections": [],
      "name": "MSE",
      "provenance": [],
      "include_colab_link": true
    },
    "kernelspec": {
      "display_name": "Python 3",
      "name": "python3"
    },
    "language_info": {
      "name": "python"
    },
    "widgets": {
      "application/vnd.jupyter.widget-state+json": {
        "365d4f582ab045ba9c65362031a5b4e6": {
          "model_module": "@jupyter-widgets/controls",
          "model_name": "VBoxModel",
          "model_module_version": "1.5.0",
          "state": {
            "_view_name": "VBoxView",
            "_dom_classes": [],
            "_model_name": "VBoxModel",
            "_view_module": "@jupyter-widgets/controls",
            "_model_module_version": "1.5.0",
            "_view_count": null,
            "_view_module_version": "1.5.0",
            "box_style": "",
            "layout": "IPY_MODEL_b12701b89c9b4ab782b53ddd404c3c50",
            "_model_module": "@jupyter-widgets/controls",
            "children": [
              "IPY_MODEL_778d0c146347400c9777bdf6100d88ed",
              "IPY_MODEL_fbc69b9c2c4a45e5930e2ea40d9d9fec"
            ]
          }
        },
        "b12701b89c9b4ab782b53ddd404c3c50": {
          "model_module": "@jupyter-widgets/base",
          "model_name": "LayoutModel",
          "model_module_version": "1.2.0",
          "state": {
            "_view_name": "LayoutView",
            "grid_template_rows": null,
            "right": null,
            "justify_content": null,
            "_view_module": "@jupyter-widgets/base",
            "overflow": null,
            "_model_module_version": "1.2.0",
            "_view_count": null,
            "flex_flow": null,
            "width": null,
            "min_width": null,
            "border": null,
            "align_items": null,
            "bottom": null,
            "_model_module": "@jupyter-widgets/base",
            "top": null,
            "grid_column": null,
            "overflow_y": null,
            "overflow_x": null,
            "grid_auto_flow": null,
            "grid_area": null,
            "grid_template_columns": null,
            "flex": null,
            "_model_name": "LayoutModel",
            "justify_items": null,
            "grid_row": null,
            "max_height": null,
            "align_content": null,
            "visibility": null,
            "align_self": null,
            "height": null,
            "min_height": null,
            "padding": null,
            "grid_auto_rows": null,
            "grid_gap": null,
            "max_width": null,
            "order": null,
            "_view_module_version": "1.2.0",
            "grid_template_areas": null,
            "object_position": null,
            "object_fit": null,
            "grid_auto_columns": null,
            "margin": null,
            "display": null,
            "left": null
          }
        },
        "778d0c146347400c9777bdf6100d88ed": {
          "model_module": "@jupyter-widgets/controls",
          "model_name": "LabelModel",
          "model_module_version": "1.5.0",
          "state": {
            "_view_name": "LabelView",
            "style": "IPY_MODEL_d0a0e1cbbf634193a4b4c66c7cc55222",
            "_dom_classes": [],
            "description": "",
            "_model_name": "LabelModel",
            "placeholder": "​",
            "_view_module": "@jupyter-widgets/controls",
            "_model_module_version": "1.5.0",
            "value": " 0.01MB of 0.01MB uploaded (0.00MB deduped)\r",
            "_view_count": null,
            "_view_module_version": "1.5.0",
            "description_tooltip": null,
            "_model_module": "@jupyter-widgets/controls",
            "layout": "IPY_MODEL_5fe53ee7b76e4a3c93aa849ba88a8ae5"
          }
        },
        "fbc69b9c2c4a45e5930e2ea40d9d9fec": {
          "model_module": "@jupyter-widgets/controls",
          "model_name": "FloatProgressModel",
          "model_module_version": "1.5.0",
          "state": {
            "_view_name": "ProgressView",
            "style": "IPY_MODEL_e710a5abc03c4db1915e93883c34e390",
            "_dom_classes": [],
            "description": "",
            "_model_name": "FloatProgressModel",
            "bar_style": "",
            "max": 1,
            "_view_module": "@jupyter-widgets/controls",
            "_model_module_version": "1.5.0",
            "value": 1,
            "_view_count": null,
            "_view_module_version": "1.5.0",
            "orientation": "horizontal",
            "min": 0,
            "description_tooltip": null,
            "_model_module": "@jupyter-widgets/controls",
            "layout": "IPY_MODEL_9e851b556301456885627b1348da3b55"
          }
        },
        "d0a0e1cbbf634193a4b4c66c7cc55222": {
          "model_module": "@jupyter-widgets/controls",
          "model_name": "DescriptionStyleModel",
          "model_module_version": "1.5.0",
          "state": {
            "_view_name": "StyleView",
            "_model_name": "DescriptionStyleModel",
            "description_width": "",
            "_view_module": "@jupyter-widgets/base",
            "_model_module_version": "1.5.0",
            "_view_count": null,
            "_view_module_version": "1.2.0",
            "_model_module": "@jupyter-widgets/controls"
          }
        },
        "5fe53ee7b76e4a3c93aa849ba88a8ae5": {
          "model_module": "@jupyter-widgets/base",
          "model_name": "LayoutModel",
          "model_module_version": "1.2.0",
          "state": {
            "_view_name": "LayoutView",
            "grid_template_rows": null,
            "right": null,
            "justify_content": null,
            "_view_module": "@jupyter-widgets/base",
            "overflow": null,
            "_model_module_version": "1.2.0",
            "_view_count": null,
            "flex_flow": null,
            "width": null,
            "min_width": null,
            "border": null,
            "align_items": null,
            "bottom": null,
            "_model_module": "@jupyter-widgets/base",
            "top": null,
            "grid_column": null,
            "overflow_y": null,
            "overflow_x": null,
            "grid_auto_flow": null,
            "grid_area": null,
            "grid_template_columns": null,
            "flex": null,
            "_model_name": "LayoutModel",
            "justify_items": null,
            "grid_row": null,
            "max_height": null,
            "align_content": null,
            "visibility": null,
            "align_self": null,
            "height": null,
            "min_height": null,
            "padding": null,
            "grid_auto_rows": null,
            "grid_gap": null,
            "max_width": null,
            "order": null,
            "_view_module_version": "1.2.0",
            "grid_template_areas": null,
            "object_position": null,
            "object_fit": null,
            "grid_auto_columns": null,
            "margin": null,
            "display": null,
            "left": null
          }
        },
        "e710a5abc03c4db1915e93883c34e390": {
          "model_module": "@jupyter-widgets/controls",
          "model_name": "ProgressStyleModel",
          "model_module_version": "1.5.0",
          "state": {
            "_view_name": "StyleView",
            "_model_name": "ProgressStyleModel",
            "description_width": "",
            "_view_module": "@jupyter-widgets/base",
            "_model_module_version": "1.5.0",
            "_view_count": null,
            "_view_module_version": "1.2.0",
            "bar_color": null,
            "_model_module": "@jupyter-widgets/controls"
          }
        },
        "9e851b556301456885627b1348da3b55": {
          "model_module": "@jupyter-widgets/base",
          "model_name": "LayoutModel",
          "model_module_version": "1.2.0",
          "state": {
            "_view_name": "LayoutView",
            "grid_template_rows": null,
            "right": null,
            "justify_content": null,
            "_view_module": "@jupyter-widgets/base",
            "overflow": null,
            "_model_module_version": "1.2.0",
            "_view_count": null,
            "flex_flow": null,
            "width": null,
            "min_width": null,
            "border": null,
            "align_items": null,
            "bottom": null,
            "_model_module": "@jupyter-widgets/base",
            "top": null,
            "grid_column": null,
            "overflow_y": null,
            "overflow_x": null,
            "grid_auto_flow": null,
            "grid_area": null,
            "grid_template_columns": null,
            "flex": null,
            "_model_name": "LayoutModel",
            "justify_items": null,
            "grid_row": null,
            "max_height": null,
            "align_content": null,
            "visibility": null,
            "align_self": null,
            "height": null,
            "min_height": null,
            "padding": null,
            "grid_auto_rows": null,
            "grid_gap": null,
            "max_width": null,
            "order": null,
            "_view_module_version": "1.2.0",
            "grid_template_areas": null,
            "object_position": null,
            "object_fit": null,
            "grid_auto_columns": null,
            "margin": null,
            "display": null,
            "left": null
          }
        },
        "afbfca55fc104d288df249abfb165161": {
          "model_module": "@jupyter-widgets/controls",
          "model_name": "VBoxModel",
          "model_module_version": "1.5.0",
          "state": {
            "_view_name": "VBoxView",
            "_dom_classes": [],
            "_model_name": "VBoxModel",
            "_view_module": "@jupyter-widgets/controls",
            "_model_module_version": "1.5.0",
            "_view_count": null,
            "_view_module_version": "1.5.0",
            "box_style": "",
            "layout": "IPY_MODEL_24d02c20cda441ee9489c818245e8dfd",
            "_model_module": "@jupyter-widgets/controls",
            "children": [
              "IPY_MODEL_7ea4fdf9538349d0ab2ce0a706cb7b22",
              "IPY_MODEL_97935846748144d8a58aa34c55de212a"
            ]
          }
        },
        "24d02c20cda441ee9489c818245e8dfd": {
          "model_module": "@jupyter-widgets/base",
          "model_name": "LayoutModel",
          "model_module_version": "1.2.0",
          "state": {
            "_view_name": "LayoutView",
            "grid_template_rows": null,
            "right": null,
            "justify_content": null,
            "_view_module": "@jupyter-widgets/base",
            "overflow": null,
            "_model_module_version": "1.2.0",
            "_view_count": null,
            "flex_flow": null,
            "width": null,
            "min_width": null,
            "border": null,
            "align_items": null,
            "bottom": null,
            "_model_module": "@jupyter-widgets/base",
            "top": null,
            "grid_column": null,
            "overflow_y": null,
            "overflow_x": null,
            "grid_auto_flow": null,
            "grid_area": null,
            "grid_template_columns": null,
            "flex": null,
            "_model_name": "LayoutModel",
            "justify_items": null,
            "grid_row": null,
            "max_height": null,
            "align_content": null,
            "visibility": null,
            "align_self": null,
            "height": null,
            "min_height": null,
            "padding": null,
            "grid_auto_rows": null,
            "grid_gap": null,
            "max_width": null,
            "order": null,
            "_view_module_version": "1.2.0",
            "grid_template_areas": null,
            "object_position": null,
            "object_fit": null,
            "grid_auto_columns": null,
            "margin": null,
            "display": null,
            "left": null
          }
        },
        "7ea4fdf9538349d0ab2ce0a706cb7b22": {
          "model_module": "@jupyter-widgets/controls",
          "model_name": "LabelModel",
          "model_module_version": "1.5.0",
          "state": {
            "_view_name": "LabelView",
            "style": "IPY_MODEL_4e13c7918e814561a0b41bf1cd005e0a",
            "_dom_classes": [],
            "description": "",
            "_model_name": "LabelModel",
            "placeholder": "​",
            "_view_module": "@jupyter-widgets/controls",
            "_model_module_version": "1.5.0",
            "value": " 0.01MB of 0.01MB uploaded (0.00MB deduped)\r",
            "_view_count": null,
            "_view_module_version": "1.5.0",
            "description_tooltip": null,
            "_model_module": "@jupyter-widgets/controls",
            "layout": "IPY_MODEL_d730eb6f3ebf43f3b013d42bff2d9d7a"
          }
        },
        "97935846748144d8a58aa34c55de212a": {
          "model_module": "@jupyter-widgets/controls",
          "model_name": "FloatProgressModel",
          "model_module_version": "1.5.0",
          "state": {
            "_view_name": "ProgressView",
            "style": "IPY_MODEL_60d3c47ea8f94f32b97897fb22c460bb",
            "_dom_classes": [],
            "description": "",
            "_model_name": "FloatProgressModel",
            "bar_style": "",
            "max": 1,
            "_view_module": "@jupyter-widgets/controls",
            "_model_module_version": "1.5.0",
            "value": 1,
            "_view_count": null,
            "_view_module_version": "1.5.0",
            "orientation": "horizontal",
            "min": 0,
            "description_tooltip": null,
            "_model_module": "@jupyter-widgets/controls",
            "layout": "IPY_MODEL_94308ddb2f4840eabeb3c429d0e6f42a"
          }
        },
        "4e13c7918e814561a0b41bf1cd005e0a": {
          "model_module": "@jupyter-widgets/controls",
          "model_name": "DescriptionStyleModel",
          "model_module_version": "1.5.0",
          "state": {
            "_view_name": "StyleView",
            "_model_name": "DescriptionStyleModel",
            "description_width": "",
            "_view_module": "@jupyter-widgets/base",
            "_model_module_version": "1.5.0",
            "_view_count": null,
            "_view_module_version": "1.2.0",
            "_model_module": "@jupyter-widgets/controls"
          }
        },
        "d730eb6f3ebf43f3b013d42bff2d9d7a": {
          "model_module": "@jupyter-widgets/base",
          "model_name": "LayoutModel",
          "model_module_version": "1.2.0",
          "state": {
            "_view_name": "LayoutView",
            "grid_template_rows": null,
            "right": null,
            "justify_content": null,
            "_view_module": "@jupyter-widgets/base",
            "overflow": null,
            "_model_module_version": "1.2.0",
            "_view_count": null,
            "flex_flow": null,
            "width": null,
            "min_width": null,
            "border": null,
            "align_items": null,
            "bottom": null,
            "_model_module": "@jupyter-widgets/base",
            "top": null,
            "grid_column": null,
            "overflow_y": null,
            "overflow_x": null,
            "grid_auto_flow": null,
            "grid_area": null,
            "grid_template_columns": null,
            "flex": null,
            "_model_name": "LayoutModel",
            "justify_items": null,
            "grid_row": null,
            "max_height": null,
            "align_content": null,
            "visibility": null,
            "align_self": null,
            "height": null,
            "min_height": null,
            "padding": null,
            "grid_auto_rows": null,
            "grid_gap": null,
            "max_width": null,
            "order": null,
            "_view_module_version": "1.2.0",
            "grid_template_areas": null,
            "object_position": null,
            "object_fit": null,
            "grid_auto_columns": null,
            "margin": null,
            "display": null,
            "left": null
          }
        },
        "60d3c47ea8f94f32b97897fb22c460bb": {
          "model_module": "@jupyter-widgets/controls",
          "model_name": "ProgressStyleModel",
          "model_module_version": "1.5.0",
          "state": {
            "_view_name": "StyleView",
            "_model_name": "ProgressStyleModel",
            "description_width": "",
            "_view_module": "@jupyter-widgets/base",
            "_model_module_version": "1.5.0",
            "_view_count": null,
            "_view_module_version": "1.2.0",
            "bar_color": null,
            "_model_module": "@jupyter-widgets/controls"
          }
        },
        "94308ddb2f4840eabeb3c429d0e6f42a": {
          "model_module": "@jupyter-widgets/base",
          "model_name": "LayoutModel",
          "model_module_version": "1.2.0",
          "state": {
            "_view_name": "LayoutView",
            "grid_template_rows": null,
            "right": null,
            "justify_content": null,
            "_view_module": "@jupyter-widgets/base",
            "overflow": null,
            "_model_module_version": "1.2.0",
            "_view_count": null,
            "flex_flow": null,
            "width": null,
            "min_width": null,
            "border": null,
            "align_items": null,
            "bottom": null,
            "_model_module": "@jupyter-widgets/base",
            "top": null,
            "grid_column": null,
            "overflow_y": null,
            "overflow_x": null,
            "grid_auto_flow": null,
            "grid_area": null,
            "grid_template_columns": null,
            "flex": null,
            "_model_name": "LayoutModel",
            "justify_items": null,
            "grid_row": null,
            "max_height": null,
            "align_content": null,
            "visibility": null,
            "align_self": null,
            "height": null,
            "min_height": null,
            "padding": null,
            "grid_auto_rows": null,
            "grid_gap": null,
            "max_width": null,
            "order": null,
            "_view_module_version": "1.2.0",
            "grid_template_areas": null,
            "object_position": null,
            "object_fit": null,
            "grid_auto_columns": null,
            "margin": null,
            "display": null,
            "left": null
          }
        },
        "528c8d2a4c704706b3c16fd7fcb3fc06": {
          "model_module": "@jupyter-widgets/controls",
          "model_name": "VBoxModel",
          "model_module_version": "1.5.0",
          "state": {
            "_view_name": "VBoxView",
            "_dom_classes": [],
            "_model_name": "VBoxModel",
            "_view_module": "@jupyter-widgets/controls",
            "_model_module_version": "1.5.0",
            "_view_count": null,
            "_view_module_version": "1.5.0",
            "box_style": "",
            "layout": "IPY_MODEL_4d12ac8c08964d2dbc69d3373c6aeccb",
            "_model_module": "@jupyter-widgets/controls",
            "children": [
              "IPY_MODEL_6f1aa4d6f191429fb006a38a69de8d03",
              "IPY_MODEL_f7f6a317172d4b9d82857ed352f235a6"
            ]
          }
        },
        "4d12ac8c08964d2dbc69d3373c6aeccb": {
          "model_module": "@jupyter-widgets/base",
          "model_name": "LayoutModel",
          "model_module_version": "1.2.0",
          "state": {
            "_view_name": "LayoutView",
            "grid_template_rows": null,
            "right": null,
            "justify_content": null,
            "_view_module": "@jupyter-widgets/base",
            "overflow": null,
            "_model_module_version": "1.2.0",
            "_view_count": null,
            "flex_flow": null,
            "width": null,
            "min_width": null,
            "border": null,
            "align_items": null,
            "bottom": null,
            "_model_module": "@jupyter-widgets/base",
            "top": null,
            "grid_column": null,
            "overflow_y": null,
            "overflow_x": null,
            "grid_auto_flow": null,
            "grid_area": null,
            "grid_template_columns": null,
            "flex": null,
            "_model_name": "LayoutModel",
            "justify_items": null,
            "grid_row": null,
            "max_height": null,
            "align_content": null,
            "visibility": null,
            "align_self": null,
            "height": null,
            "min_height": null,
            "padding": null,
            "grid_auto_rows": null,
            "grid_gap": null,
            "max_width": null,
            "order": null,
            "_view_module_version": "1.2.0",
            "grid_template_areas": null,
            "object_position": null,
            "object_fit": null,
            "grid_auto_columns": null,
            "margin": null,
            "display": null,
            "left": null
          }
        },
        "6f1aa4d6f191429fb006a38a69de8d03": {
          "model_module": "@jupyter-widgets/controls",
          "model_name": "LabelModel",
          "model_module_version": "1.5.0",
          "state": {
            "_view_name": "LabelView",
            "style": "IPY_MODEL_a813491e12e2441f9a53ad96a3970a21",
            "_dom_classes": [],
            "description": "",
            "_model_name": "LabelModel",
            "placeholder": "​",
            "_view_module": "@jupyter-widgets/controls",
            "_model_module_version": "1.5.0",
            "value": " 0.01MB of 0.01MB uploaded (0.00MB deduped)\r",
            "_view_count": null,
            "_view_module_version": "1.5.0",
            "description_tooltip": null,
            "_model_module": "@jupyter-widgets/controls",
            "layout": "IPY_MODEL_100a740d970d4c3fbc07c83e3823a5c5"
          }
        },
        "f7f6a317172d4b9d82857ed352f235a6": {
          "model_module": "@jupyter-widgets/controls",
          "model_name": "FloatProgressModel",
          "model_module_version": "1.5.0",
          "state": {
            "_view_name": "ProgressView",
            "style": "IPY_MODEL_11977098484f441eb8f288455d72a885",
            "_dom_classes": [],
            "description": "",
            "_model_name": "FloatProgressModel",
            "bar_style": "",
            "max": 1,
            "_view_module": "@jupyter-widgets/controls",
            "_model_module_version": "1.5.0",
            "value": 1,
            "_view_count": null,
            "_view_module_version": "1.5.0",
            "orientation": "horizontal",
            "min": 0,
            "description_tooltip": null,
            "_model_module": "@jupyter-widgets/controls",
            "layout": "IPY_MODEL_e9d65e3f42f7492598a0caa13867e580"
          }
        },
        "a813491e12e2441f9a53ad96a3970a21": {
          "model_module": "@jupyter-widgets/controls",
          "model_name": "DescriptionStyleModel",
          "model_module_version": "1.5.0",
          "state": {
            "_view_name": "StyleView",
            "_model_name": "DescriptionStyleModel",
            "description_width": "",
            "_view_module": "@jupyter-widgets/base",
            "_model_module_version": "1.5.0",
            "_view_count": null,
            "_view_module_version": "1.2.0",
            "_model_module": "@jupyter-widgets/controls"
          }
        },
        "100a740d970d4c3fbc07c83e3823a5c5": {
          "model_module": "@jupyter-widgets/base",
          "model_name": "LayoutModel",
          "model_module_version": "1.2.0",
          "state": {
            "_view_name": "LayoutView",
            "grid_template_rows": null,
            "right": null,
            "justify_content": null,
            "_view_module": "@jupyter-widgets/base",
            "overflow": null,
            "_model_module_version": "1.2.0",
            "_view_count": null,
            "flex_flow": null,
            "width": null,
            "min_width": null,
            "border": null,
            "align_items": null,
            "bottom": null,
            "_model_module": "@jupyter-widgets/base",
            "top": null,
            "grid_column": null,
            "overflow_y": null,
            "overflow_x": null,
            "grid_auto_flow": null,
            "grid_area": null,
            "grid_template_columns": null,
            "flex": null,
            "_model_name": "LayoutModel",
            "justify_items": null,
            "grid_row": null,
            "max_height": null,
            "align_content": null,
            "visibility": null,
            "align_self": null,
            "height": null,
            "min_height": null,
            "padding": null,
            "grid_auto_rows": null,
            "grid_gap": null,
            "max_width": null,
            "order": null,
            "_view_module_version": "1.2.0",
            "grid_template_areas": null,
            "object_position": null,
            "object_fit": null,
            "grid_auto_columns": null,
            "margin": null,
            "display": null,
            "left": null
          }
        },
        "11977098484f441eb8f288455d72a885": {
          "model_module": "@jupyter-widgets/controls",
          "model_name": "ProgressStyleModel",
          "model_module_version": "1.5.0",
          "state": {
            "_view_name": "StyleView",
            "_model_name": "ProgressStyleModel",
            "description_width": "",
            "_view_module": "@jupyter-widgets/base",
            "_model_module_version": "1.5.0",
            "_view_count": null,
            "_view_module_version": "1.2.0",
            "bar_color": null,
            "_model_module": "@jupyter-widgets/controls"
          }
        },
        "e9d65e3f42f7492598a0caa13867e580": {
          "model_module": "@jupyter-widgets/base",
          "model_name": "LayoutModel",
          "model_module_version": "1.2.0",
          "state": {
            "_view_name": "LayoutView",
            "grid_template_rows": null,
            "right": null,
            "justify_content": null,
            "_view_module": "@jupyter-widgets/base",
            "overflow": null,
            "_model_module_version": "1.2.0",
            "_view_count": null,
            "flex_flow": null,
            "width": null,
            "min_width": null,
            "border": null,
            "align_items": null,
            "bottom": null,
            "_model_module": "@jupyter-widgets/base",
            "top": null,
            "grid_column": null,
            "overflow_y": null,
            "overflow_x": null,
            "grid_auto_flow": null,
            "grid_area": null,
            "grid_template_columns": null,
            "flex": null,
            "_model_name": "LayoutModel",
            "justify_items": null,
            "grid_row": null,
            "max_height": null,
            "align_content": null,
            "visibility": null,
            "align_self": null,
            "height": null,
            "min_height": null,
            "padding": null,
            "grid_auto_rows": null,
            "grid_gap": null,
            "max_width": null,
            "order": null,
            "_view_module_version": "1.2.0",
            "grid_template_areas": null,
            "object_position": null,
            "object_fit": null,
            "grid_auto_columns": null,
            "margin": null,
            "display": null,
            "left": null
          }
        },
        "773f89c065d24de49ef353a541b0d15a": {
          "model_module": "@jupyter-widgets/controls",
          "model_name": "VBoxModel",
          "model_module_version": "1.5.0",
          "state": {
            "_view_name": "VBoxView",
            "_dom_classes": [],
            "_model_name": "VBoxModel",
            "_view_module": "@jupyter-widgets/controls",
            "_model_module_version": "1.5.0",
            "_view_count": null,
            "_view_module_version": "1.5.0",
            "box_style": "",
            "layout": "IPY_MODEL_80c08231373d4a71b0a3e41c89b7f247",
            "_model_module": "@jupyter-widgets/controls",
            "children": [
              "IPY_MODEL_77b333a9ecc64afcb52b855f4d6648b6",
              "IPY_MODEL_6bddc7b9d0f24b149fd1fb03fc216a7b"
            ]
          }
        },
        "80c08231373d4a71b0a3e41c89b7f247": {
          "model_module": "@jupyter-widgets/base",
          "model_name": "LayoutModel",
          "model_module_version": "1.2.0",
          "state": {
            "_view_name": "LayoutView",
            "grid_template_rows": null,
            "right": null,
            "justify_content": null,
            "_view_module": "@jupyter-widgets/base",
            "overflow": null,
            "_model_module_version": "1.2.0",
            "_view_count": null,
            "flex_flow": null,
            "width": null,
            "min_width": null,
            "border": null,
            "align_items": null,
            "bottom": null,
            "_model_module": "@jupyter-widgets/base",
            "top": null,
            "grid_column": null,
            "overflow_y": null,
            "overflow_x": null,
            "grid_auto_flow": null,
            "grid_area": null,
            "grid_template_columns": null,
            "flex": null,
            "_model_name": "LayoutModel",
            "justify_items": null,
            "grid_row": null,
            "max_height": null,
            "align_content": null,
            "visibility": null,
            "align_self": null,
            "height": null,
            "min_height": null,
            "padding": null,
            "grid_auto_rows": null,
            "grid_gap": null,
            "max_width": null,
            "order": null,
            "_view_module_version": "1.2.0",
            "grid_template_areas": null,
            "object_position": null,
            "object_fit": null,
            "grid_auto_columns": null,
            "margin": null,
            "display": null,
            "left": null
          }
        },
        "77b333a9ecc64afcb52b855f4d6648b6": {
          "model_module": "@jupyter-widgets/controls",
          "model_name": "LabelModel",
          "model_module_version": "1.5.0",
          "state": {
            "_view_name": "LabelView",
            "style": "IPY_MODEL_ce8c4be6638049c18d01b97c4192f016",
            "_dom_classes": [],
            "description": "",
            "_model_name": "LabelModel",
            "placeholder": "​",
            "_view_module": "@jupyter-widgets/controls",
            "_model_module_version": "1.5.0",
            "value": " 0.01MB of 0.01MB uploaded (0.00MB deduped)\r",
            "_view_count": null,
            "_view_module_version": "1.5.0",
            "description_tooltip": null,
            "_model_module": "@jupyter-widgets/controls",
            "layout": "IPY_MODEL_934426f6e96b42a9905a7f8b07bd6d4f"
          }
        },
        "6bddc7b9d0f24b149fd1fb03fc216a7b": {
          "model_module": "@jupyter-widgets/controls",
          "model_name": "FloatProgressModel",
          "model_module_version": "1.5.0",
          "state": {
            "_view_name": "ProgressView",
            "style": "IPY_MODEL_e6fe511f8fdd4e969136e849e72f4e8d",
            "_dom_classes": [],
            "description": "",
            "_model_name": "FloatProgressModel",
            "bar_style": "",
            "max": 1,
            "_view_module": "@jupyter-widgets/controls",
            "_model_module_version": "1.5.0",
            "value": 1,
            "_view_count": null,
            "_view_module_version": "1.5.0",
            "orientation": "horizontal",
            "min": 0,
            "description_tooltip": null,
            "_model_module": "@jupyter-widgets/controls",
            "layout": "IPY_MODEL_d78c57c5683e4f78ab6a5f0058d9743a"
          }
        },
        "ce8c4be6638049c18d01b97c4192f016": {
          "model_module": "@jupyter-widgets/controls",
          "model_name": "DescriptionStyleModel",
          "model_module_version": "1.5.0",
          "state": {
            "_view_name": "StyleView",
            "_model_name": "DescriptionStyleModel",
            "description_width": "",
            "_view_module": "@jupyter-widgets/base",
            "_model_module_version": "1.5.0",
            "_view_count": null,
            "_view_module_version": "1.2.0",
            "_model_module": "@jupyter-widgets/controls"
          }
        },
        "934426f6e96b42a9905a7f8b07bd6d4f": {
          "model_module": "@jupyter-widgets/base",
          "model_name": "LayoutModel",
          "model_module_version": "1.2.0",
          "state": {
            "_view_name": "LayoutView",
            "grid_template_rows": null,
            "right": null,
            "justify_content": null,
            "_view_module": "@jupyter-widgets/base",
            "overflow": null,
            "_model_module_version": "1.2.0",
            "_view_count": null,
            "flex_flow": null,
            "width": null,
            "min_width": null,
            "border": null,
            "align_items": null,
            "bottom": null,
            "_model_module": "@jupyter-widgets/base",
            "top": null,
            "grid_column": null,
            "overflow_y": null,
            "overflow_x": null,
            "grid_auto_flow": null,
            "grid_area": null,
            "grid_template_columns": null,
            "flex": null,
            "_model_name": "LayoutModel",
            "justify_items": null,
            "grid_row": null,
            "max_height": null,
            "align_content": null,
            "visibility": null,
            "align_self": null,
            "height": null,
            "min_height": null,
            "padding": null,
            "grid_auto_rows": null,
            "grid_gap": null,
            "max_width": null,
            "order": null,
            "_view_module_version": "1.2.0",
            "grid_template_areas": null,
            "object_position": null,
            "object_fit": null,
            "grid_auto_columns": null,
            "margin": null,
            "display": null,
            "left": null
          }
        },
        "e6fe511f8fdd4e969136e849e72f4e8d": {
          "model_module": "@jupyter-widgets/controls",
          "model_name": "ProgressStyleModel",
          "model_module_version": "1.5.0",
          "state": {
            "_view_name": "StyleView",
            "_model_name": "ProgressStyleModel",
            "description_width": "",
            "_view_module": "@jupyter-widgets/base",
            "_model_module_version": "1.5.0",
            "_view_count": null,
            "_view_module_version": "1.2.0",
            "bar_color": null,
            "_model_module": "@jupyter-widgets/controls"
          }
        },
        "d78c57c5683e4f78ab6a5f0058d9743a": {
          "model_module": "@jupyter-widgets/base",
          "model_name": "LayoutModel",
          "model_module_version": "1.2.0",
          "state": {
            "_view_name": "LayoutView",
            "grid_template_rows": null,
            "right": null,
            "justify_content": null,
            "_view_module": "@jupyter-widgets/base",
            "overflow": null,
            "_model_module_version": "1.2.0",
            "_view_count": null,
            "flex_flow": null,
            "width": null,
            "min_width": null,
            "border": null,
            "align_items": null,
            "bottom": null,
            "_model_module": "@jupyter-widgets/base",
            "top": null,
            "grid_column": null,
            "overflow_y": null,
            "overflow_x": null,
            "grid_auto_flow": null,
            "grid_area": null,
            "grid_template_columns": null,
            "flex": null,
            "_model_name": "LayoutModel",
            "justify_items": null,
            "grid_row": null,
            "max_height": null,
            "align_content": null,
            "visibility": null,
            "align_self": null,
            "height": null,
            "min_height": null,
            "padding": null,
            "grid_auto_rows": null,
            "grid_gap": null,
            "max_width": null,
            "order": null,
            "_view_module_version": "1.2.0",
            "grid_template_areas": null,
            "object_position": null,
            "object_fit": null,
            "grid_auto_columns": null,
            "margin": null,
            "display": null,
            "left": null
          }
        },
        "a5e6c48f5f0943719516a24703eb132b": {
          "model_module": "@jupyter-widgets/controls",
          "model_name": "VBoxModel",
          "model_module_version": "1.5.0",
          "state": {
            "_view_name": "VBoxView",
            "_dom_classes": [],
            "_model_name": "VBoxModel",
            "_view_module": "@jupyter-widgets/controls",
            "_model_module_version": "1.5.0",
            "_view_count": null,
            "_view_module_version": "1.5.0",
            "box_style": "",
            "layout": "IPY_MODEL_da0e028863ba4f53a1e2534db090f024",
            "_model_module": "@jupyter-widgets/controls",
            "children": [
              "IPY_MODEL_0467590d1cac4823a31bc91eac2b14a1",
              "IPY_MODEL_3152c53c6a80406e852da4a120190ff6"
            ]
          }
        },
        "da0e028863ba4f53a1e2534db090f024": {
          "model_module": "@jupyter-widgets/base",
          "model_name": "LayoutModel",
          "model_module_version": "1.2.0",
          "state": {
            "_view_name": "LayoutView",
            "grid_template_rows": null,
            "right": null,
            "justify_content": null,
            "_view_module": "@jupyter-widgets/base",
            "overflow": null,
            "_model_module_version": "1.2.0",
            "_view_count": null,
            "flex_flow": null,
            "width": null,
            "min_width": null,
            "border": null,
            "align_items": null,
            "bottom": null,
            "_model_module": "@jupyter-widgets/base",
            "top": null,
            "grid_column": null,
            "overflow_y": null,
            "overflow_x": null,
            "grid_auto_flow": null,
            "grid_area": null,
            "grid_template_columns": null,
            "flex": null,
            "_model_name": "LayoutModel",
            "justify_items": null,
            "grid_row": null,
            "max_height": null,
            "align_content": null,
            "visibility": null,
            "align_self": null,
            "height": null,
            "min_height": null,
            "padding": null,
            "grid_auto_rows": null,
            "grid_gap": null,
            "max_width": null,
            "order": null,
            "_view_module_version": "1.2.0",
            "grid_template_areas": null,
            "object_position": null,
            "object_fit": null,
            "grid_auto_columns": null,
            "margin": null,
            "display": null,
            "left": null
          }
        },
        "0467590d1cac4823a31bc91eac2b14a1": {
          "model_module": "@jupyter-widgets/controls",
          "model_name": "LabelModel",
          "model_module_version": "1.5.0",
          "state": {
            "_view_name": "LabelView",
            "style": "IPY_MODEL_ce441010e269441eb2b703e084946d90",
            "_dom_classes": [],
            "description": "",
            "_model_name": "LabelModel",
            "placeholder": "​",
            "_view_module": "@jupyter-widgets/controls",
            "_model_module_version": "1.5.0",
            "value": " 0.01MB of 0.01MB uploaded (0.00MB deduped)\r",
            "_view_count": null,
            "_view_module_version": "1.5.0",
            "description_tooltip": null,
            "_model_module": "@jupyter-widgets/controls",
            "layout": "IPY_MODEL_ee7ffcdd15d94c08b8e531dc3682d97c"
          }
        },
        "3152c53c6a80406e852da4a120190ff6": {
          "model_module": "@jupyter-widgets/controls",
          "model_name": "FloatProgressModel",
          "model_module_version": "1.5.0",
          "state": {
            "_view_name": "ProgressView",
            "style": "IPY_MODEL_baa15944538242fbbff00aa98d169ef5",
            "_dom_classes": [],
            "description": "",
            "_model_name": "FloatProgressModel",
            "bar_style": "",
            "max": 1,
            "_view_module": "@jupyter-widgets/controls",
            "_model_module_version": "1.5.0",
            "value": 1,
            "_view_count": null,
            "_view_module_version": "1.5.0",
            "orientation": "horizontal",
            "min": 0,
            "description_tooltip": null,
            "_model_module": "@jupyter-widgets/controls",
            "layout": "IPY_MODEL_97fbdc56ae0d4e2d95561af48ab14e6b"
          }
        },
        "ce441010e269441eb2b703e084946d90": {
          "model_module": "@jupyter-widgets/controls",
          "model_name": "DescriptionStyleModel",
          "model_module_version": "1.5.0",
          "state": {
            "_view_name": "StyleView",
            "_model_name": "DescriptionStyleModel",
            "description_width": "",
            "_view_module": "@jupyter-widgets/base",
            "_model_module_version": "1.5.0",
            "_view_count": null,
            "_view_module_version": "1.2.0",
            "_model_module": "@jupyter-widgets/controls"
          }
        },
        "ee7ffcdd15d94c08b8e531dc3682d97c": {
          "model_module": "@jupyter-widgets/base",
          "model_name": "LayoutModel",
          "model_module_version": "1.2.0",
          "state": {
            "_view_name": "LayoutView",
            "grid_template_rows": null,
            "right": null,
            "justify_content": null,
            "_view_module": "@jupyter-widgets/base",
            "overflow": null,
            "_model_module_version": "1.2.0",
            "_view_count": null,
            "flex_flow": null,
            "width": null,
            "min_width": null,
            "border": null,
            "align_items": null,
            "bottom": null,
            "_model_module": "@jupyter-widgets/base",
            "top": null,
            "grid_column": null,
            "overflow_y": null,
            "overflow_x": null,
            "grid_auto_flow": null,
            "grid_area": null,
            "grid_template_columns": null,
            "flex": null,
            "_model_name": "LayoutModel",
            "justify_items": null,
            "grid_row": null,
            "max_height": null,
            "align_content": null,
            "visibility": null,
            "align_self": null,
            "height": null,
            "min_height": null,
            "padding": null,
            "grid_auto_rows": null,
            "grid_gap": null,
            "max_width": null,
            "order": null,
            "_view_module_version": "1.2.0",
            "grid_template_areas": null,
            "object_position": null,
            "object_fit": null,
            "grid_auto_columns": null,
            "margin": null,
            "display": null,
            "left": null
          }
        },
        "baa15944538242fbbff00aa98d169ef5": {
          "model_module": "@jupyter-widgets/controls",
          "model_name": "ProgressStyleModel",
          "model_module_version": "1.5.0",
          "state": {
            "_view_name": "StyleView",
            "_model_name": "ProgressStyleModel",
            "description_width": "",
            "_view_module": "@jupyter-widgets/base",
            "_model_module_version": "1.5.0",
            "_view_count": null,
            "_view_module_version": "1.2.0",
            "bar_color": null,
            "_model_module": "@jupyter-widgets/controls"
          }
        },
        "97fbdc56ae0d4e2d95561af48ab14e6b": {
          "model_module": "@jupyter-widgets/base",
          "model_name": "LayoutModel",
          "model_module_version": "1.2.0",
          "state": {
            "_view_name": "LayoutView",
            "grid_template_rows": null,
            "right": null,
            "justify_content": null,
            "_view_module": "@jupyter-widgets/base",
            "overflow": null,
            "_model_module_version": "1.2.0",
            "_view_count": null,
            "flex_flow": null,
            "width": null,
            "min_width": null,
            "border": null,
            "align_items": null,
            "bottom": null,
            "_model_module": "@jupyter-widgets/base",
            "top": null,
            "grid_column": null,
            "overflow_y": null,
            "overflow_x": null,
            "grid_auto_flow": null,
            "grid_area": null,
            "grid_template_columns": null,
            "flex": null,
            "_model_name": "LayoutModel",
            "justify_items": null,
            "grid_row": null,
            "max_height": null,
            "align_content": null,
            "visibility": null,
            "align_self": null,
            "height": null,
            "min_height": null,
            "padding": null,
            "grid_auto_rows": null,
            "grid_gap": null,
            "max_width": null,
            "order": null,
            "_view_module_version": "1.2.0",
            "grid_template_areas": null,
            "object_position": null,
            "object_fit": null,
            "grid_auto_columns": null,
            "margin": null,
            "display": null,
            "left": null
          }
        },
        "7b6bab1df38b4506a2bfaccd81538b69": {
          "model_module": "@jupyter-widgets/controls",
          "model_name": "VBoxModel",
          "model_module_version": "1.5.0",
          "state": {
            "_view_name": "VBoxView",
            "_dom_classes": [],
            "_model_name": "VBoxModel",
            "_view_module": "@jupyter-widgets/controls",
            "_model_module_version": "1.5.0",
            "_view_count": null,
            "_view_module_version": "1.5.0",
            "box_style": "",
            "layout": "IPY_MODEL_2f5065a2b9d64028838794030fecce86",
            "_model_module": "@jupyter-widgets/controls",
            "children": [
              "IPY_MODEL_314371dd6c51478b91da6330bc142607",
              "IPY_MODEL_d16951f33aba455fb246e8dfebbc5baf"
            ]
          }
        },
        "2f5065a2b9d64028838794030fecce86": {
          "model_module": "@jupyter-widgets/base",
          "model_name": "LayoutModel",
          "model_module_version": "1.2.0",
          "state": {
            "_view_name": "LayoutView",
            "grid_template_rows": null,
            "right": null,
            "justify_content": null,
            "_view_module": "@jupyter-widgets/base",
            "overflow": null,
            "_model_module_version": "1.2.0",
            "_view_count": null,
            "flex_flow": null,
            "width": null,
            "min_width": null,
            "border": null,
            "align_items": null,
            "bottom": null,
            "_model_module": "@jupyter-widgets/base",
            "top": null,
            "grid_column": null,
            "overflow_y": null,
            "overflow_x": null,
            "grid_auto_flow": null,
            "grid_area": null,
            "grid_template_columns": null,
            "flex": null,
            "_model_name": "LayoutModel",
            "justify_items": null,
            "grid_row": null,
            "max_height": null,
            "align_content": null,
            "visibility": null,
            "align_self": null,
            "height": null,
            "min_height": null,
            "padding": null,
            "grid_auto_rows": null,
            "grid_gap": null,
            "max_width": null,
            "order": null,
            "_view_module_version": "1.2.0",
            "grid_template_areas": null,
            "object_position": null,
            "object_fit": null,
            "grid_auto_columns": null,
            "margin": null,
            "display": null,
            "left": null
          }
        },
        "314371dd6c51478b91da6330bc142607": {
          "model_module": "@jupyter-widgets/controls",
          "model_name": "LabelModel",
          "model_module_version": "1.5.0",
          "state": {
            "_view_name": "LabelView",
            "style": "IPY_MODEL_84dd997b744146f385b5ef12dd28602d",
            "_dom_classes": [],
            "description": "",
            "_model_name": "LabelModel",
            "placeholder": "​",
            "_view_module": "@jupyter-widgets/controls",
            "_model_module_version": "1.5.0",
            "value": " 0.01MB of 0.01MB uploaded (0.00MB deduped)\r",
            "_view_count": null,
            "_view_module_version": "1.5.0",
            "description_tooltip": null,
            "_model_module": "@jupyter-widgets/controls",
            "layout": "IPY_MODEL_9501d71e9b3a4b579b9816c55d815d73"
          }
        },
        "d16951f33aba455fb246e8dfebbc5baf": {
          "model_module": "@jupyter-widgets/controls",
          "model_name": "FloatProgressModel",
          "model_module_version": "1.5.0",
          "state": {
            "_view_name": "ProgressView",
            "style": "IPY_MODEL_aaa9d8ac3dbc417ba107935a0ce8ed2a",
            "_dom_classes": [],
            "description": "",
            "_model_name": "FloatProgressModel",
            "bar_style": "",
            "max": 1,
            "_view_module": "@jupyter-widgets/controls",
            "_model_module_version": "1.5.0",
            "value": 1,
            "_view_count": null,
            "_view_module_version": "1.5.0",
            "orientation": "horizontal",
            "min": 0,
            "description_tooltip": null,
            "_model_module": "@jupyter-widgets/controls",
            "layout": "IPY_MODEL_7c7be21d673447bc93035466bab7d2b4"
          }
        },
        "84dd997b744146f385b5ef12dd28602d": {
          "model_module": "@jupyter-widgets/controls",
          "model_name": "DescriptionStyleModel",
          "model_module_version": "1.5.0",
          "state": {
            "_view_name": "StyleView",
            "_model_name": "DescriptionStyleModel",
            "description_width": "",
            "_view_module": "@jupyter-widgets/base",
            "_model_module_version": "1.5.0",
            "_view_count": null,
            "_view_module_version": "1.2.0",
            "_model_module": "@jupyter-widgets/controls"
          }
        },
        "9501d71e9b3a4b579b9816c55d815d73": {
          "model_module": "@jupyter-widgets/base",
          "model_name": "LayoutModel",
          "model_module_version": "1.2.0",
          "state": {
            "_view_name": "LayoutView",
            "grid_template_rows": null,
            "right": null,
            "justify_content": null,
            "_view_module": "@jupyter-widgets/base",
            "overflow": null,
            "_model_module_version": "1.2.0",
            "_view_count": null,
            "flex_flow": null,
            "width": null,
            "min_width": null,
            "border": null,
            "align_items": null,
            "bottom": null,
            "_model_module": "@jupyter-widgets/base",
            "top": null,
            "grid_column": null,
            "overflow_y": null,
            "overflow_x": null,
            "grid_auto_flow": null,
            "grid_area": null,
            "grid_template_columns": null,
            "flex": null,
            "_model_name": "LayoutModel",
            "justify_items": null,
            "grid_row": null,
            "max_height": null,
            "align_content": null,
            "visibility": null,
            "align_self": null,
            "height": null,
            "min_height": null,
            "padding": null,
            "grid_auto_rows": null,
            "grid_gap": null,
            "max_width": null,
            "order": null,
            "_view_module_version": "1.2.0",
            "grid_template_areas": null,
            "object_position": null,
            "object_fit": null,
            "grid_auto_columns": null,
            "margin": null,
            "display": null,
            "left": null
          }
        },
        "aaa9d8ac3dbc417ba107935a0ce8ed2a": {
          "model_module": "@jupyter-widgets/controls",
          "model_name": "ProgressStyleModel",
          "model_module_version": "1.5.0",
          "state": {
            "_view_name": "StyleView",
            "_model_name": "ProgressStyleModel",
            "description_width": "",
            "_view_module": "@jupyter-widgets/base",
            "_model_module_version": "1.5.0",
            "_view_count": null,
            "_view_module_version": "1.2.0",
            "bar_color": null,
            "_model_module": "@jupyter-widgets/controls"
          }
        },
        "7c7be21d673447bc93035466bab7d2b4": {
          "model_module": "@jupyter-widgets/base",
          "model_name": "LayoutModel",
          "model_module_version": "1.2.0",
          "state": {
            "_view_name": "LayoutView",
            "grid_template_rows": null,
            "right": null,
            "justify_content": null,
            "_view_module": "@jupyter-widgets/base",
            "overflow": null,
            "_model_module_version": "1.2.0",
            "_view_count": null,
            "flex_flow": null,
            "width": null,
            "min_width": null,
            "border": null,
            "align_items": null,
            "bottom": null,
            "_model_module": "@jupyter-widgets/base",
            "top": null,
            "grid_column": null,
            "overflow_y": null,
            "overflow_x": null,
            "grid_auto_flow": null,
            "grid_area": null,
            "grid_template_columns": null,
            "flex": null,
            "_model_name": "LayoutModel",
            "justify_items": null,
            "grid_row": null,
            "max_height": null,
            "align_content": null,
            "visibility": null,
            "align_self": null,
            "height": null,
            "min_height": null,
            "padding": null,
            "grid_auto_rows": null,
            "grid_gap": null,
            "max_width": null,
            "order": null,
            "_view_module_version": "1.2.0",
            "grid_template_areas": null,
            "object_position": null,
            "object_fit": null,
            "grid_auto_columns": null,
            "margin": null,
            "display": null,
            "left": null
          }
        },
        "2c6dd2873ca249f8af9b97372aab45b4": {
          "model_module": "@jupyter-widgets/controls",
          "model_name": "VBoxModel",
          "model_module_version": "1.5.0",
          "state": {
            "_view_name": "VBoxView",
            "_dom_classes": [],
            "_model_name": "VBoxModel",
            "_view_module": "@jupyter-widgets/controls",
            "_model_module_version": "1.5.0",
            "_view_count": null,
            "_view_module_version": "1.5.0",
            "box_style": "",
            "layout": "IPY_MODEL_4386bb9b2d0648c3bc337417852000df",
            "_model_module": "@jupyter-widgets/controls",
            "children": [
              "IPY_MODEL_8777595e88be4bf38e694614e73b48a1",
              "IPY_MODEL_bedeb21a32e84ecfbf495a8dc658d46b"
            ]
          }
        },
        "4386bb9b2d0648c3bc337417852000df": {
          "model_module": "@jupyter-widgets/base",
          "model_name": "LayoutModel",
          "model_module_version": "1.2.0",
          "state": {
            "_view_name": "LayoutView",
            "grid_template_rows": null,
            "right": null,
            "justify_content": null,
            "_view_module": "@jupyter-widgets/base",
            "overflow": null,
            "_model_module_version": "1.2.0",
            "_view_count": null,
            "flex_flow": null,
            "width": null,
            "min_width": null,
            "border": null,
            "align_items": null,
            "bottom": null,
            "_model_module": "@jupyter-widgets/base",
            "top": null,
            "grid_column": null,
            "overflow_y": null,
            "overflow_x": null,
            "grid_auto_flow": null,
            "grid_area": null,
            "grid_template_columns": null,
            "flex": null,
            "_model_name": "LayoutModel",
            "justify_items": null,
            "grid_row": null,
            "max_height": null,
            "align_content": null,
            "visibility": null,
            "align_self": null,
            "height": null,
            "min_height": null,
            "padding": null,
            "grid_auto_rows": null,
            "grid_gap": null,
            "max_width": null,
            "order": null,
            "_view_module_version": "1.2.0",
            "grid_template_areas": null,
            "object_position": null,
            "object_fit": null,
            "grid_auto_columns": null,
            "margin": null,
            "display": null,
            "left": null
          }
        },
        "8777595e88be4bf38e694614e73b48a1": {
          "model_module": "@jupyter-widgets/controls",
          "model_name": "LabelModel",
          "model_module_version": "1.5.0",
          "state": {
            "_view_name": "LabelView",
            "style": "IPY_MODEL_15fdc067ddac4089b831c2c045669c1e",
            "_dom_classes": [],
            "description": "",
            "_model_name": "LabelModel",
            "placeholder": "​",
            "_view_module": "@jupyter-widgets/controls",
            "_model_module_version": "1.5.0",
            "value": " 0.01MB of 0.01MB uploaded (0.00MB deduped)\r",
            "_view_count": null,
            "_view_module_version": "1.5.0",
            "description_tooltip": null,
            "_model_module": "@jupyter-widgets/controls",
            "layout": "IPY_MODEL_3585affa83ce4dde8b5c27bf320d78fd"
          }
        },
        "bedeb21a32e84ecfbf495a8dc658d46b": {
          "model_module": "@jupyter-widgets/controls",
          "model_name": "FloatProgressModel",
          "model_module_version": "1.5.0",
          "state": {
            "_view_name": "ProgressView",
            "style": "IPY_MODEL_64479a00b0ae46deb207efdad417bc1a",
            "_dom_classes": [],
            "description": "",
            "_model_name": "FloatProgressModel",
            "bar_style": "",
            "max": 1,
            "_view_module": "@jupyter-widgets/controls",
            "_model_module_version": "1.5.0",
            "value": 1,
            "_view_count": null,
            "_view_module_version": "1.5.0",
            "orientation": "horizontal",
            "min": 0,
            "description_tooltip": null,
            "_model_module": "@jupyter-widgets/controls",
            "layout": "IPY_MODEL_93448887402743adb880d43744898abc"
          }
        },
        "15fdc067ddac4089b831c2c045669c1e": {
          "model_module": "@jupyter-widgets/controls",
          "model_name": "DescriptionStyleModel",
          "model_module_version": "1.5.0",
          "state": {
            "_view_name": "StyleView",
            "_model_name": "DescriptionStyleModel",
            "description_width": "",
            "_view_module": "@jupyter-widgets/base",
            "_model_module_version": "1.5.0",
            "_view_count": null,
            "_view_module_version": "1.2.0",
            "_model_module": "@jupyter-widgets/controls"
          }
        },
        "3585affa83ce4dde8b5c27bf320d78fd": {
          "model_module": "@jupyter-widgets/base",
          "model_name": "LayoutModel",
          "model_module_version": "1.2.0",
          "state": {
            "_view_name": "LayoutView",
            "grid_template_rows": null,
            "right": null,
            "justify_content": null,
            "_view_module": "@jupyter-widgets/base",
            "overflow": null,
            "_model_module_version": "1.2.0",
            "_view_count": null,
            "flex_flow": null,
            "width": null,
            "min_width": null,
            "border": null,
            "align_items": null,
            "bottom": null,
            "_model_module": "@jupyter-widgets/base",
            "top": null,
            "grid_column": null,
            "overflow_y": null,
            "overflow_x": null,
            "grid_auto_flow": null,
            "grid_area": null,
            "grid_template_columns": null,
            "flex": null,
            "_model_name": "LayoutModel",
            "justify_items": null,
            "grid_row": null,
            "max_height": null,
            "align_content": null,
            "visibility": null,
            "align_self": null,
            "height": null,
            "min_height": null,
            "padding": null,
            "grid_auto_rows": null,
            "grid_gap": null,
            "max_width": null,
            "order": null,
            "_view_module_version": "1.2.0",
            "grid_template_areas": null,
            "object_position": null,
            "object_fit": null,
            "grid_auto_columns": null,
            "margin": null,
            "display": null,
            "left": null
          }
        },
        "64479a00b0ae46deb207efdad417bc1a": {
          "model_module": "@jupyter-widgets/controls",
          "model_name": "ProgressStyleModel",
          "model_module_version": "1.5.0",
          "state": {
            "_view_name": "StyleView",
            "_model_name": "ProgressStyleModel",
            "description_width": "",
            "_view_module": "@jupyter-widgets/base",
            "_model_module_version": "1.5.0",
            "_view_count": null,
            "_view_module_version": "1.2.0",
            "bar_color": null,
            "_model_module": "@jupyter-widgets/controls"
          }
        },
        "93448887402743adb880d43744898abc": {
          "model_module": "@jupyter-widgets/base",
          "model_name": "LayoutModel",
          "model_module_version": "1.2.0",
          "state": {
            "_view_name": "LayoutView",
            "grid_template_rows": null,
            "right": null,
            "justify_content": null,
            "_view_module": "@jupyter-widgets/base",
            "overflow": null,
            "_model_module_version": "1.2.0",
            "_view_count": null,
            "flex_flow": null,
            "width": null,
            "min_width": null,
            "border": null,
            "align_items": null,
            "bottom": null,
            "_model_module": "@jupyter-widgets/base",
            "top": null,
            "grid_column": null,
            "overflow_y": null,
            "overflow_x": null,
            "grid_auto_flow": null,
            "grid_area": null,
            "grid_template_columns": null,
            "flex": null,
            "_model_name": "LayoutModel",
            "justify_items": null,
            "grid_row": null,
            "max_height": null,
            "align_content": null,
            "visibility": null,
            "align_self": null,
            "height": null,
            "min_height": null,
            "padding": null,
            "grid_auto_rows": null,
            "grid_gap": null,
            "max_width": null,
            "order": null,
            "_view_module_version": "1.2.0",
            "grid_template_areas": null,
            "object_position": null,
            "object_fit": null,
            "grid_auto_columns": null,
            "margin": null,
            "display": null,
            "left": null
          }
        },
        "1757920575db48e9870991e2d37915e2": {
          "model_module": "@jupyter-widgets/controls",
          "model_name": "VBoxModel",
          "model_module_version": "1.5.0",
          "state": {
            "_view_name": "VBoxView",
            "_dom_classes": [],
            "_model_name": "VBoxModel",
            "_view_module": "@jupyter-widgets/controls",
            "_model_module_version": "1.5.0",
            "_view_count": null,
            "_view_module_version": "1.5.0",
            "box_style": "",
            "layout": "IPY_MODEL_c6c27b75939b42f7af31f290443fdc5c",
            "_model_module": "@jupyter-widgets/controls",
            "children": [
              "IPY_MODEL_43d4fc5f57a14252a0c5c83ced43315a",
              "IPY_MODEL_ba70ab17c53f487984f5deca5532d547"
            ]
          }
        },
        "c6c27b75939b42f7af31f290443fdc5c": {
          "model_module": "@jupyter-widgets/base",
          "model_name": "LayoutModel",
          "model_module_version": "1.2.0",
          "state": {
            "_view_name": "LayoutView",
            "grid_template_rows": null,
            "right": null,
            "justify_content": null,
            "_view_module": "@jupyter-widgets/base",
            "overflow": null,
            "_model_module_version": "1.2.0",
            "_view_count": null,
            "flex_flow": null,
            "width": null,
            "min_width": null,
            "border": null,
            "align_items": null,
            "bottom": null,
            "_model_module": "@jupyter-widgets/base",
            "top": null,
            "grid_column": null,
            "overflow_y": null,
            "overflow_x": null,
            "grid_auto_flow": null,
            "grid_area": null,
            "grid_template_columns": null,
            "flex": null,
            "_model_name": "LayoutModel",
            "justify_items": null,
            "grid_row": null,
            "max_height": null,
            "align_content": null,
            "visibility": null,
            "align_self": null,
            "height": null,
            "min_height": null,
            "padding": null,
            "grid_auto_rows": null,
            "grid_gap": null,
            "max_width": null,
            "order": null,
            "_view_module_version": "1.2.0",
            "grid_template_areas": null,
            "object_position": null,
            "object_fit": null,
            "grid_auto_columns": null,
            "margin": null,
            "display": null,
            "left": null
          }
        },
        "43d4fc5f57a14252a0c5c83ced43315a": {
          "model_module": "@jupyter-widgets/controls",
          "model_name": "LabelModel",
          "model_module_version": "1.5.0",
          "state": {
            "_view_name": "LabelView",
            "style": "IPY_MODEL_ad5cd8ab671243e0a5be69ee77d60ca7",
            "_dom_classes": [],
            "description": "",
            "_model_name": "LabelModel",
            "placeholder": "​",
            "_view_module": "@jupyter-widgets/controls",
            "_model_module_version": "1.5.0",
            "value": " 0.01MB of 0.01MB uploaded (0.00MB deduped)\r",
            "_view_count": null,
            "_view_module_version": "1.5.0",
            "description_tooltip": null,
            "_model_module": "@jupyter-widgets/controls",
            "layout": "IPY_MODEL_f3b0f48d8116459eb2c2191841f2db24"
          }
        },
        "ba70ab17c53f487984f5deca5532d547": {
          "model_module": "@jupyter-widgets/controls",
          "model_name": "FloatProgressModel",
          "model_module_version": "1.5.0",
          "state": {
            "_view_name": "ProgressView",
            "style": "IPY_MODEL_e1094336b3a5498b8ac520d82b98e3d3",
            "_dom_classes": [],
            "description": "",
            "_model_name": "FloatProgressModel",
            "bar_style": "",
            "max": 1,
            "_view_module": "@jupyter-widgets/controls",
            "_model_module_version": "1.5.0",
            "value": 1,
            "_view_count": null,
            "_view_module_version": "1.5.0",
            "orientation": "horizontal",
            "min": 0,
            "description_tooltip": null,
            "_model_module": "@jupyter-widgets/controls",
            "layout": "IPY_MODEL_1d6d45bfbb254ae1a6476c2af724c617"
          }
        },
        "ad5cd8ab671243e0a5be69ee77d60ca7": {
          "model_module": "@jupyter-widgets/controls",
          "model_name": "DescriptionStyleModel",
          "model_module_version": "1.5.0",
          "state": {
            "_view_name": "StyleView",
            "_model_name": "DescriptionStyleModel",
            "description_width": "",
            "_view_module": "@jupyter-widgets/base",
            "_model_module_version": "1.5.0",
            "_view_count": null,
            "_view_module_version": "1.2.0",
            "_model_module": "@jupyter-widgets/controls"
          }
        },
        "f3b0f48d8116459eb2c2191841f2db24": {
          "model_module": "@jupyter-widgets/base",
          "model_name": "LayoutModel",
          "model_module_version": "1.2.0",
          "state": {
            "_view_name": "LayoutView",
            "grid_template_rows": null,
            "right": null,
            "justify_content": null,
            "_view_module": "@jupyter-widgets/base",
            "overflow": null,
            "_model_module_version": "1.2.0",
            "_view_count": null,
            "flex_flow": null,
            "width": null,
            "min_width": null,
            "border": null,
            "align_items": null,
            "bottom": null,
            "_model_module": "@jupyter-widgets/base",
            "top": null,
            "grid_column": null,
            "overflow_y": null,
            "overflow_x": null,
            "grid_auto_flow": null,
            "grid_area": null,
            "grid_template_columns": null,
            "flex": null,
            "_model_name": "LayoutModel",
            "justify_items": null,
            "grid_row": null,
            "max_height": null,
            "align_content": null,
            "visibility": null,
            "align_self": null,
            "height": null,
            "min_height": null,
            "padding": null,
            "grid_auto_rows": null,
            "grid_gap": null,
            "max_width": null,
            "order": null,
            "_view_module_version": "1.2.0",
            "grid_template_areas": null,
            "object_position": null,
            "object_fit": null,
            "grid_auto_columns": null,
            "margin": null,
            "display": null,
            "left": null
          }
        },
        "e1094336b3a5498b8ac520d82b98e3d3": {
          "model_module": "@jupyter-widgets/controls",
          "model_name": "ProgressStyleModel",
          "model_module_version": "1.5.0",
          "state": {
            "_view_name": "StyleView",
            "_model_name": "ProgressStyleModel",
            "description_width": "",
            "_view_module": "@jupyter-widgets/base",
            "_model_module_version": "1.5.0",
            "_view_count": null,
            "_view_module_version": "1.2.0",
            "bar_color": null,
            "_model_module": "@jupyter-widgets/controls"
          }
        },
        "1d6d45bfbb254ae1a6476c2af724c617": {
          "model_module": "@jupyter-widgets/base",
          "model_name": "LayoutModel",
          "model_module_version": "1.2.0",
          "state": {
            "_view_name": "LayoutView",
            "grid_template_rows": null,
            "right": null,
            "justify_content": null,
            "_view_module": "@jupyter-widgets/base",
            "overflow": null,
            "_model_module_version": "1.2.0",
            "_view_count": null,
            "flex_flow": null,
            "width": null,
            "min_width": null,
            "border": null,
            "align_items": null,
            "bottom": null,
            "_model_module": "@jupyter-widgets/base",
            "top": null,
            "grid_column": null,
            "overflow_y": null,
            "overflow_x": null,
            "grid_auto_flow": null,
            "grid_area": null,
            "grid_template_columns": null,
            "flex": null,
            "_model_name": "LayoutModel",
            "justify_items": null,
            "grid_row": null,
            "max_height": null,
            "align_content": null,
            "visibility": null,
            "align_self": null,
            "height": null,
            "min_height": null,
            "padding": null,
            "grid_auto_rows": null,
            "grid_gap": null,
            "max_width": null,
            "order": null,
            "_view_module_version": "1.2.0",
            "grid_template_areas": null,
            "object_position": null,
            "object_fit": null,
            "grid_auto_columns": null,
            "margin": null,
            "display": null,
            "left": null
          }
        },
        "45de3f7528e048749a79444baf050937": {
          "model_module": "@jupyter-widgets/controls",
          "model_name": "VBoxModel",
          "model_module_version": "1.5.0",
          "state": {
            "_view_name": "VBoxView",
            "_dom_classes": [],
            "_model_name": "VBoxModel",
            "_view_module": "@jupyter-widgets/controls",
            "_model_module_version": "1.5.0",
            "_view_count": null,
            "_view_module_version": "1.5.0",
            "box_style": "",
            "layout": "IPY_MODEL_244135b2c96a4f81915cc2ad41f407fb",
            "_model_module": "@jupyter-widgets/controls",
            "children": [
              "IPY_MODEL_fffbb3d8347a42299990fdbbc595bbf0",
              "IPY_MODEL_163e8182b9eb4a0393773fc16af0c6de"
            ]
          }
        },
        "244135b2c96a4f81915cc2ad41f407fb": {
          "model_module": "@jupyter-widgets/base",
          "model_name": "LayoutModel",
          "model_module_version": "1.2.0",
          "state": {
            "_view_name": "LayoutView",
            "grid_template_rows": null,
            "right": null,
            "justify_content": null,
            "_view_module": "@jupyter-widgets/base",
            "overflow": null,
            "_model_module_version": "1.2.0",
            "_view_count": null,
            "flex_flow": null,
            "width": null,
            "min_width": null,
            "border": null,
            "align_items": null,
            "bottom": null,
            "_model_module": "@jupyter-widgets/base",
            "top": null,
            "grid_column": null,
            "overflow_y": null,
            "overflow_x": null,
            "grid_auto_flow": null,
            "grid_area": null,
            "grid_template_columns": null,
            "flex": null,
            "_model_name": "LayoutModel",
            "justify_items": null,
            "grid_row": null,
            "max_height": null,
            "align_content": null,
            "visibility": null,
            "align_self": null,
            "height": null,
            "min_height": null,
            "padding": null,
            "grid_auto_rows": null,
            "grid_gap": null,
            "max_width": null,
            "order": null,
            "_view_module_version": "1.2.0",
            "grid_template_areas": null,
            "object_position": null,
            "object_fit": null,
            "grid_auto_columns": null,
            "margin": null,
            "display": null,
            "left": null
          }
        },
        "fffbb3d8347a42299990fdbbc595bbf0": {
          "model_module": "@jupyter-widgets/controls",
          "model_name": "LabelModel",
          "model_module_version": "1.5.0",
          "state": {
            "_view_name": "LabelView",
            "style": "IPY_MODEL_ebdfc0a31c5047339ec6efb60c7cf7e8",
            "_dom_classes": [],
            "description": "",
            "_model_name": "LabelModel",
            "placeholder": "​",
            "_view_module": "@jupyter-widgets/controls",
            "_model_module_version": "1.5.0",
            "value": " 0.01MB of 0.01MB uploaded (0.00MB deduped)\r",
            "_view_count": null,
            "_view_module_version": "1.5.0",
            "description_tooltip": null,
            "_model_module": "@jupyter-widgets/controls",
            "layout": "IPY_MODEL_123563c3481b44e08b1448a654f07203"
          }
        },
        "163e8182b9eb4a0393773fc16af0c6de": {
          "model_module": "@jupyter-widgets/controls",
          "model_name": "FloatProgressModel",
          "model_module_version": "1.5.0",
          "state": {
            "_view_name": "ProgressView",
            "style": "IPY_MODEL_3fad7c7de2b741e2aa9de32c3d2a563b",
            "_dom_classes": [],
            "description": "",
            "_model_name": "FloatProgressModel",
            "bar_style": "",
            "max": 1,
            "_view_module": "@jupyter-widgets/controls",
            "_model_module_version": "1.5.0",
            "value": 1,
            "_view_count": null,
            "_view_module_version": "1.5.0",
            "orientation": "horizontal",
            "min": 0,
            "description_tooltip": null,
            "_model_module": "@jupyter-widgets/controls",
            "layout": "IPY_MODEL_54e29ffc371a4d4483462b9d7e9daa27"
          }
        },
        "ebdfc0a31c5047339ec6efb60c7cf7e8": {
          "model_module": "@jupyter-widgets/controls",
          "model_name": "DescriptionStyleModel",
          "model_module_version": "1.5.0",
          "state": {
            "_view_name": "StyleView",
            "_model_name": "DescriptionStyleModel",
            "description_width": "",
            "_view_module": "@jupyter-widgets/base",
            "_model_module_version": "1.5.0",
            "_view_count": null,
            "_view_module_version": "1.2.0",
            "_model_module": "@jupyter-widgets/controls"
          }
        },
        "123563c3481b44e08b1448a654f07203": {
          "model_module": "@jupyter-widgets/base",
          "model_name": "LayoutModel",
          "model_module_version": "1.2.0",
          "state": {
            "_view_name": "LayoutView",
            "grid_template_rows": null,
            "right": null,
            "justify_content": null,
            "_view_module": "@jupyter-widgets/base",
            "overflow": null,
            "_model_module_version": "1.2.0",
            "_view_count": null,
            "flex_flow": null,
            "width": null,
            "min_width": null,
            "border": null,
            "align_items": null,
            "bottom": null,
            "_model_module": "@jupyter-widgets/base",
            "top": null,
            "grid_column": null,
            "overflow_y": null,
            "overflow_x": null,
            "grid_auto_flow": null,
            "grid_area": null,
            "grid_template_columns": null,
            "flex": null,
            "_model_name": "LayoutModel",
            "justify_items": null,
            "grid_row": null,
            "max_height": null,
            "align_content": null,
            "visibility": null,
            "align_self": null,
            "height": null,
            "min_height": null,
            "padding": null,
            "grid_auto_rows": null,
            "grid_gap": null,
            "max_width": null,
            "order": null,
            "_view_module_version": "1.2.0",
            "grid_template_areas": null,
            "object_position": null,
            "object_fit": null,
            "grid_auto_columns": null,
            "margin": null,
            "display": null,
            "left": null
          }
        },
        "3fad7c7de2b741e2aa9de32c3d2a563b": {
          "model_module": "@jupyter-widgets/controls",
          "model_name": "ProgressStyleModel",
          "model_module_version": "1.5.0",
          "state": {
            "_view_name": "StyleView",
            "_model_name": "ProgressStyleModel",
            "description_width": "",
            "_view_module": "@jupyter-widgets/base",
            "_model_module_version": "1.5.0",
            "_view_count": null,
            "_view_module_version": "1.2.0",
            "bar_color": null,
            "_model_module": "@jupyter-widgets/controls"
          }
        },
        "54e29ffc371a4d4483462b9d7e9daa27": {
          "model_module": "@jupyter-widgets/base",
          "model_name": "LayoutModel",
          "model_module_version": "1.2.0",
          "state": {
            "_view_name": "LayoutView",
            "grid_template_rows": null,
            "right": null,
            "justify_content": null,
            "_view_module": "@jupyter-widgets/base",
            "overflow": null,
            "_model_module_version": "1.2.0",
            "_view_count": null,
            "flex_flow": null,
            "width": null,
            "min_width": null,
            "border": null,
            "align_items": null,
            "bottom": null,
            "_model_module": "@jupyter-widgets/base",
            "top": null,
            "grid_column": null,
            "overflow_y": null,
            "overflow_x": null,
            "grid_auto_flow": null,
            "grid_area": null,
            "grid_template_columns": null,
            "flex": null,
            "_model_name": "LayoutModel",
            "justify_items": null,
            "grid_row": null,
            "max_height": null,
            "align_content": null,
            "visibility": null,
            "align_self": null,
            "height": null,
            "min_height": null,
            "padding": null,
            "grid_auto_rows": null,
            "grid_gap": null,
            "max_width": null,
            "order": null,
            "_view_module_version": "1.2.0",
            "grid_template_areas": null,
            "object_position": null,
            "object_fit": null,
            "grid_auto_columns": null,
            "margin": null,
            "display": null,
            "left": null
          }
        }
      }
    }
  },
  "nbformat": 4,
  "nbformat_minor": 0
}
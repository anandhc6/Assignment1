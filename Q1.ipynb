{
  "nbformat": 4,
  "nbformat_minor": 0,
  "metadata": {
    "colab": {
      "name": "Q1.ipynb",
      "provenance": [],
      "authorship_tag": "ABX9TyM4CWim+jGLxY1lFEafVJ+e",
      "include_colab_link": true
    },
    "kernelspec": {
      "name": "python3",
      "display_name": "Python 3"
    },
    "language_info": {
      "name": "python"
    }
  },
  "cells": [
    {
      "cell_type": "markdown",
      "metadata": {
        "id": "view-in-github",
        "colab_type": "text"
      },
      "source": [
        "<a href=\"https://colab.research.google.com/github/anandhc6/Assignment1/blob/main/Q1.ipynb\" target=\"_parent\"><img src=\"https://colab.research.google.com/assets/colab-badge.svg\" alt=\"Open In Colab\"/></a>"
      ]
    },
    {
      "cell_type": "code",
      "execution_count": null,
      "metadata": {
        "id": "Jsb_Zehf2tRb"
      },
      "outputs": [],
      "source": [
        "import wandb\n",
        "from keras.datasets import fashion_mnist\n",
        "import numpy as np\n",
        "from matplotlib import pyplot as plt\n",
        "import random\n",
        "\n",
        "wandb.init(project='cs6910-assignment1-sweep', name = 'class-samples-1')\n",
        "\n",
        "(trainX, trainY), (testX, testY) = fashion_mnist.load_data()\n",
        "\n",
        "samples = []\n",
        "for classes in range(0,10):\n",
        "    s =[]\n",
        "    for i in range(len(testY)):\n",
        "        random_test = random.choice(testY)\n",
        "        if random_test == classes :\n",
        "            s = testX[i]\n",
        "            break\n",
        "    samples.append(s)\n",
        "    \n",
        "labels = ['T-shirt/top', 'Trouser', 'Pullover', 'Dress', 'Coat', 'Sandal', 'Shirt', 'Sneaker', 'Bag', 'Ankle boot']\n",
        "h=len(testX[0])\n",
        "w=len(testX[0])\n",
        "n_col = 5\n",
        "n_row = 2\n",
        "fig = plt.figure(figsize =(0.8 * n_col, 1.4 * n_row))\n",
        "plt.subplots_adjust(bottom = 0, left =.01, right =.99, top =.90, hspace =.35)\n",
        "for i in range(n_row * n_col):\n",
        "        plt.subplot(n_row, n_col, i + 1)\n",
        "        plt.title(labels[i])\n",
        "        plt.imshow(samples[i], cmap = plt.cm.gray)\n",
        "        plt.xticks(())\n",
        "        plt.yticks(())\n",
        "\n",
        "wandb.log({\"examples\": wandb.Image(fig)})\n",
        "wandb.finish()"
      ]
    }
  ]
}
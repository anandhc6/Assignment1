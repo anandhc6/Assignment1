{
  "nbformat": 4,
  "nbformat_minor": 0,
  "metadata": {
    "colab": {
      "name": "Assignment 1",
      "provenance": [],
      "collapsed_sections": [],
      "authorship_tag": "ABX9TyNrl00Gpv7FePkdnYu2KsOj",
      "include_colab_link": true
    },
    "kernelspec": {
      "name": "python3",
      "display_name": "Python 3"
    },
    "language_info": {
      "name": "python"
    }
  },
  "cells": [
    {
      "cell_type": "markdown",
      "metadata": {
        "id": "view-in-github",
        "colab_type": "text"
      },
      "source": [
        "<a href=\"https://colab.research.google.com/github/anandhc6/Assignment1/blob/main/Assignment_1.ipynb\" target=\"_parent\"><img src=\"https://colab.research.google.com/assets/colab-badge.svg\" alt=\"Open In Colab\"/></a>"
      ]
    },
    {
      "cell_type": "code",
      "execution_count": null,
      "metadata": {
        "id": "P_iRYe-nB_As"
      },
      "outputs": [],
      "source": [
        "pip install wandb"
      ]
    },
    {
      "cell_type": "code",
      "source": [
        "#import the dataset \n",
        "from keras.datasets import fashion_mnist\n",
        "#import the required libraries \n",
        "from matplotlib import pyplot\n",
        "import numpy as np\n",
        "#load the data into train and test \n",
        "(X_train,y_train),(X_test,y_test)=fashion_mnist.load_data()\n",
        "#pyplot.imshow(X_train[7])\n"
      ],
      "metadata": {
        "id": "_B3eU4e3Ndya"
      },
      "execution_count": null,
      "outputs": []
    },
    {
      "cell_type": "markdown",
      "source": [
        "Activation function"
      ],
      "metadata": {
        "id": "4qAwy3ZfDdMD"
      }
    },
    {
      "cell_type": "code",
      "source": [
        "def sigmoid(x):\n",
        "\treturn 1.0 / (1.0 + exp(-x))\n",
        " \n",
        " # rectified linear function\n",
        "def rectified(x):\n",
        "\treturn max(0.0, x)\n",
        " \n",
        " # tanh activation function\n",
        "def tanh(x):\n",
        "\treturn (exp(x) - exp(-x)) / (exp(x) + exp(-x))"
      ],
      "metadata": {
        "id": "z_BiOaaLW_Az"
      },
      "execution_count": null,
      "outputs": []
    },
    {
      "cell_type": "markdown",
      "source": [
        "Feedforward"
      ],
      "metadata": {
        "id": "eW4taBbHmPjG"
      }
    },
    {
      "cell_type": "code",
      "source": [
        "#!/usr/bin/env python3\n",
        "# -*- coding: utf-8 -*-\n",
        "\"\"\"\n",
        "Created on Fri Feb 18 17:56:37 2022\n",
        "\n",
        "@author: tenet\n",
        "\"\"\"\n",
        "\n",
        "import numpy as np\n",
        "from numpy import random\n",
        "from keras.datasets import fashion_mnist\n",
        "#import the required libraries \n",
        "from matplotlib import pyplot\n",
        "#load the data into train and test \n",
        "(X_train,y_train),(X_test,y_test)=fashion_mnist.load_data()\n",
        "n_examples = X_train.shape[0]\n",
        "print(n_examples)\n",
        "X_train = (1.0 / 255) * np.array([X_train[i].flatten() for i in range(0, X_train.shape[0])])\n",
        "la=[784,128,128,128,10]\n",
        "L=len(la)-1\n",
        "W={}\n",
        "b={}\n",
        "for i in range(1,L+1):\n",
        "    W[i]=random.uniform(0,1,size=(la[i],la[i-1]))\n",
        "    b[i]=random.uniform(0,1,size=la[i])\n",
        "#z=[1.5,2.5,3.5,4.5,5.5]\n",
        "#x=np.array(z)\n",
        "#y_tr=[0,1,2,3,4]\n",
        "#y_train=np.array(y_tr)\n",
        "a={}\n",
        "h={}\n",
        "def sigmoid(x):\n",
        "\treturn 1.0 / (1.0 + np.exp(-x))\n",
        "def softmax(X):\n",
        "  X=np.exp(X)\n",
        "  sum=np.sum(X)\n",
        "  return X/sum\n",
        "def feedforward(x):\n",
        "    h[0]=x.T\n",
        "    for i in range(1,L):\n",
        "        a[i]=np.dot(W[i],h[i-1])+b[i]\n",
        "        h[i]=sigmoid(a[i])\n",
        "    a[L]=np.dot(W[L],h[L-1])+b[L]\n",
        "    y_hat=softmax(a[L])\n",
        "    return (a,h,y_hat)\n",
        "y=[]\n",
        "pre,act,y=feedforward(X_train[0])"
      ],
      "metadata": {
        "id": "nlpUolgDmStt"
      },
      "execution_count": null,
      "outputs": []
    }
  ]
}
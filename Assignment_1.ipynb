{
  "nbformat": 4,
  "nbformat_minor": 0,
  "metadata": {
    "colab": {
      "name": "Assignment 1",
      "provenance": [],
      "collapsed_sections": [],
      "include_colab_link": true
    },
    "kernelspec": {
      "name": "python3",
      "display_name": "Python 3"
    },
    "language_info": {
      "name": "python"
    }
  },
  "cells": [
    {
      "cell_type": "markdown",
      "metadata": {
        "id": "view-in-github",
        "colab_type": "text"
      },
      "source": [
        "<a href=\"https://colab.research.google.com/github/anandhc6/Assignment1/blob/main/Assignment_1.ipynb\" target=\"_parent\"><img src=\"https://colab.research.google.com/assets/colab-badge.svg\" alt=\"Open In Colab\"/></a>"
      ]
    },
    {
      "cell_type": "code",
      "execution_count": null,
      "metadata": {
        "id": "P_iRYe-nB_As"
      },
      "outputs": [],
      "source": [
        "pip install wandb"
      ]
    },
    {
      "cell_type": "code",
      "source": [
        "import numpy as np\n",
        "from numpy import random\n",
        "from keras.datasets import fashion_mnist\n",
        "#import the required libraries\n",
        "from matplotlib import pyplot\n",
        "import math as math\n",
        "from sklearn.metrics import accuracy_score\n",
        "from sklearn.model_selection import train_test_split\n",
        "\n",
        "(X, y), (X_test, y_test) = fashion_mnist.load_data()\n",
        "\n",
        "# Reshaping the data \n",
        "X = X.reshape(X.shape[0], 784)\n",
        "X_test = X_test.reshape(X_test.shape[0], 784)\n",
        "\n",
        "# Normalizing\n",
        "X = X/255.0\n",
        "X_test = X_test/255.0\n",
        "\n",
        "# Split the data X into a training set and validation set\n",
        "X_train, X_val, y_train, y_val = train_test_split(X, y, test_size=0.1, random_state=42)\n",
        "\n",
        "#Layer dimensions\n",
        "la =[784,256,128,10]\n",
        "\n",
        "L=len(la)-1\n",
        "\n",
        "#weights and bias empty initializing\n",
        "np.random.seed(42)\n",
        "params={}"
      ],
      "metadata": {
        "id": "ydEbntHG1h5d"
      },
      "execution_count": null,
      "outputs": []
    },
    {
      "cell_type": "code",
      "source": [
        "def weight_initialize(weight_para):\n",
        "    if weight_para == 'Xavier':\n",
        "        for i in range(0,len(la)-1):\n",
        "            params[\"W\"+str(i)]=np.random.randn(la[i+1],la[i])*np.sqrt(2/la[i+1])\n",
        "            params[\"b\"+str(i)] = np.zeros((la[i+1], 1))\n",
        "    if weight_para == 'random':\n",
        "        for i in range(0,len(la)-1):\n",
        "            params[\"W\"+str(i)] = np.random.randn(la[i+1], la[i]) * 0.01\n",
        "            params[\"b\"+str(i)] = np.zeros((la[i+1], 1))"
      ],
      "metadata": {
        "id": "WDodQndr2D4e"
      },
      "execution_count": null,
      "outputs": []
    },
    {
      "cell_type": "code",
      "source": [
        "#Activation function     \n",
        "def sigmoid(x):\n",
        "     return 1. /(1. + np.exp(-x))\n",
        "\n",
        "def activation_function(x,activation):\n",
        "    if activation=='sigmoid':\n",
        "        return (1.0 / (1.0 + np.exp(-x)))\n",
        "    elif activation=='sigmoid_derivative':\n",
        "        return (activation_function(x,'sigmoid') * (1 - activation_function(x,'sigmoid')))\n",
        "    elif activation=='relu':\n",
        "        return x * (x > 0)\n",
        "    elif activation=='relu_derivative':\n",
        "        x[x <= 0.0] = 0.0\n",
        "        x[x > 0.0] = 1.0\n",
        "        return x\n",
        "    elif activation=='tanh':\n",
        "        return np.tanh(x)\n",
        "    elif activation=='tanh_derivative':\n",
        "        return 1 - (activation_function(x,'tanh') ** 2)\n",
        "    else:\n",
        "        raise Exception(\"Invalid activation function\",activation)\n",
        "def softmax(x):\n",
        "    soft = np.zeros(x.shape)\n",
        "    for i in range(0, x.shape[1]):\n",
        "        numr = np.exp(x[:, i])\n",
        "        soft[:, i] = numr/np.sum(numr)\n",
        "    return soft\n"
      ],
      "metadata": {
        "id": "rmUh2zQw2WV3"
      },
      "execution_count": null,
      "outputs": []
    },
    {
      "cell_type": "code",
      "source": [
        "def feedforward(X, params,activation_para):\n",
        "\n",
        "    L = len(params)//2  \n",
        "    A = [None]*L # activations\n",
        "    H = [None]*L # pre-activations\n",
        "     \n",
        "    k=0\n",
        "    A[0]=np.dot(params[\"W\"+str(k)],X)+params[\"b\"+str(k)]\n",
        "    H[0]=activation_function(A[k],activation_para)\n",
        "   \n",
        "    for k in range(1,L-1):\n",
        "            A[k]=np.dot(params[\"W\"+str(k)],H[k-1])+params[\"b\"+str(k)]\n",
        "            H[k]=activation_function(A[k],activation_para)\n",
        "   \n",
        "    k=L-1\n",
        "    A[k]=np.dot(params[\"W\"+str(k)],H[k-1])+params[\"b\"+str(k)]\n",
        "    H[k]=softmax(A[k])\n",
        "   \n",
        "    y=H[-1]\n",
        "    return A,H,y\n",
        "\n"
      ],
      "metadata": {
        "id": "6HqvllD72iO5"
      },
      "execution_count": null,
      "outputs": []
    },
    {
      "cell_type": "code",
      "source": [
        "\n",
        "def back_propagation(X_train,y_train,params,A ,H,activation_para,loss):\n",
        "    #Initialzing gradients\n",
        "    L = len(params)//2\n",
        "    #A = [None]*L # activations\n",
        "    #H = [None]*L\n",
        "    g_weights = [0]*L\n",
        "    g_biases  = [0]*L\n",
        "    g_a       = [0]*(L+1)\n",
        "    g_h       = [0]*(L+1)\n",
        "    n_samples = X_train.shape[0]  # Change depending on the dimensions of data\n",
        "   \n",
        "    # print(str(activation_para)+'_derivative')\n",
        "\n",
        "    for k in range(L-1,-1,-1): #2,1,0\n",
        "       \n",
        "        if k == L-1:\n",
        "            if loss == 'cross_entropy':\n",
        "                g_a[k] = H[k]  - y_train  # keep or remove T depending on the dimensions of data\n",
        "            elif loss == 'square_loss':\n",
        "                g_a[k] = (H[k] - y_train) * H[k] * (1 - H[k])\n",
        "           \n",
        "       \n",
        "        else:\n",
        "            g_h[k] = (1/n_samples)*np.dot(params[\"W\"+str(k+1)].T,g_a[k+1])\n",
        "            if activation_para == 'sigmoid':\n",
        "                g_a[k] = (1/n_samples)*np.multiply(g_h[k],activation_function(A[k], str(activation_para)+'_derivative'))\n",
        "            elif activation_para == 'tanh':\n",
        "                g_a[k] = (1/n_samples)*np.multiply(g_h[k],activation_function(A[k], str(activation_para)+'_derivative'))\n",
        "            elif  activation_para == 'relu':\n",
        "                g_a[k] = (1/n_samples)*np.multiply(g_h[k],activation_function(A[k], str(activation_para)+'_derivative'))\n",
        "\n",
        "\n",
        "        if k == 0:\n",
        "            g_weights[k] = (1/n_samples)*np.dot(g_a[k],X_train.T)\n",
        "        else:\n",
        "            g_weights[k] = (1/n_samples)*np.dot(g_a[k],H[k-1].T)\n",
        "\n",
        "        g_biases[k]  = (1/n_samples)*np.sum(g_a[k], axis=1, keepdims = True)\n",
        "    return g_weights,g_biases"
      ],
      "metadata": {
        "id": "bhShj3k52vvX"
      },
      "execution_count": 4,
      "outputs": []
    }
  ]
}
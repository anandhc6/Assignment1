{
  "nbformat": 4,
  "nbformat_minor": 0,
  "metadata": {
    "colab": {
      "name": "Assignment 1",
      "provenance": [],
      "collapsed_sections": [],
      "authorship_tag": "ABX9TyPRk1HMwziCweGJxHnshEfW",
      "include_colab_link": true
    },
    "kernelspec": {
      "name": "python3",
      "display_name": "Python 3"
    },
    "language_info": {
      "name": "python"
    }
  },
  "cells": [
    {
      "cell_type": "markdown",
      "metadata": {
        "id": "view-in-github",
        "colab_type": "text"
      },
      "source": [
        "<a href=\"https://colab.research.google.com/github/anandhc6/Assignment1/blob/main/Assignment_1.ipynb\" target=\"_parent\"><img src=\"https://colab.research.google.com/assets/colab-badge.svg\" alt=\"Open In Colab\"/></a>"
      ]
    },
    {
      "cell_type": "code",
      "execution_count": null,
      "metadata": {
        "id": "P_iRYe-nB_As"
      },
      "outputs": [],
      "source": [
        "pip install wandb\n"
      ]
    },
    {
      "cell_type": "code",
      "source": [
        "#import the dataset \n",
        "from keras.datasets import fashion_mnist\n",
        "#import the required libraries \n",
        "from matplotlib import pyplot\n",
        "import numpy as np\n",
        "#load the data into train and test \n",
        "(X_train,y_train),(X_test,y_test)=fashion_mnist.load_data()\n",
        "#pyplot.imshow(X_train[7])\n"
      ],
      "metadata": {
        "id": "_B3eU4e3Ndya"
      },
      "execution_count": 15,
      "outputs": []
    },
    {
      "cell_type": "markdown",
      "source": [
        "Activation function"
      ],
      "metadata": {
        "id": "4qAwy3ZfDdMD"
      }
    },
    {
      "cell_type": "code",
      "source": [
        "def sigmoid(x):\n",
        "\treturn 1.0 / (1.0 + exp(-x))\n",
        " \n",
        " # rectified linear function\n",
        "def rectified(x):\n",
        "\treturn max(0.0, x)\n",
        " \n",
        " # tanh activation function\n",
        "def tanh(x):\n",
        "\treturn (exp(x) - exp(-x)) / (exp(x) + exp(-x))"
      ],
      "metadata": {
        "id": "z_BiOaaLW_Az"
      },
      "execution_count": 16,
      "outputs": []
    },
    {
      "cell_type": "markdown",
      "source": [
        "Feedforward"
      ],
      "metadata": {
        "id": "eW4taBbHmPjG"
      }
    },
    {
      "cell_type": "code",
      "source": [
        "import numpy as np\n",
        "d=5\n",
        "n=10\n",
        "o=5\n",
        "W=np.empty(o*n)\n",
        "len(W)\n",
        "b=np.empty(n)"
      ],
      "metadata": {
        "id": "nlpUolgDmStt"
      },
      "execution_count": 11,
      "outputs": []
    }
  ]
}